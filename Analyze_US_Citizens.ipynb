{
  "cells": [
    {
      "cell_type": "markdown",
      "metadata": {
        "id": "RBgL2bqDjwN_"
      },
      "source": [
        "___\n",
        "\n",
        "## <p style=\"background-color:#FDFEFE; font-family:Arial; color:#060108; font-size:200%; text-align:center; border-radius:10px 10px;\">Data Analysis & Visualization with Python</p>\n",
        "\n",
        "## <p style=\"background-color:#FDFEFE; font-family:Arial; color:#060108; font-size:200%; text-align:center; border-radius:10px 10px;\">Project Solution</p>\n",
        "\n",
        "![image.png](https://i.ibb.co/mT1GG7j/US-citizen.jpg)\n",
        "\n",
        "## <p style=\"background-color:#FDFEFE; font-family:Arial; color:#060108; font-size:200%; text-align:center; border-radius:10px 10px;\">Analysis of US Citizens by Income Levels</p>"
      ]
    },
    {
      "cell_type": "markdown",
      "metadata": {
        "id": "8v0Y_rC3d8zY"
      },
      "source": [
        "<a id=\"toc\"></a>\n",
        "\n",
        "## <p style=\"background-color:#47AC34; font-family:Georgia; color:#FFFFFF; font-size:175%; text-align:center; border-radius:10px 10px;\">Content</p>\n",
        "\n",
        "* [Introduction](#0)\n",
        "* [Dataset Info](#1)\n",
        "* [Importing Related Libraries](#2)\n",
        "* [Recognizing & Understanding Data](#3)\n",
        "* [Univariate & Multivariate Analysis](#4)    \n",
        "* [Other Specific Analysis Questions](#5)\n",
        "* [Dropping Similar & Unneccessary Features](#6)\n",
        "* [Handling with Missing Values](#7)\n",
        "* [Handling with Outliers](#8)    \n",
        "* [Final Step to make ready dataset for ML Models](#9)\n",
        "* [The End of the Project](#10)"
      ]
    },
    {
      "cell_type": "markdown",
      "metadata": {
        "id": "wN-5l4z7jwN_"
      },
      "source": [
        "## <p style=\"background-color:#47AC34; font-family:Georgia; color:#FFF9ED; font-size:175%; text-align:center; border-radius:10px 10px;\">Introduction</p>\n",
        "\n",
        "<a id=\"0\"></a>\n",
        "<a href=\"#toc\" class=\"btn btn-primary btn-sm\" role=\"button\" aria-pressed=\"true\" \n",
        "style=\"color:#FFF9ED; background-color:#47AC34\" data-toggle=\"popover\">Content</a>\n",
        "\n",
        "One of the most important components to any data science experiment that doesn’t get as much importance as it should is **``Exploratory Data Analysis (EDA)``**. In short, EDA is **``\"A first look at the data\"``**. It is a critical step in analyzing the data from an experiment. It is used to understand and summarize the content of the dataset to ensure that the features which we feed to our machine learning algorithms are refined and we get valid, correctly interpreted results.\n",
        "In general, looking at a column of numbers or a whole spreadsheet and determining the important characteristics of the data can be very tedious and boring. Moreover, it is good practice to understand the problem statement and the data before you get your hands dirty, which in view, helps to gain a lot of insights. I will try to explain the concept using the Adult dataset/Census Income dataset available on the [UCI Machine Learning Repository](https://archive.ics.uci.edu/ml/datasets/Adult). The problem statement here is to predict whether the income exceeds 50k a year or not based on the census data.\n",
        "\n",
        "# Aim of the Project\n",
        "\n",
        "Applying Exploratory Data Analysis (EDA) and preparing the data to implement the Machine Learning Algorithms;\n",
        "1. Analyzing the characteristics of individuals according to income groups\n",
        "2. Preparing data to create a model that will predict the income levels of people according to their characteristics (So the \"salary\" feature is the target feature)"
      ]
    },
    {
      "cell_type": "markdown",
      "metadata": {
        "id": "XzZP-nZ5jwOA"
      },
      "source": [
        "## <p style=\"background-color:#47AC34; font-family:newtimeroman; color:#FFF9ED; font-size:175%; text-align:center; border-radius:10px 10px;\">Dataset Info</p>\n",
        "\n",
        "<a id=\"1\"></a>\n",
        "<a href=\"#toc\" class=\"btn btn-primary btn-sm\" role=\"button\" aria-pressed=\"true\" \n",
        "style=\"color:20b2aa; background-color:#47AC34\" data-toggle=\"popover\">Content</a>\n",
        "\n",
        "The Census Income dataset has 48,842 entries. Each entry contains the following information about an individual:\n",
        "\n",
        "- **salary (target feature/label):** whether or not an individual makes more than $50,000 annually. (<= 50K, >50K)\n",
        "- **age:** the age of an individual. (Integer greater than 0)\n",
        "- **workclass:** a general term to represent the employment status of an individual. (Private, Self-emp-not-inc, Self-emp-inc, Federal-gov, Local-gov, State-gov, Without-pay, Never-worked)\n",
        "- **fnlwgt:** this is the number of people the census believes the entry represents. People with similar demographic characteristics should have similar weights.  There is one important caveat to remember about this statement. That is that since the CPS sample is actually a collection of 51 state samples, each with its own probability of selection, the statement only applies within state.(Integer greater than 0)\n",
        "- **education:** the highest level of education achieved by an individual. (Bachelors, Some-college, 11th, HS-grad, Prof-school, Assoc-acdm, Assoc-voc, 9th, 7th-8th, 12th, Masters, 1st-4th, 10th, Doctorate, 5th-6th, Preschool.)\n",
        "- **education-num:** the highest level of education achieved in numerical form. (Integer greater than 0)\n",
        "- **marital-status:** marital status of an individual. Married-civ-spouse corresponds to a civilian spouse while Married-AF-spouse is a spouse in the Armed Forces. Married-spouse-absent includes married people living apart because either the husband or wife was employed and living at a considerable distance from home (Married-civ-spouse, Divorced, Never-married, Separated, Widowed, Married-spouse-absent, Married-AF-spouse)\n",
        "- **occupation:** the general type of occupation of an individual. (Tech-support, Craft-repair, Other-service, Sales, Exec-managerial, Prof-specialty, Handlers-cleaners, Machine-op-inspct, Adm-clerical, Farming-fishing, Transport-moving, Priv-house-serv, Protective-serv, Armed-Forces)\n",
        "- **relationship:** represents what this individual is relative to others. For example an individual could be a Husband. Each entry only has one relationship attribute. (Wife, Own-child, Husband, Not-in-family, Other-relative, Unmarried)\n",
        "- **race:** Descriptions of an individual’s race. (White, Asian-Pac-Islander, Amer-Indian-Eskimo, Other, Black)\n",
        "- **sex:** the biological sex of the individual. (Male, female)\n",
        "- **capital-gain:** capital gains for an individual. (Integer greater than or equal to 0)\n",
        "- **capital-loss:** capital loss for an individual. (Integer greater than or equal to 0)\n",
        "- **hours-per-week:** the hours an individual has reported to work per week. (continuous)\n",
        "- **native-country:** country of origin for an individual (United-States, Cambodia, England, Puerto-Rico, Canada, Germany, Outlying-US(Guam-USVI-etc), India, Japan, Greece, South, China, Cuba, Iran, Honduras, Philippines, Italy, Poland, Jamaica, Vietnam, Mexico, Portugal, Ireland, France, Dominican-Republic, Laos, Ecuador, Taiwan, Haiti, Columbia, Hungary, Guatemala, Nicaragua, Scotland, Thailand, Yugoslavia, El-Salvador, Trinadad&Tobago, Peru, Hong, Holand-Netherlands)"
      ]
    },
    {
      "cell_type": "markdown",
      "metadata": {
        "id": "qVPX3KREd8zg"
      },
      "source": [
        "## <p style=\"background-color:#47AC34; font-family:Georgia; color:#FFF9ED; font-size:175%; text-align:center; border-radius:10px 10px;\">How to Installing/Enabling Intellisense or Autocomplete in Jupyter Notebook</p>\n",
        "\n",
        "### Installing [jupyter_contrib_nbextensions](https://jupyter-contrib-nbextensions.readthedocs.io/en/latest/install.html)\n",
        "\n",
        "**To install the current version from The Python Package Index (PyPI), which is a repository of software for the Python programming language, simply type:**\n",
        "\n",
        "!pip install jupyter_contrib_nbextensions\n",
        "\n",
        "**Alternatively, you can install directly from the current master branch of the repository:**\n",
        "\n",
        "!pip install https://github.com/ipython-contrib/jupyter_contrib_nbextensions/tarball/master\n",
        "\n",
        "### Enabling [Intellisense or Autocomplete in Jupyter Notebook](https://botbark.com/2019/12/18/how-to-enable-intellisense-or-autocomplete-in-jupyter-notebook/)\n",
        "\n",
        "\n",
        "### Installing hinterland for jupyter without anaconda\n",
        "\n",
        "**``STEP 1:``** ``Open cmd prompt and run the following commands``\n",
        " 1) pip install jupyter_contrib_nbextensions<br>\n",
        " 2) pip install jupyter_nbextensions_configurator<br>\n",
        " 3) jupyter contrib nbextension install --user<br> \n",
        " 4) jupyter nbextensions_configurator enable --user<br>\n",
        "\n",
        "**``STEP 2:``** ``Open jupyter notebook``\n",
        " - click on nbextensions tab<br>\n",
        " - unckeck disable configuration for nbextensions without explicit compatibility<br>\n",
        " - put a check on Hinterland<br>\n",
        "\n",
        "**``Step 3:``** ``Open new python file and check autocomplete feature``\n",
        "\n",
        "[VIDEO SOURCE](https://www.youtube.com/watch?v=DKE8hED0fow)\n",
        "\n",
        "![Image_Assignment](https://i.ibb.co/RbmDmD6/E8-EED4-F3-B3-F4-4571-B6-A0-1-B3224-AAB060-4-5005-c.jpg)"
      ]
    },
    {
      "cell_type": "markdown",
      "metadata": {
        "id": "rvbIoNsjjwOD"
      },
      "source": [
        "## <p style=\"background-color:#47AC34; font-family:newtimeroman; color:#FFF9ED; font-size:175%; text-align:center; border-radius:10px 10px;\">Importing Related Libraries</p>\n",
        "\n",
        "<a id=\"2\"></a>\n",
        "<a href=\"#toc\" class=\"btn btn-primary btn-sm\" role=\"button\" aria-pressed=\"true\" \n",
        "style=\"color:white; background-color:#47AC34\" data-toggle=\"popover\">Content</a>\n",
        "\n",
        "Once you've installed NumPy & Pandas you can import them as a library:"
      ]
    },
    {
      "cell_type": "code",
      "execution_count": null,
      "metadata": {
        "id": "p7_KEHrAjwOE"
      },
      "outputs": [],
      "source": [
        "import numpy as np\n",
        "import pandas as pd\n",
        "import matplotlib.pyplot as plt\n",
        "import seaborn as sns\n",
        "\n",
        "import warnings\n",
        "warnings.filterwarnings(\"ignore\")\n",
        "warnings.warn(\"this will not show\")\n",
        "\n",
        "plt.rcParams[\"figure.figsize\"] = (10, 6)\n",
        "\n",
        "sns.set_style(\"whitegrid\")\n",
        "pd.set_option('display.float_format', lambda x: '%.3f' % x)\n",
        "\n",
        "# Set it None to display all rows in the dataframe\n",
        "# pd.set_option('display.max_rows', None)\n",
        "\n",
        "# Set it to None to display all columns in the dataframe\n",
        "pd.set_option('display.max_columns', None)"
      ]
    },
    {
      "cell_type": "markdown",
      "metadata": {
        "id": "12VFNmTfjwOG"
      },
      "source": [
        "### <p style=\"background-color:#47AC34; font-family:newtimeroman; color:#FFF9ED; font-size:150%; text-align:left; border-radius:10px 10px;\">Reading the data from file</p>"
      ]
    },
    {
      "cell_type": "code",
      "execution_count": null,
      "metadata": {
        "id": "p0ntrObJjwOG"
      },
      "outputs": [],
      "source": [
        "df = pd.read_csv(\"adult.csv\")"
      ]
    },
    {
      "cell_type": "code",
      "source": [
        "df.head(1)"
      ],
      "metadata": {
        "colab": {
          "base_uri": "https://localhost:8080/",
          "height": 142
        },
        "id": "uYlx5VYjsL31",
        "outputId": "507b982a-7d91-4a0c-f6ac-64a4a3cca018"
      },
      "execution_count": null,
      "outputs": [
        {
          "output_type": "execute_result",
          "data": {
            "text/plain": [
              "   age  workclass  fnlwgt  education  education-num marital-status  \\\n",
              "0   39  State-gov   77516  Bachelors         13.000  Never-married   \n",
              "\n",
              "     occupation   relationship   race   sex  capital-gain  capital-loss  \\\n",
              "0  Adm-clerical  Not-in-family  White  Male          2174             0   \n",
              "\n",
              "   hours-per-week native-country salary  \n",
              "0              40  United-States  <=50K  "
            ],
            "text/html": [
              "\n",
              "  <div id=\"df-9cb940c4-95ab-4581-b839-eab7b5b2a4fe\">\n",
              "    <div class=\"colab-df-container\">\n",
              "      <div>\n",
              "<style scoped>\n",
              "    .dataframe tbody tr th:only-of-type {\n",
              "        vertical-align: middle;\n",
              "    }\n",
              "\n",
              "    .dataframe tbody tr th {\n",
              "        vertical-align: top;\n",
              "    }\n",
              "\n",
              "    .dataframe thead th {\n",
              "        text-align: right;\n",
              "    }\n",
              "</style>\n",
              "<table border=\"1\" class=\"dataframe\">\n",
              "  <thead>\n",
              "    <tr style=\"text-align: right;\">\n",
              "      <th></th>\n",
              "      <th>age</th>\n",
              "      <th>workclass</th>\n",
              "      <th>fnlwgt</th>\n",
              "      <th>education</th>\n",
              "      <th>education-num</th>\n",
              "      <th>marital-status</th>\n",
              "      <th>occupation</th>\n",
              "      <th>relationship</th>\n",
              "      <th>race</th>\n",
              "      <th>sex</th>\n",
              "      <th>capital-gain</th>\n",
              "      <th>capital-loss</th>\n",
              "      <th>hours-per-week</th>\n",
              "      <th>native-country</th>\n",
              "      <th>salary</th>\n",
              "    </tr>\n",
              "  </thead>\n",
              "  <tbody>\n",
              "    <tr>\n",
              "      <th>0</th>\n",
              "      <td>39</td>\n",
              "      <td>State-gov</td>\n",
              "      <td>77516</td>\n",
              "      <td>Bachelors</td>\n",
              "      <td>13.000</td>\n",
              "      <td>Never-married</td>\n",
              "      <td>Adm-clerical</td>\n",
              "      <td>Not-in-family</td>\n",
              "      <td>White</td>\n",
              "      <td>Male</td>\n",
              "      <td>2174</td>\n",
              "      <td>0</td>\n",
              "      <td>40</td>\n",
              "      <td>United-States</td>\n",
              "      <td>&lt;=50K</td>\n",
              "    </tr>\n",
              "  </tbody>\n",
              "</table>\n",
              "</div>\n",
              "      <button class=\"colab-df-convert\" onclick=\"convertToInteractive('df-9cb940c4-95ab-4581-b839-eab7b5b2a4fe')\"\n",
              "              title=\"Convert this dataframe to an interactive table.\"\n",
              "              style=\"display:none;\">\n",
              "        \n",
              "  <svg xmlns=\"http://www.w3.org/2000/svg\" height=\"24px\"viewBox=\"0 0 24 24\"\n",
              "       width=\"24px\">\n",
              "    <path d=\"M0 0h24v24H0V0z\" fill=\"none\"/>\n",
              "    <path d=\"M18.56 5.44l.94 2.06.94-2.06 2.06-.94-2.06-.94-.94-2.06-.94 2.06-2.06.94zm-11 1L8.5 8.5l.94-2.06 2.06-.94-2.06-.94L8.5 2.5l-.94 2.06-2.06.94zm10 10l.94 2.06.94-2.06 2.06-.94-2.06-.94-.94-2.06-.94 2.06-2.06.94z\"/><path d=\"M17.41 7.96l-1.37-1.37c-.4-.4-.92-.59-1.43-.59-.52 0-1.04.2-1.43.59L10.3 9.45l-7.72 7.72c-.78.78-.78 2.05 0 2.83L4 21.41c.39.39.9.59 1.41.59.51 0 1.02-.2 1.41-.59l7.78-7.78 2.81-2.81c.8-.78.8-2.07 0-2.86zM5.41 20L4 18.59l7.72-7.72 1.47 1.35L5.41 20z\"/>\n",
              "  </svg>\n",
              "      </button>\n",
              "      \n",
              "  <style>\n",
              "    .colab-df-container {\n",
              "      display:flex;\n",
              "      flex-wrap:wrap;\n",
              "      gap: 12px;\n",
              "    }\n",
              "\n",
              "    .colab-df-convert {\n",
              "      background-color: #E8F0FE;\n",
              "      border: none;\n",
              "      border-radius: 50%;\n",
              "      cursor: pointer;\n",
              "      display: none;\n",
              "      fill: #1967D2;\n",
              "      height: 32px;\n",
              "      padding: 0 0 0 0;\n",
              "      width: 32px;\n",
              "    }\n",
              "\n",
              "    .colab-df-convert:hover {\n",
              "      background-color: #E2EBFA;\n",
              "      box-shadow: 0px 1px 2px rgba(60, 64, 67, 0.3), 0px 1px 3px 1px rgba(60, 64, 67, 0.15);\n",
              "      fill: #174EA6;\n",
              "    }\n",
              "\n",
              "    [theme=dark] .colab-df-convert {\n",
              "      background-color: #3B4455;\n",
              "      fill: #D2E3FC;\n",
              "    }\n",
              "\n",
              "    [theme=dark] .colab-df-convert:hover {\n",
              "      background-color: #434B5C;\n",
              "      box-shadow: 0px 1px 3px 1px rgba(0, 0, 0, 0.15);\n",
              "      filter: drop-shadow(0px 1px 2px rgba(0, 0, 0, 0.3));\n",
              "      fill: #FFFFFF;\n",
              "    }\n",
              "  </style>\n",
              "\n",
              "      <script>\n",
              "        const buttonEl =\n",
              "          document.querySelector('#df-9cb940c4-95ab-4581-b839-eab7b5b2a4fe button.colab-df-convert');\n",
              "        buttonEl.style.display =\n",
              "          google.colab.kernel.accessAllowed ? 'block' : 'none';\n",
              "\n",
              "        async function convertToInteractive(key) {\n",
              "          const element = document.querySelector('#df-9cb940c4-95ab-4581-b839-eab7b5b2a4fe');\n",
              "          const dataTable =\n",
              "            await google.colab.kernel.invokeFunction('convertToInteractive',\n",
              "                                                     [key], {});\n",
              "          if (!dataTable) return;\n",
              "\n",
              "          const docLinkHtml = 'Like what you see? Visit the ' +\n",
              "            '<a target=\"_blank\" href=https://colab.research.google.com/notebooks/data_table.ipynb>data table notebook</a>'\n",
              "            + ' to learn more about interactive tables.';\n",
              "          element.innerHTML = '';\n",
              "          dataTable['output_type'] = 'display_data';\n",
              "          await google.colab.output.renderOutput(dataTable, element);\n",
              "          const docLink = document.createElement('div');\n",
              "          docLink.innerHTML = docLinkHtml;\n",
              "          element.appendChild(docLink);\n",
              "        }\n",
              "      </script>\n",
              "    </div>\n",
              "  </div>\n",
              "  "
            ]
          },
          "metadata": {},
          "execution_count": 4
        }
      ]
    },
    {
      "cell_type": "code",
      "source": [
        "df.columns"
      ],
      "metadata": {
        "colab": {
          "base_uri": "https://localhost:8080/"
        },
        "id": "rnTqxDsHszOD",
        "outputId": "8da06b24-1f26-4c50-eab1-467991d9343f"
      },
      "execution_count": null,
      "outputs": [
        {
          "output_type": "execute_result",
          "data": {
            "text/plain": [
              "Index(['age', 'workclass', 'fnlwgt', 'education', 'education-num',\n",
              "       'marital-status', 'occupation', 'relationship', 'race', 'sex',\n",
              "       'capital-gain', 'capital-loss', 'hours-per-week', 'native-country',\n",
              "       'salary'],\n",
              "      dtype='object')"
            ]
          },
          "metadata": {},
          "execution_count": 6
        }
      ]
    },
    {
      "cell_type": "markdown",
      "metadata": {
        "id": "Y_VGwqWCjwOH"
      },
      "source": [
        "## <p style=\"background-color:#47AC34; font-family:Georgia; color:#FFF9ED; font-size:150%; text-align:center; border-radius:10px 10px;\">Recognizing and Understanding Data</p>\n",
        "\n",
        "<a id=\"3\"></a>\n",
        "<a href=\"#toc\" class=\"btn btn-primary btn-sm\" role=\"button\" aria-pressed=\"true\" \n",
        "style=\"color:white; background-color:#47AC34\" data-toggle=\"popover\">Content</a>\n",
        "\n",
        "### 1.Try to understand what the data looks like\n",
        "- Check the head, shape, data-types of the features.\n",
        "- Check if there are some dublicate rows or not. If there are, then drop them. \n",
        "- Check the statistical values of features.\n",
        "- If needed, rename the columns' names for easy use. \n",
        "- Basically check the missing values."
      ]
    },
    {
      "cell_type": "code",
      "execution_count": null,
      "metadata": {
        "id": "OOBfAoAXd8zt",
        "colab": {
          "base_uri": "https://localhost:8080/",
          "height": 354
        },
        "outputId": "34668efb-059e-45c9-b1dc-221e558e172e"
      },
      "outputs": [
        {
          "output_type": "execute_result",
          "data": {
            "text/plain": [
              "   age         workclass  fnlwgt  education  education-num  \\\n",
              "0   39         State-gov   77516  Bachelors         13.000   \n",
              "1   50  Self-emp-not-inc   83311  Bachelors         13.000   \n",
              "2   38           Private  215646    HS-grad          9.000   \n",
              "3   53           Private  234721       11th          7.000   \n",
              "4   28           Private  338409  Bachelors         13.000   \n",
              "\n",
              "       marital-status         occupation   relationship   race     sex  \\\n",
              "0       Never-married       Adm-clerical  Not-in-family  White    Male   \n",
              "1  Married-civ-spouse    Exec-managerial        Husband  White    Male   \n",
              "2            Divorced  Handlers-cleaners  Not-in-family  White    Male   \n",
              "3  Married-civ-spouse  Handlers-cleaners        Husband  Black    Male   \n",
              "4  Married-civ-spouse     Prof-specialty           Wife  Black  Female   \n",
              "\n",
              "   capital-gain  capital-loss  hours-per-week native-country salary  \n",
              "0          2174             0              40  United-States  <=50K  \n",
              "1             0             0              13  United-States  <=50K  \n",
              "2             0             0              40  United-States  <=50K  \n",
              "3             0             0              40  United-States  <=50K  \n",
              "4             0             0              40           Cuba  <=50K  "
            ],
            "text/html": [
              "\n",
              "  <div id=\"df-b56982fe-ff8a-4f6a-a894-88a9ffc9b4c8\">\n",
              "    <div class=\"colab-df-container\">\n",
              "      <div>\n",
              "<style scoped>\n",
              "    .dataframe tbody tr th:only-of-type {\n",
              "        vertical-align: middle;\n",
              "    }\n",
              "\n",
              "    .dataframe tbody tr th {\n",
              "        vertical-align: top;\n",
              "    }\n",
              "\n",
              "    .dataframe thead th {\n",
              "        text-align: right;\n",
              "    }\n",
              "</style>\n",
              "<table border=\"1\" class=\"dataframe\">\n",
              "  <thead>\n",
              "    <tr style=\"text-align: right;\">\n",
              "      <th></th>\n",
              "      <th>age</th>\n",
              "      <th>workclass</th>\n",
              "      <th>fnlwgt</th>\n",
              "      <th>education</th>\n",
              "      <th>education-num</th>\n",
              "      <th>marital-status</th>\n",
              "      <th>occupation</th>\n",
              "      <th>relationship</th>\n",
              "      <th>race</th>\n",
              "      <th>sex</th>\n",
              "      <th>capital-gain</th>\n",
              "      <th>capital-loss</th>\n",
              "      <th>hours-per-week</th>\n",
              "      <th>native-country</th>\n",
              "      <th>salary</th>\n",
              "    </tr>\n",
              "  </thead>\n",
              "  <tbody>\n",
              "    <tr>\n",
              "      <th>0</th>\n",
              "      <td>39</td>\n",
              "      <td>State-gov</td>\n",
              "      <td>77516</td>\n",
              "      <td>Bachelors</td>\n",
              "      <td>13.000</td>\n",
              "      <td>Never-married</td>\n",
              "      <td>Adm-clerical</td>\n",
              "      <td>Not-in-family</td>\n",
              "      <td>White</td>\n",
              "      <td>Male</td>\n",
              "      <td>2174</td>\n",
              "      <td>0</td>\n",
              "      <td>40</td>\n",
              "      <td>United-States</td>\n",
              "      <td>&lt;=50K</td>\n",
              "    </tr>\n",
              "    <tr>\n",
              "      <th>1</th>\n",
              "      <td>50</td>\n",
              "      <td>Self-emp-not-inc</td>\n",
              "      <td>83311</td>\n",
              "      <td>Bachelors</td>\n",
              "      <td>13.000</td>\n",
              "      <td>Married-civ-spouse</td>\n",
              "      <td>Exec-managerial</td>\n",
              "      <td>Husband</td>\n",
              "      <td>White</td>\n",
              "      <td>Male</td>\n",
              "      <td>0</td>\n",
              "      <td>0</td>\n",
              "      <td>13</td>\n",
              "      <td>United-States</td>\n",
              "      <td>&lt;=50K</td>\n",
              "    </tr>\n",
              "    <tr>\n",
              "      <th>2</th>\n",
              "      <td>38</td>\n",
              "      <td>Private</td>\n",
              "      <td>215646</td>\n",
              "      <td>HS-grad</td>\n",
              "      <td>9.000</td>\n",
              "      <td>Divorced</td>\n",
              "      <td>Handlers-cleaners</td>\n",
              "      <td>Not-in-family</td>\n",
              "      <td>White</td>\n",
              "      <td>Male</td>\n",
              "      <td>0</td>\n",
              "      <td>0</td>\n",
              "      <td>40</td>\n",
              "      <td>United-States</td>\n",
              "      <td>&lt;=50K</td>\n",
              "    </tr>\n",
              "    <tr>\n",
              "      <th>3</th>\n",
              "      <td>53</td>\n",
              "      <td>Private</td>\n",
              "      <td>234721</td>\n",
              "      <td>11th</td>\n",
              "      <td>7.000</td>\n",
              "      <td>Married-civ-spouse</td>\n",
              "      <td>Handlers-cleaners</td>\n",
              "      <td>Husband</td>\n",
              "      <td>Black</td>\n",
              "      <td>Male</td>\n",
              "      <td>0</td>\n",
              "      <td>0</td>\n",
              "      <td>40</td>\n",
              "      <td>United-States</td>\n",
              "      <td>&lt;=50K</td>\n",
              "    </tr>\n",
              "    <tr>\n",
              "      <th>4</th>\n",
              "      <td>28</td>\n",
              "      <td>Private</td>\n",
              "      <td>338409</td>\n",
              "      <td>Bachelors</td>\n",
              "      <td>13.000</td>\n",
              "      <td>Married-civ-spouse</td>\n",
              "      <td>Prof-specialty</td>\n",
              "      <td>Wife</td>\n",
              "      <td>Black</td>\n",
              "      <td>Female</td>\n",
              "      <td>0</td>\n",
              "      <td>0</td>\n",
              "      <td>40</td>\n",
              "      <td>Cuba</td>\n",
              "      <td>&lt;=50K</td>\n",
              "    </tr>\n",
              "  </tbody>\n",
              "</table>\n",
              "</div>\n",
              "      <button class=\"colab-df-convert\" onclick=\"convertToInteractive('df-b56982fe-ff8a-4f6a-a894-88a9ffc9b4c8')\"\n",
              "              title=\"Convert this dataframe to an interactive table.\"\n",
              "              style=\"display:none;\">\n",
              "        \n",
              "  <svg xmlns=\"http://www.w3.org/2000/svg\" height=\"24px\"viewBox=\"0 0 24 24\"\n",
              "       width=\"24px\">\n",
              "    <path d=\"M0 0h24v24H0V0z\" fill=\"none\"/>\n",
              "    <path d=\"M18.56 5.44l.94 2.06.94-2.06 2.06-.94-2.06-.94-.94-2.06-.94 2.06-2.06.94zm-11 1L8.5 8.5l.94-2.06 2.06-.94-2.06-.94L8.5 2.5l-.94 2.06-2.06.94zm10 10l.94 2.06.94-2.06 2.06-.94-2.06-.94-.94-2.06-.94 2.06-2.06.94z\"/><path d=\"M17.41 7.96l-1.37-1.37c-.4-.4-.92-.59-1.43-.59-.52 0-1.04.2-1.43.59L10.3 9.45l-7.72 7.72c-.78.78-.78 2.05 0 2.83L4 21.41c.39.39.9.59 1.41.59.51 0 1.02-.2 1.41-.59l7.78-7.78 2.81-2.81c.8-.78.8-2.07 0-2.86zM5.41 20L4 18.59l7.72-7.72 1.47 1.35L5.41 20z\"/>\n",
              "  </svg>\n",
              "      </button>\n",
              "      \n",
              "  <style>\n",
              "    .colab-df-container {\n",
              "      display:flex;\n",
              "      flex-wrap:wrap;\n",
              "      gap: 12px;\n",
              "    }\n",
              "\n",
              "    .colab-df-convert {\n",
              "      background-color: #E8F0FE;\n",
              "      border: none;\n",
              "      border-radius: 50%;\n",
              "      cursor: pointer;\n",
              "      display: none;\n",
              "      fill: #1967D2;\n",
              "      height: 32px;\n",
              "      padding: 0 0 0 0;\n",
              "      width: 32px;\n",
              "    }\n",
              "\n",
              "    .colab-df-convert:hover {\n",
              "      background-color: #E2EBFA;\n",
              "      box-shadow: 0px 1px 2px rgba(60, 64, 67, 0.3), 0px 1px 3px 1px rgba(60, 64, 67, 0.15);\n",
              "      fill: #174EA6;\n",
              "    }\n",
              "\n",
              "    [theme=dark] .colab-df-convert {\n",
              "      background-color: #3B4455;\n",
              "      fill: #D2E3FC;\n",
              "    }\n",
              "\n",
              "    [theme=dark] .colab-df-convert:hover {\n",
              "      background-color: #434B5C;\n",
              "      box-shadow: 0px 1px 3px 1px rgba(0, 0, 0, 0.15);\n",
              "      filter: drop-shadow(0px 1px 2px rgba(0, 0, 0, 0.3));\n",
              "      fill: #FFFFFF;\n",
              "    }\n",
              "  </style>\n",
              "\n",
              "      <script>\n",
              "        const buttonEl =\n",
              "          document.querySelector('#df-b56982fe-ff8a-4f6a-a894-88a9ffc9b4c8 button.colab-df-convert');\n",
              "        buttonEl.style.display =\n",
              "          google.colab.kernel.accessAllowed ? 'block' : 'none';\n",
              "\n",
              "        async function convertToInteractive(key) {\n",
              "          const element = document.querySelector('#df-b56982fe-ff8a-4f6a-a894-88a9ffc9b4c8');\n",
              "          const dataTable =\n",
              "            await google.colab.kernel.invokeFunction('convertToInteractive',\n",
              "                                                     [key], {});\n",
              "          if (!dataTable) return;\n",
              "\n",
              "          const docLinkHtml = 'Like what you see? Visit the ' +\n",
              "            '<a target=\"_blank\" href=https://colab.research.google.com/notebooks/data_table.ipynb>data table notebook</a>'\n",
              "            + ' to learn more about interactive tables.';\n",
              "          element.innerHTML = '';\n",
              "          dataTable['output_type'] = 'display_data';\n",
              "          await google.colab.output.renderOutput(dataTable, element);\n",
              "          const docLink = document.createElement('div');\n",
              "          docLink.innerHTML = docLinkHtml;\n",
              "          element.appendChild(docLink);\n",
              "        }\n",
              "      </script>\n",
              "    </div>\n",
              "  </div>\n",
              "  "
            ]
          },
          "metadata": {},
          "execution_count": 7
        }
      ],
      "source": [
        "# Your Code is Here\n",
        "df.head()\n"
      ]
    },
    {
      "cell_type": "markdown",
      "metadata": {
        "id": "6Vgs4e6ud8zv"
      },
      "source": [
        "Desired Output:\n",
        "\n",
        "![image.png](https://i.ibb.co/qFn8RZs/US-Citicens1.png)"
      ]
    },
    {
      "cell_type": "code",
      "execution_count": null,
      "metadata": {
        "id": "0fnw4Gtbd8zx",
        "colab": {
          "base_uri": "https://localhost:8080/"
        },
        "outputId": "93b7ac7b-6679-49a8-f88e-8a3022b1dd23"
      },
      "outputs": [
        {
          "output_type": "execute_result",
          "data": {
            "text/plain": [
              "(32561, 15)"
            ]
          },
          "metadata": {},
          "execution_count": 8
        }
      ],
      "source": [
        "# Your Code is Here\n",
        "df.shape\n"
      ]
    },
    {
      "cell_type": "raw",
      "metadata": {
        "id": "cCmcqp1ud8zy"
      },
      "source": [
        "Desired Output:\n",
        "\n",
        "(32561, 15)"
      ]
    },
    {
      "cell_type": "code",
      "execution_count": null,
      "metadata": {
        "id": "04PJXBUWd8zz",
        "colab": {
          "base_uri": "https://localhost:8080/"
        },
        "outputId": "72985ac9-9cb9-4426-8bf1-a8190bc70d61"
      },
      "outputs": [
        {
          "output_type": "stream",
          "name": "stdout",
          "text": [
            "<class 'pandas.core.frame.DataFrame'>\n",
            "RangeIndex: 32561 entries, 0 to 32560\n",
            "Data columns (total 15 columns):\n",
            " #   Column          Non-Null Count  Dtype  \n",
            "---  ------          --------------  -----  \n",
            " 0   age             32561 non-null  int64  \n",
            " 1   workclass       32561 non-null  object \n",
            " 2   fnlwgt          32561 non-null  int64  \n",
            " 3   education       32561 non-null  object \n",
            " 4   education-num   31759 non-null  float64\n",
            " 5   marital-status  32561 non-null  object \n",
            " 6   occupation      32561 non-null  object \n",
            " 7   relationship    27493 non-null  object \n",
            " 8   race            32561 non-null  object \n",
            " 9   sex             32561 non-null  object \n",
            " 10  capital-gain    32561 non-null  int64  \n",
            " 11  capital-loss    32561 non-null  int64  \n",
            " 12  hours-per-week  32561 non-null  int64  \n",
            " 13  native-country  32561 non-null  object \n",
            " 14  salary          32561 non-null  object \n",
            "dtypes: float64(1), int64(5), object(9)\n",
            "memory usage: 3.7+ MB\n"
          ]
        }
      ],
      "source": [
        "# Your Code is Here\n",
        "df.info()\n"
      ]
    },
    {
      "cell_type": "raw",
      "metadata": {
        "id": "bNy6CNWFd8z0"
      },
      "source": [
        "Desired Output:\n",
        "\n",
        "<class 'pandas.core.frame.DataFrame'>\n",
        "RangeIndex: 32561 entries, 0 to 32560\n",
        "Data columns (total 15 columns):\n",
        " #   Column          Non-Null Count  Dtype  \n",
        "---  ------          --------------  -----  \n",
        " 0   age             32561 non-null  int64  \n",
        " 1   workclass       32561 non-null  object \n",
        " 2   fnlwgt          32561 non-null  int64  \n",
        " 3   education       32561 non-null  object \n",
        " 4   education-num   31759 non-null  float64\n",
        " 5   marital-status  32561 non-null  object \n",
        " 6   occupation      32561 non-null  object \n",
        " 7   relationship    27493 non-null  object \n",
        " 8   race            32561 non-null  object \n",
        " 9   sex             32561 non-null  object \n",
        " 10  capital-gain    32561 non-null  int64  \n",
        " 11  capital-loss    32561 non-null  int64  \n",
        " 12  hours-per-week  32561 non-null  int64  \n",
        " 13  native-country  32561 non-null  object \n",
        " 14  salary          32561 non-null  object \n",
        "dtypes: float64(1), int64(5), object(9)\n",
        "memory usage: 3.7+ MB"
      ]
    },
    {
      "cell_type": "code",
      "execution_count": null,
      "metadata": {
        "id": "rgvo9g-qd8z1",
        "colab": {
          "base_uri": "https://localhost:8080/"
        },
        "outputId": "9da09391-f503-47ed-e376-37dc1ddfe6a3"
      },
      "outputs": [
        {
          "output_type": "execute_result",
          "data": {
            "text/plain": [
              "24"
            ]
          },
          "metadata": {},
          "execution_count": 49
        }
      ],
      "source": [
        "# Check if the Dataset have any Duplicate\n",
        "\n",
        "df.duplicated().sum()\n"
      ]
    },
    {
      "cell_type": "raw",
      "metadata": {
        "id": "dqGn7BtNd8z3"
      },
      "source": [
        "Desired Output:\n",
        "\n",
        "False    32537\n",
        "True        24\n",
        "dtype: int64"
      ]
    },
    {
      "cell_type": "code",
      "execution_count": null,
      "metadata": {
        "id": "uxBWfiExd8z4",
        "colab": {
          "base_uri": "https://localhost:8080/",
          "height": 659
        },
        "outputId": "6ef7b7d6-b10c-4813-e1e6-89b6f534c6df"
      },
      "outputs": [
        {
          "output_type": "execute_result",
          "data": {
            "text/plain": [
              "       age         workclass  fnlwgt   education  education-num  \\\n",
              "0       39         State-gov   77516   Bachelors         13.000   \n",
              "1       50  Self-emp-not-inc   83311   Bachelors         13.000   \n",
              "2       38           Private  215646     HS-grad          9.000   \n",
              "3       53           Private  234721        11th          7.000   \n",
              "4       28           Private  338409   Bachelors         13.000   \n",
              "...    ...               ...     ...         ...            ...   \n",
              "32556   27           Private  257302  Assoc-acdm         12.000   \n",
              "32557   40           Private  154374     HS-grad          9.000   \n",
              "32558   58           Private  151910     HS-grad          9.000   \n",
              "32559   22           Private  201490     HS-grad          9.000   \n",
              "32560   52      Self-emp-inc  287927     HS-grad          9.000   \n",
              "\n",
              "           marital-status         occupation   relationship   race     sex  \\\n",
              "0           Never-married       Adm-clerical  Not-in-family  White    Male   \n",
              "1      Married-civ-spouse    Exec-managerial        Husband  White    Male   \n",
              "2                Divorced  Handlers-cleaners  Not-in-family  White    Male   \n",
              "3      Married-civ-spouse  Handlers-cleaners        Husband  Black    Male   \n",
              "4      Married-civ-spouse     Prof-specialty           Wife  Black  Female   \n",
              "...                   ...                ...            ...    ...     ...   \n",
              "32556  Married-civ-spouse       Tech-support           Wife  White  Female   \n",
              "32557  Married-civ-spouse  Machine-op-inspct        Husband  White    Male   \n",
              "32558             Widowed       Adm-clerical      Unmarried  White  Female   \n",
              "32559       Never-married       Adm-clerical            NaN  White    Male   \n",
              "32560  Married-civ-spouse    Exec-managerial           Wife  White  Female   \n",
              "\n",
              "       capital-gain  capital-loss  hours-per-week native-country salary  \n",
              "0              2174             0              40  United-States  <=50K  \n",
              "1                 0             0              13  United-States  <=50K  \n",
              "2                 0             0              40  United-States  <=50K  \n",
              "3                 0             0              40  United-States  <=50K  \n",
              "4                 0             0              40           Cuba  <=50K  \n",
              "...             ...           ...             ...            ...    ...  \n",
              "32556             0             0              38  United-States  <=50K  \n",
              "32557             0             0              40  United-States   >50K  \n",
              "32558             0             0              40  United-States  <=50K  \n",
              "32559             0             0              20  United-States  <=50K  \n",
              "32560         15024             0              40  United-States   >50K  \n",
              "\n",
              "[32537 rows x 15 columns]"
            ],
            "text/html": [
              "\n",
              "  <div id=\"df-68f83715-d664-4f1a-b943-53a709bafda3\">\n",
              "    <div class=\"colab-df-container\">\n",
              "      <div>\n",
              "<style scoped>\n",
              "    .dataframe tbody tr th:only-of-type {\n",
              "        vertical-align: middle;\n",
              "    }\n",
              "\n",
              "    .dataframe tbody tr th {\n",
              "        vertical-align: top;\n",
              "    }\n",
              "\n",
              "    .dataframe thead th {\n",
              "        text-align: right;\n",
              "    }\n",
              "</style>\n",
              "<table border=\"1\" class=\"dataframe\">\n",
              "  <thead>\n",
              "    <tr style=\"text-align: right;\">\n",
              "      <th></th>\n",
              "      <th>age</th>\n",
              "      <th>workclass</th>\n",
              "      <th>fnlwgt</th>\n",
              "      <th>education</th>\n",
              "      <th>education-num</th>\n",
              "      <th>marital-status</th>\n",
              "      <th>occupation</th>\n",
              "      <th>relationship</th>\n",
              "      <th>race</th>\n",
              "      <th>sex</th>\n",
              "      <th>capital-gain</th>\n",
              "      <th>capital-loss</th>\n",
              "      <th>hours-per-week</th>\n",
              "      <th>native-country</th>\n",
              "      <th>salary</th>\n",
              "    </tr>\n",
              "  </thead>\n",
              "  <tbody>\n",
              "    <tr>\n",
              "      <th>0</th>\n",
              "      <td>39</td>\n",
              "      <td>State-gov</td>\n",
              "      <td>77516</td>\n",
              "      <td>Bachelors</td>\n",
              "      <td>13.000</td>\n",
              "      <td>Never-married</td>\n",
              "      <td>Adm-clerical</td>\n",
              "      <td>Not-in-family</td>\n",
              "      <td>White</td>\n",
              "      <td>Male</td>\n",
              "      <td>2174</td>\n",
              "      <td>0</td>\n",
              "      <td>40</td>\n",
              "      <td>United-States</td>\n",
              "      <td>&lt;=50K</td>\n",
              "    </tr>\n",
              "    <tr>\n",
              "      <th>1</th>\n",
              "      <td>50</td>\n",
              "      <td>Self-emp-not-inc</td>\n",
              "      <td>83311</td>\n",
              "      <td>Bachelors</td>\n",
              "      <td>13.000</td>\n",
              "      <td>Married-civ-spouse</td>\n",
              "      <td>Exec-managerial</td>\n",
              "      <td>Husband</td>\n",
              "      <td>White</td>\n",
              "      <td>Male</td>\n",
              "      <td>0</td>\n",
              "      <td>0</td>\n",
              "      <td>13</td>\n",
              "      <td>United-States</td>\n",
              "      <td>&lt;=50K</td>\n",
              "    </tr>\n",
              "    <tr>\n",
              "      <th>2</th>\n",
              "      <td>38</td>\n",
              "      <td>Private</td>\n",
              "      <td>215646</td>\n",
              "      <td>HS-grad</td>\n",
              "      <td>9.000</td>\n",
              "      <td>Divorced</td>\n",
              "      <td>Handlers-cleaners</td>\n",
              "      <td>Not-in-family</td>\n",
              "      <td>White</td>\n",
              "      <td>Male</td>\n",
              "      <td>0</td>\n",
              "      <td>0</td>\n",
              "      <td>40</td>\n",
              "      <td>United-States</td>\n",
              "      <td>&lt;=50K</td>\n",
              "    </tr>\n",
              "    <tr>\n",
              "      <th>3</th>\n",
              "      <td>53</td>\n",
              "      <td>Private</td>\n",
              "      <td>234721</td>\n",
              "      <td>11th</td>\n",
              "      <td>7.000</td>\n",
              "      <td>Married-civ-spouse</td>\n",
              "      <td>Handlers-cleaners</td>\n",
              "      <td>Husband</td>\n",
              "      <td>Black</td>\n",
              "      <td>Male</td>\n",
              "      <td>0</td>\n",
              "      <td>0</td>\n",
              "      <td>40</td>\n",
              "      <td>United-States</td>\n",
              "      <td>&lt;=50K</td>\n",
              "    </tr>\n",
              "    <tr>\n",
              "      <th>4</th>\n",
              "      <td>28</td>\n",
              "      <td>Private</td>\n",
              "      <td>338409</td>\n",
              "      <td>Bachelors</td>\n",
              "      <td>13.000</td>\n",
              "      <td>Married-civ-spouse</td>\n",
              "      <td>Prof-specialty</td>\n",
              "      <td>Wife</td>\n",
              "      <td>Black</td>\n",
              "      <td>Female</td>\n",
              "      <td>0</td>\n",
              "      <td>0</td>\n",
              "      <td>40</td>\n",
              "      <td>Cuba</td>\n",
              "      <td>&lt;=50K</td>\n",
              "    </tr>\n",
              "    <tr>\n",
              "      <th>...</th>\n",
              "      <td>...</td>\n",
              "      <td>...</td>\n",
              "      <td>...</td>\n",
              "      <td>...</td>\n",
              "      <td>...</td>\n",
              "      <td>...</td>\n",
              "      <td>...</td>\n",
              "      <td>...</td>\n",
              "      <td>...</td>\n",
              "      <td>...</td>\n",
              "      <td>...</td>\n",
              "      <td>...</td>\n",
              "      <td>...</td>\n",
              "      <td>...</td>\n",
              "      <td>...</td>\n",
              "    </tr>\n",
              "    <tr>\n",
              "      <th>32556</th>\n",
              "      <td>27</td>\n",
              "      <td>Private</td>\n",
              "      <td>257302</td>\n",
              "      <td>Assoc-acdm</td>\n",
              "      <td>12.000</td>\n",
              "      <td>Married-civ-spouse</td>\n",
              "      <td>Tech-support</td>\n",
              "      <td>Wife</td>\n",
              "      <td>White</td>\n",
              "      <td>Female</td>\n",
              "      <td>0</td>\n",
              "      <td>0</td>\n",
              "      <td>38</td>\n",
              "      <td>United-States</td>\n",
              "      <td>&lt;=50K</td>\n",
              "    </tr>\n",
              "    <tr>\n",
              "      <th>32557</th>\n",
              "      <td>40</td>\n",
              "      <td>Private</td>\n",
              "      <td>154374</td>\n",
              "      <td>HS-grad</td>\n",
              "      <td>9.000</td>\n",
              "      <td>Married-civ-spouse</td>\n",
              "      <td>Machine-op-inspct</td>\n",
              "      <td>Husband</td>\n",
              "      <td>White</td>\n",
              "      <td>Male</td>\n",
              "      <td>0</td>\n",
              "      <td>0</td>\n",
              "      <td>40</td>\n",
              "      <td>United-States</td>\n",
              "      <td>&gt;50K</td>\n",
              "    </tr>\n",
              "    <tr>\n",
              "      <th>32558</th>\n",
              "      <td>58</td>\n",
              "      <td>Private</td>\n",
              "      <td>151910</td>\n",
              "      <td>HS-grad</td>\n",
              "      <td>9.000</td>\n",
              "      <td>Widowed</td>\n",
              "      <td>Adm-clerical</td>\n",
              "      <td>Unmarried</td>\n",
              "      <td>White</td>\n",
              "      <td>Female</td>\n",
              "      <td>0</td>\n",
              "      <td>0</td>\n",
              "      <td>40</td>\n",
              "      <td>United-States</td>\n",
              "      <td>&lt;=50K</td>\n",
              "    </tr>\n",
              "    <tr>\n",
              "      <th>32559</th>\n",
              "      <td>22</td>\n",
              "      <td>Private</td>\n",
              "      <td>201490</td>\n",
              "      <td>HS-grad</td>\n",
              "      <td>9.000</td>\n",
              "      <td>Never-married</td>\n",
              "      <td>Adm-clerical</td>\n",
              "      <td>NaN</td>\n",
              "      <td>White</td>\n",
              "      <td>Male</td>\n",
              "      <td>0</td>\n",
              "      <td>0</td>\n",
              "      <td>20</td>\n",
              "      <td>United-States</td>\n",
              "      <td>&lt;=50K</td>\n",
              "    </tr>\n",
              "    <tr>\n",
              "      <th>32560</th>\n",
              "      <td>52</td>\n",
              "      <td>Self-emp-inc</td>\n",
              "      <td>287927</td>\n",
              "      <td>HS-grad</td>\n",
              "      <td>9.000</td>\n",
              "      <td>Married-civ-spouse</td>\n",
              "      <td>Exec-managerial</td>\n",
              "      <td>Wife</td>\n",
              "      <td>White</td>\n",
              "      <td>Female</td>\n",
              "      <td>15024</td>\n",
              "      <td>0</td>\n",
              "      <td>40</td>\n",
              "      <td>United-States</td>\n",
              "      <td>&gt;50K</td>\n",
              "    </tr>\n",
              "  </tbody>\n",
              "</table>\n",
              "<p>32537 rows × 15 columns</p>\n",
              "</div>\n",
              "      <button class=\"colab-df-convert\" onclick=\"convertToInteractive('df-68f83715-d664-4f1a-b943-53a709bafda3')\"\n",
              "              title=\"Convert this dataframe to an interactive table.\"\n",
              "              style=\"display:none;\">\n",
              "        \n",
              "  <svg xmlns=\"http://www.w3.org/2000/svg\" height=\"24px\"viewBox=\"0 0 24 24\"\n",
              "       width=\"24px\">\n",
              "    <path d=\"M0 0h24v24H0V0z\" fill=\"none\"/>\n",
              "    <path d=\"M18.56 5.44l.94 2.06.94-2.06 2.06-.94-2.06-.94-.94-2.06-.94 2.06-2.06.94zm-11 1L8.5 8.5l.94-2.06 2.06-.94-2.06-.94L8.5 2.5l-.94 2.06-2.06.94zm10 10l.94 2.06.94-2.06 2.06-.94-2.06-.94-.94-2.06-.94 2.06-2.06.94z\"/><path d=\"M17.41 7.96l-1.37-1.37c-.4-.4-.92-.59-1.43-.59-.52 0-1.04.2-1.43.59L10.3 9.45l-7.72 7.72c-.78.78-.78 2.05 0 2.83L4 21.41c.39.39.9.59 1.41.59.51 0 1.02-.2 1.41-.59l7.78-7.78 2.81-2.81c.8-.78.8-2.07 0-2.86zM5.41 20L4 18.59l7.72-7.72 1.47 1.35L5.41 20z\"/>\n",
              "  </svg>\n",
              "      </button>\n",
              "      \n",
              "  <style>\n",
              "    .colab-df-container {\n",
              "      display:flex;\n",
              "      flex-wrap:wrap;\n",
              "      gap: 12px;\n",
              "    }\n",
              "\n",
              "    .colab-df-convert {\n",
              "      background-color: #E8F0FE;\n",
              "      border: none;\n",
              "      border-radius: 50%;\n",
              "      cursor: pointer;\n",
              "      display: none;\n",
              "      fill: #1967D2;\n",
              "      height: 32px;\n",
              "      padding: 0 0 0 0;\n",
              "      width: 32px;\n",
              "    }\n",
              "\n",
              "    .colab-df-convert:hover {\n",
              "      background-color: #E2EBFA;\n",
              "      box-shadow: 0px 1px 2px rgba(60, 64, 67, 0.3), 0px 1px 3px 1px rgba(60, 64, 67, 0.15);\n",
              "      fill: #174EA6;\n",
              "    }\n",
              "\n",
              "    [theme=dark] .colab-df-convert {\n",
              "      background-color: #3B4455;\n",
              "      fill: #D2E3FC;\n",
              "    }\n",
              "\n",
              "    [theme=dark] .colab-df-convert:hover {\n",
              "      background-color: #434B5C;\n",
              "      box-shadow: 0px 1px 3px 1px rgba(0, 0, 0, 0.15);\n",
              "      filter: drop-shadow(0px 1px 2px rgba(0, 0, 0, 0.3));\n",
              "      fill: #FFFFFF;\n",
              "    }\n",
              "  </style>\n",
              "\n",
              "      <script>\n",
              "        const buttonEl =\n",
              "          document.querySelector('#df-68f83715-d664-4f1a-b943-53a709bafda3 button.colab-df-convert');\n",
              "        buttonEl.style.display =\n",
              "          google.colab.kernel.accessAllowed ? 'block' : 'none';\n",
              "\n",
              "        async function convertToInteractive(key) {\n",
              "          const element = document.querySelector('#df-68f83715-d664-4f1a-b943-53a709bafda3');\n",
              "          const dataTable =\n",
              "            await google.colab.kernel.invokeFunction('convertToInteractive',\n",
              "                                                     [key], {});\n",
              "          if (!dataTable) return;\n",
              "\n",
              "          const docLinkHtml = 'Like what you see? Visit the ' +\n",
              "            '<a target=\"_blank\" href=https://colab.research.google.com/notebooks/data_table.ipynb>data table notebook</a>'\n",
              "            + ' to learn more about interactive tables.';\n",
              "          element.innerHTML = '';\n",
              "          dataTable['output_type'] = 'display_data';\n",
              "          await google.colab.output.renderOutput(dataTable, element);\n",
              "          const docLink = document.createElement('div');\n",
              "          docLink.innerHTML = docLinkHtml;\n",
              "          element.appendChild(docLink);\n",
              "        }\n",
              "      </script>\n",
              "    </div>\n",
              "  </div>\n",
              "  "
            ]
          },
          "metadata": {},
          "execution_count": 50
        }
      ],
      "source": [
        "# Drop Duplicates\n",
        "\n",
        "df.drop_duplicates(inplace=True)\n",
        "df\n",
        "\n",
        "\n"
      ]
    },
    {
      "cell_type": "code",
      "execution_count": null,
      "metadata": {
        "id": "QOp8X7Hwd8z5",
        "colab": {
          "base_uri": "https://localhost:8080/"
        },
        "outputId": "594c490a-fac4-4a2f-95cd-ea8909c9815d"
      },
      "outputs": [
        {
          "output_type": "execute_result",
          "data": {
            "text/plain": [
              "(32537, 15)"
            ]
          },
          "metadata": {},
          "execution_count": 51
        }
      ],
      "source": [
        "# Check the shape of the Dataset\n",
        "\n",
        "df.shape\n",
        "\n"
      ]
    },
    {
      "cell_type": "raw",
      "metadata": {
        "id": "4q0AmKWMd8z6"
      },
      "source": [
        "Desired Output:\n",
        "\n",
        "(32537, 15)"
      ]
    },
    {
      "cell_type": "code",
      "execution_count": null,
      "metadata": {
        "id": "QPk-GiQVd8z7",
        "colab": {
          "base_uri": "https://localhost:8080/",
          "height": 238
        },
        "outputId": "157a0827-78e8-4191-9c9b-9bbb4710f73b"
      },
      "outputs": [
        {
          "output_type": "execute_result",
          "data": {
            "text/plain": [
              "                   count       mean        std       min        25%  \\\n",
              "age            32537.000     38.586     13.638    17.000     28.000   \n",
              "fnlwgt         32537.000 189780.849 105556.471 12285.000 117827.000   \n",
              "education-num  31735.000     10.084      2.575     1.000      9.000   \n",
              "capital-gain   32537.000   1078.444   7387.957     0.000      0.000   \n",
              "capital-loss   32537.000     87.368    403.102     0.000      0.000   \n",
              "hours-per-week 32537.000     40.440     12.347     1.000     40.000   \n",
              "\n",
              "                      50%        75%         max  \n",
              "age                37.000     48.000      90.000  \n",
              "fnlwgt         178356.000 236993.000 1484705.000  \n",
              "education-num      10.000     12.000      16.000  \n",
              "capital-gain        0.000      0.000   99999.000  \n",
              "capital-loss        0.000      0.000    4356.000  \n",
              "hours-per-week     40.000     45.000      99.000  "
            ],
            "text/html": [
              "\n",
              "  <div id=\"df-3b50f8bc-657c-4ca9-836e-5f576f15b022\">\n",
              "    <div class=\"colab-df-container\">\n",
              "      <div>\n",
              "<style scoped>\n",
              "    .dataframe tbody tr th:only-of-type {\n",
              "        vertical-align: middle;\n",
              "    }\n",
              "\n",
              "    .dataframe tbody tr th {\n",
              "        vertical-align: top;\n",
              "    }\n",
              "\n",
              "    .dataframe thead th {\n",
              "        text-align: right;\n",
              "    }\n",
              "</style>\n",
              "<table border=\"1\" class=\"dataframe\">\n",
              "  <thead>\n",
              "    <tr style=\"text-align: right;\">\n",
              "      <th></th>\n",
              "      <th>count</th>\n",
              "      <th>mean</th>\n",
              "      <th>std</th>\n",
              "      <th>min</th>\n",
              "      <th>25%</th>\n",
              "      <th>50%</th>\n",
              "      <th>75%</th>\n",
              "      <th>max</th>\n",
              "    </tr>\n",
              "  </thead>\n",
              "  <tbody>\n",
              "    <tr>\n",
              "      <th>age</th>\n",
              "      <td>32537.000</td>\n",
              "      <td>38.586</td>\n",
              "      <td>13.638</td>\n",
              "      <td>17.000</td>\n",
              "      <td>28.000</td>\n",
              "      <td>37.000</td>\n",
              "      <td>48.000</td>\n",
              "      <td>90.000</td>\n",
              "    </tr>\n",
              "    <tr>\n",
              "      <th>fnlwgt</th>\n",
              "      <td>32537.000</td>\n",
              "      <td>189780.849</td>\n",
              "      <td>105556.471</td>\n",
              "      <td>12285.000</td>\n",
              "      <td>117827.000</td>\n",
              "      <td>178356.000</td>\n",
              "      <td>236993.000</td>\n",
              "      <td>1484705.000</td>\n",
              "    </tr>\n",
              "    <tr>\n",
              "      <th>education-num</th>\n",
              "      <td>31735.000</td>\n",
              "      <td>10.084</td>\n",
              "      <td>2.575</td>\n",
              "      <td>1.000</td>\n",
              "      <td>9.000</td>\n",
              "      <td>10.000</td>\n",
              "      <td>12.000</td>\n",
              "      <td>16.000</td>\n",
              "    </tr>\n",
              "    <tr>\n",
              "      <th>capital-gain</th>\n",
              "      <td>32537.000</td>\n",
              "      <td>1078.444</td>\n",
              "      <td>7387.957</td>\n",
              "      <td>0.000</td>\n",
              "      <td>0.000</td>\n",
              "      <td>0.000</td>\n",
              "      <td>0.000</td>\n",
              "      <td>99999.000</td>\n",
              "    </tr>\n",
              "    <tr>\n",
              "      <th>capital-loss</th>\n",
              "      <td>32537.000</td>\n",
              "      <td>87.368</td>\n",
              "      <td>403.102</td>\n",
              "      <td>0.000</td>\n",
              "      <td>0.000</td>\n",
              "      <td>0.000</td>\n",
              "      <td>0.000</td>\n",
              "      <td>4356.000</td>\n",
              "    </tr>\n",
              "    <tr>\n",
              "      <th>hours-per-week</th>\n",
              "      <td>32537.000</td>\n",
              "      <td>40.440</td>\n",
              "      <td>12.347</td>\n",
              "      <td>1.000</td>\n",
              "      <td>40.000</td>\n",
              "      <td>40.000</td>\n",
              "      <td>45.000</td>\n",
              "      <td>99.000</td>\n",
              "    </tr>\n",
              "  </tbody>\n",
              "</table>\n",
              "</div>\n",
              "      <button class=\"colab-df-convert\" onclick=\"convertToInteractive('df-3b50f8bc-657c-4ca9-836e-5f576f15b022')\"\n",
              "              title=\"Convert this dataframe to an interactive table.\"\n",
              "              style=\"display:none;\">\n",
              "        \n",
              "  <svg xmlns=\"http://www.w3.org/2000/svg\" height=\"24px\"viewBox=\"0 0 24 24\"\n",
              "       width=\"24px\">\n",
              "    <path d=\"M0 0h24v24H0V0z\" fill=\"none\"/>\n",
              "    <path d=\"M18.56 5.44l.94 2.06.94-2.06 2.06-.94-2.06-.94-.94-2.06-.94 2.06-2.06.94zm-11 1L8.5 8.5l.94-2.06 2.06-.94-2.06-.94L8.5 2.5l-.94 2.06-2.06.94zm10 10l.94 2.06.94-2.06 2.06-.94-2.06-.94-.94-2.06-.94 2.06-2.06.94z\"/><path d=\"M17.41 7.96l-1.37-1.37c-.4-.4-.92-.59-1.43-.59-.52 0-1.04.2-1.43.59L10.3 9.45l-7.72 7.72c-.78.78-.78 2.05 0 2.83L4 21.41c.39.39.9.59 1.41.59.51 0 1.02-.2 1.41-.59l7.78-7.78 2.81-2.81c.8-.78.8-2.07 0-2.86zM5.41 20L4 18.59l7.72-7.72 1.47 1.35L5.41 20z\"/>\n",
              "  </svg>\n",
              "      </button>\n",
              "      \n",
              "  <style>\n",
              "    .colab-df-container {\n",
              "      display:flex;\n",
              "      flex-wrap:wrap;\n",
              "      gap: 12px;\n",
              "    }\n",
              "\n",
              "    .colab-df-convert {\n",
              "      background-color: #E8F0FE;\n",
              "      border: none;\n",
              "      border-radius: 50%;\n",
              "      cursor: pointer;\n",
              "      display: none;\n",
              "      fill: #1967D2;\n",
              "      height: 32px;\n",
              "      padding: 0 0 0 0;\n",
              "      width: 32px;\n",
              "    }\n",
              "\n",
              "    .colab-df-convert:hover {\n",
              "      background-color: #E2EBFA;\n",
              "      box-shadow: 0px 1px 2px rgba(60, 64, 67, 0.3), 0px 1px 3px 1px rgba(60, 64, 67, 0.15);\n",
              "      fill: #174EA6;\n",
              "    }\n",
              "\n",
              "    [theme=dark] .colab-df-convert {\n",
              "      background-color: #3B4455;\n",
              "      fill: #D2E3FC;\n",
              "    }\n",
              "\n",
              "    [theme=dark] .colab-df-convert:hover {\n",
              "      background-color: #434B5C;\n",
              "      box-shadow: 0px 1px 3px 1px rgba(0, 0, 0, 0.15);\n",
              "      filter: drop-shadow(0px 1px 2px rgba(0, 0, 0, 0.3));\n",
              "      fill: #FFFFFF;\n",
              "    }\n",
              "  </style>\n",
              "\n",
              "      <script>\n",
              "        const buttonEl =\n",
              "          document.querySelector('#df-3b50f8bc-657c-4ca9-836e-5f576f15b022 button.colab-df-convert');\n",
              "        buttonEl.style.display =\n",
              "          google.colab.kernel.accessAllowed ? 'block' : 'none';\n",
              "\n",
              "        async function convertToInteractive(key) {\n",
              "          const element = document.querySelector('#df-3b50f8bc-657c-4ca9-836e-5f576f15b022');\n",
              "          const dataTable =\n",
              "            await google.colab.kernel.invokeFunction('convertToInteractive',\n",
              "                                                     [key], {});\n",
              "          if (!dataTable) return;\n",
              "\n",
              "          const docLinkHtml = 'Like what you see? Visit the ' +\n",
              "            '<a target=\"_blank\" href=https://colab.research.google.com/notebooks/data_table.ipynb>data table notebook</a>'\n",
              "            + ' to learn more about interactive tables.';\n",
              "          element.innerHTML = '';\n",
              "          dataTable['output_type'] = 'display_data';\n",
              "          await google.colab.output.renderOutput(dataTable, element);\n",
              "          const docLink = document.createElement('div');\n",
              "          docLink.innerHTML = docLinkHtml;\n",
              "          element.appendChild(docLink);\n",
              "        }\n",
              "      </script>\n",
              "    </div>\n",
              "  </div>\n",
              "  "
            ]
          },
          "metadata": {},
          "execution_count": 54
        }
      ],
      "source": [
        "df.describe().T\n",
        "\n"
      ]
    },
    {
      "cell_type": "markdown",
      "metadata": {
        "id": "QHyxjihXd8z8"
      },
      "source": [
        "Desired Output:\n",
        "\n",
        "![image.png](https://i.ibb.co/HnG6Xdn/US-Citicens2.png)"
      ]
    },
    {
      "cell_type": "markdown",
      "metadata": {
        "id": "5H6u5WUSd8z9"
      },
      "source": [
        "**Rename the features of;**<br>\n",
        "**``\"education-num\"``**, **``\"marital-status\"``**, **``\"capital-gain\"``**, **``\"capital-loss\"``**, **``\"hours-per-week\"``**, **``\"native-country\"``** **as**<br>\n",
        "**``\"education_num\"``**, **``\"marital_status\"``**, **``\"capital_gain\"``**, **``\"capital_loss\"``**, **``\"hours_per_week\"``**, **``\"native_country\"``**, **respectively and permanently.**"
      ]
    },
    {
      "cell_type": "code",
      "execution_count": null,
      "metadata": {
        "id": "pGALB0uLd8z-",
        "colab": {
          "base_uri": "https://localhost:8080/"
        },
        "outputId": "5c3f8a61-7c4c-4b7e-9225-7b8ec29c226e"
      },
      "outputs": [
        {
          "output_type": "execute_result",
          "data": {
            "text/plain": [
              "Index(['age', 'workclass', 'fnlwgt', 'education', 'education_num',\n",
              "       'marital_status', 'occupation', 'relationship', 'race', 'sex',\n",
              "       'capital_gain', 'capital_loss', 'hours_per_week', 'native_country',\n",
              "       'salary'],\n",
              "      dtype='object')"
            ]
          },
          "metadata": {},
          "execution_count": 56
        }
      ],
      "source": [
        "df.columns.str.replace(\"-\", \"_\")\n",
        "\n"
      ]
    },
    {
      "cell_type": "code",
      "source": [
        "df.columns = df.columns.str.replace(\"-\", \"_\")\n",
        "df.head()"
      ],
      "metadata": {
        "colab": {
          "base_uri": "https://localhost:8080/",
          "height": 357
        },
        "id": "kKLDeHQO5VSC",
        "outputId": "c2528650-4460-44e8-f72f-1f2638c19cff"
      },
      "execution_count": null,
      "outputs": [
        {
          "output_type": "execute_result",
          "data": {
            "text/plain": [
              "   age         workclass  fnlwgt  education  education_num  \\\n",
              "0   39         State-gov   77516  Bachelors         13.000   \n",
              "1   50  Self-emp-not-inc   83311  Bachelors         13.000   \n",
              "2   38           Private  215646    HS-grad          9.000   \n",
              "3   53           Private  234721       11th          7.000   \n",
              "4   28           Private  338409  Bachelors         13.000   \n",
              "\n",
              "       marital_status         occupation   relationship   race     sex  \\\n",
              "0       Never-married       Adm-clerical  Not-in-family  White    Male   \n",
              "1  Married-civ-spouse    Exec-managerial        Husband  White    Male   \n",
              "2            Divorced  Handlers-cleaners  Not-in-family  White    Male   \n",
              "3  Married-civ-spouse  Handlers-cleaners        Husband  Black    Male   \n",
              "4  Married-civ-spouse     Prof-specialty           Wife  Black  Female   \n",
              "\n",
              "   capital_gain  capital_loss  hours_per_week native_country salary  \n",
              "0          2174             0              40  United-States  <=50K  \n",
              "1             0             0              13  United-States  <=50K  \n",
              "2             0             0              40  United-States  <=50K  \n",
              "3             0             0              40  United-States  <=50K  \n",
              "4             0             0              40           Cuba  <=50K  "
            ],
            "text/html": [
              "\n",
              "  <div id=\"df-ffa05937-02ee-445f-b81a-d766e9de0770\">\n",
              "    <div class=\"colab-df-container\">\n",
              "      <div>\n",
              "<style scoped>\n",
              "    .dataframe tbody tr th:only-of-type {\n",
              "        vertical-align: middle;\n",
              "    }\n",
              "\n",
              "    .dataframe tbody tr th {\n",
              "        vertical-align: top;\n",
              "    }\n",
              "\n",
              "    .dataframe thead th {\n",
              "        text-align: right;\n",
              "    }\n",
              "</style>\n",
              "<table border=\"1\" class=\"dataframe\">\n",
              "  <thead>\n",
              "    <tr style=\"text-align: right;\">\n",
              "      <th></th>\n",
              "      <th>age</th>\n",
              "      <th>workclass</th>\n",
              "      <th>fnlwgt</th>\n",
              "      <th>education</th>\n",
              "      <th>education_num</th>\n",
              "      <th>marital_status</th>\n",
              "      <th>occupation</th>\n",
              "      <th>relationship</th>\n",
              "      <th>race</th>\n",
              "      <th>sex</th>\n",
              "      <th>capital_gain</th>\n",
              "      <th>capital_loss</th>\n",
              "      <th>hours_per_week</th>\n",
              "      <th>native_country</th>\n",
              "      <th>salary</th>\n",
              "    </tr>\n",
              "  </thead>\n",
              "  <tbody>\n",
              "    <tr>\n",
              "      <th>0</th>\n",
              "      <td>39</td>\n",
              "      <td>State-gov</td>\n",
              "      <td>77516</td>\n",
              "      <td>Bachelors</td>\n",
              "      <td>13.000</td>\n",
              "      <td>Never-married</td>\n",
              "      <td>Adm-clerical</td>\n",
              "      <td>Not-in-family</td>\n",
              "      <td>White</td>\n",
              "      <td>Male</td>\n",
              "      <td>2174</td>\n",
              "      <td>0</td>\n",
              "      <td>40</td>\n",
              "      <td>United-States</td>\n",
              "      <td>&lt;=50K</td>\n",
              "    </tr>\n",
              "    <tr>\n",
              "      <th>1</th>\n",
              "      <td>50</td>\n",
              "      <td>Self-emp-not-inc</td>\n",
              "      <td>83311</td>\n",
              "      <td>Bachelors</td>\n",
              "      <td>13.000</td>\n",
              "      <td>Married-civ-spouse</td>\n",
              "      <td>Exec-managerial</td>\n",
              "      <td>Husband</td>\n",
              "      <td>White</td>\n",
              "      <td>Male</td>\n",
              "      <td>0</td>\n",
              "      <td>0</td>\n",
              "      <td>13</td>\n",
              "      <td>United-States</td>\n",
              "      <td>&lt;=50K</td>\n",
              "    </tr>\n",
              "    <tr>\n",
              "      <th>2</th>\n",
              "      <td>38</td>\n",
              "      <td>Private</td>\n",
              "      <td>215646</td>\n",
              "      <td>HS-grad</td>\n",
              "      <td>9.000</td>\n",
              "      <td>Divorced</td>\n",
              "      <td>Handlers-cleaners</td>\n",
              "      <td>Not-in-family</td>\n",
              "      <td>White</td>\n",
              "      <td>Male</td>\n",
              "      <td>0</td>\n",
              "      <td>0</td>\n",
              "      <td>40</td>\n",
              "      <td>United-States</td>\n",
              "      <td>&lt;=50K</td>\n",
              "    </tr>\n",
              "    <tr>\n",
              "      <th>3</th>\n",
              "      <td>53</td>\n",
              "      <td>Private</td>\n",
              "      <td>234721</td>\n",
              "      <td>11th</td>\n",
              "      <td>7.000</td>\n",
              "      <td>Married-civ-spouse</td>\n",
              "      <td>Handlers-cleaners</td>\n",
              "      <td>Husband</td>\n",
              "      <td>Black</td>\n",
              "      <td>Male</td>\n",
              "      <td>0</td>\n",
              "      <td>0</td>\n",
              "      <td>40</td>\n",
              "      <td>United-States</td>\n",
              "      <td>&lt;=50K</td>\n",
              "    </tr>\n",
              "    <tr>\n",
              "      <th>4</th>\n",
              "      <td>28</td>\n",
              "      <td>Private</td>\n",
              "      <td>338409</td>\n",
              "      <td>Bachelors</td>\n",
              "      <td>13.000</td>\n",
              "      <td>Married-civ-spouse</td>\n",
              "      <td>Prof-specialty</td>\n",
              "      <td>Wife</td>\n",
              "      <td>Black</td>\n",
              "      <td>Female</td>\n",
              "      <td>0</td>\n",
              "      <td>0</td>\n",
              "      <td>40</td>\n",
              "      <td>Cuba</td>\n",
              "      <td>&lt;=50K</td>\n",
              "    </tr>\n",
              "  </tbody>\n",
              "</table>\n",
              "</div>\n",
              "      <button class=\"colab-df-convert\" onclick=\"convertToInteractive('df-ffa05937-02ee-445f-b81a-d766e9de0770')\"\n",
              "              title=\"Convert this dataframe to an interactive table.\"\n",
              "              style=\"display:none;\">\n",
              "        \n",
              "  <svg xmlns=\"http://www.w3.org/2000/svg\" height=\"24px\"viewBox=\"0 0 24 24\"\n",
              "       width=\"24px\">\n",
              "    <path d=\"M0 0h24v24H0V0z\" fill=\"none\"/>\n",
              "    <path d=\"M18.56 5.44l.94 2.06.94-2.06 2.06-.94-2.06-.94-.94-2.06-.94 2.06-2.06.94zm-11 1L8.5 8.5l.94-2.06 2.06-.94-2.06-.94L8.5 2.5l-.94 2.06-2.06.94zm10 10l.94 2.06.94-2.06 2.06-.94-2.06-.94-.94-2.06-.94 2.06-2.06.94z\"/><path d=\"M17.41 7.96l-1.37-1.37c-.4-.4-.92-.59-1.43-.59-.52 0-1.04.2-1.43.59L10.3 9.45l-7.72 7.72c-.78.78-.78 2.05 0 2.83L4 21.41c.39.39.9.59 1.41.59.51 0 1.02-.2 1.41-.59l7.78-7.78 2.81-2.81c.8-.78.8-2.07 0-2.86zM5.41 20L4 18.59l7.72-7.72 1.47 1.35L5.41 20z\"/>\n",
              "  </svg>\n",
              "      </button>\n",
              "      \n",
              "  <style>\n",
              "    .colab-df-container {\n",
              "      display:flex;\n",
              "      flex-wrap:wrap;\n",
              "      gap: 12px;\n",
              "    }\n",
              "\n",
              "    .colab-df-convert {\n",
              "      background-color: #E8F0FE;\n",
              "      border: none;\n",
              "      border-radius: 50%;\n",
              "      cursor: pointer;\n",
              "      display: none;\n",
              "      fill: #1967D2;\n",
              "      height: 32px;\n",
              "      padding: 0 0 0 0;\n",
              "      width: 32px;\n",
              "    }\n",
              "\n",
              "    .colab-df-convert:hover {\n",
              "      background-color: #E2EBFA;\n",
              "      box-shadow: 0px 1px 2px rgba(60, 64, 67, 0.3), 0px 1px 3px 1px rgba(60, 64, 67, 0.15);\n",
              "      fill: #174EA6;\n",
              "    }\n",
              "\n",
              "    [theme=dark] .colab-df-convert {\n",
              "      background-color: #3B4455;\n",
              "      fill: #D2E3FC;\n",
              "    }\n",
              "\n",
              "    [theme=dark] .colab-df-convert:hover {\n",
              "      background-color: #434B5C;\n",
              "      box-shadow: 0px 1px 3px 1px rgba(0, 0, 0, 0.15);\n",
              "      filter: drop-shadow(0px 1px 2px rgba(0, 0, 0, 0.3));\n",
              "      fill: #FFFFFF;\n",
              "    }\n",
              "  </style>\n",
              "\n",
              "      <script>\n",
              "        const buttonEl =\n",
              "          document.querySelector('#df-ffa05937-02ee-445f-b81a-d766e9de0770 button.colab-df-convert');\n",
              "        buttonEl.style.display =\n",
              "          google.colab.kernel.accessAllowed ? 'block' : 'none';\n",
              "\n",
              "        async function convertToInteractive(key) {\n",
              "          const element = document.querySelector('#df-ffa05937-02ee-445f-b81a-d766e9de0770');\n",
              "          const dataTable =\n",
              "            await google.colab.kernel.invokeFunction('convertToInteractive',\n",
              "                                                     [key], {});\n",
              "          if (!dataTable) return;\n",
              "\n",
              "          const docLinkHtml = 'Like what you see? Visit the ' +\n",
              "            '<a target=\"_blank\" href=https://colab.research.google.com/notebooks/data_table.ipynb>data table notebook</a>'\n",
              "            + ' to learn more about interactive tables.';\n",
              "          element.innerHTML = '';\n",
              "          dataTable['output_type'] = 'display_data';\n",
              "          await google.colab.output.renderOutput(dataTable, element);\n",
              "          const docLink = document.createElement('div');\n",
              "          docLink.innerHTML = docLinkHtml;\n",
              "          element.appendChild(docLink);\n",
              "        }\n",
              "      </script>\n",
              "    </div>\n",
              "  </div>\n",
              "  "
            ]
          },
          "metadata": {},
          "execution_count": 60
        }
      ]
    },
    {
      "cell_type": "code",
      "execution_count": null,
      "metadata": {
        "id": "aqa1-lEDd8z_",
        "colab": {
          "base_uri": "https://localhost:8080/"
        },
        "outputId": "7b73f142-d007-4058-d1ee-1cdeb5d04e7e"
      },
      "outputs": [
        {
          "output_type": "execute_result",
          "data": {
            "text/plain": [
              "age                  0\n",
              "workclass            0\n",
              "fnlwgt               0\n",
              "education            0\n",
              "education_num      802\n",
              "marital_status       0\n",
              "occupation           0\n",
              "relationship      5064\n",
              "race                 0\n",
              "sex                  0\n",
              "capital_gain         0\n",
              "capital_loss         0\n",
              "hours_per_week       0\n",
              "native_country       0\n",
              "salary               0\n",
              "dtype: int64"
            ]
          },
          "metadata": {},
          "execution_count": 62
        }
      ],
      "source": [
        "# Check the sum of Missing Values per column\n",
        "\n",
        "df.isna().sum()\n",
        "\n"
      ]
    },
    {
      "cell_type": "raw",
      "metadata": {
        "id": "VcP226kJd8z_"
      },
      "source": [
        "age                  0\n",
        "workclass            0\n",
        "fnlwgt               0\n",
        "education            0\n",
        "education_num      802\n",
        "marital_status       0\n",
        "occupation           0\n",
        "relationship      5064\n",
        "race                 0\n",
        "gender               0\n",
        "capital_gain         0\n",
        "capital_loss         0\n",
        "hours_per_week       0\n",
        "native_country       0\n",
        "salary               0\n",
        "dtype: int64"
      ]
    },
    {
      "cell_type": "code",
      "execution_count": null,
      "metadata": {
        "id": "PxEkMg-pd80A",
        "colab": {
          "base_uri": "https://localhost:8080/"
        },
        "outputId": "418024c2-4a13-4b90-975b-aa948b945eda"
      },
      "outputs": [
        {
          "output_type": "execute_result",
          "data": {
            "text/plain": [
              "age               0.000\n",
              "workclass         0.000\n",
              "fnlwgt            0.000\n",
              "education         0.000\n",
              "education_num     2.465\n",
              "marital_status    0.000\n",
              "occupation        0.000\n",
              "relationship     15.564\n",
              "race              0.000\n",
              "sex               0.000\n",
              "capital_gain      0.000\n",
              "capital_loss      0.000\n",
              "hours_per_week    0.000\n",
              "native_country    0.000\n",
              "salary            0.000\n",
              "dtype: float64"
            ]
          },
          "metadata": {},
          "execution_count": 63
        }
      ],
      "source": [
        "# Check the Percentage of Missing Values\n",
        "\n",
        "df.isna().sum() * 100 / len(df)\n",
        "\n"
      ]
    },
    {
      "cell_type": "raw",
      "metadata": {
        "id": "OERSJwAld80B"
      },
      "source": [
        "Desired Output:\n",
        "\n",
        "age               0.000\n",
        "workclass         0.000\n",
        "fnlwgt            0.000\n",
        "education         0.000\n",
        "education_num     2.465\n",
        "marital_status    0.000\n",
        "occupation        0.000\n",
        "relationship     15.564\n",
        "race              0.000\n",
        "gender            0.000\n",
        "capital_gain      0.000\n",
        "capital_loss      0.000\n",
        "hours_per_week    0.000\n",
        "native_country    0.000\n",
        "salary            0.000\n",
        "dtype: float64"
      ]
    },
    {
      "cell_type": "markdown",
      "metadata": {
        "id": "3QuB60ZKjwOM"
      },
      "source": [
        "### 2.Look at the value counts of columns that have object datatype and detect strange values apart from the NaN Values"
      ]
    },
    {
      "cell_type": "code",
      "execution_count": null,
      "metadata": {
        "id": "rlqOKf87d80C",
        "colab": {
          "base_uri": "https://localhost:8080/"
        },
        "outputId": "644bbaa5-1fd6-4d4a-a536-6215f1e8844a"
      },
      "outputs": [
        {
          "output_type": "execute_result",
          "data": {
            "text/plain": [
              "Index(['age', 'workclass', 'fnlwgt', 'education', 'education_num',\n",
              "       'marital_status', 'occupation', 'relationship', 'race', 'sex',\n",
              "       'capital_gain', 'capital_loss', 'hours_per_week', 'native_country',\n",
              "       'salary'],\n",
              "      dtype='object')"
            ]
          },
          "metadata": {},
          "execution_count": 83
        }
      ],
      "source": [
        "df.columns\n",
        "\n"
      ]
    },
    {
      "cell_type": "raw",
      "metadata": {
        "id": "z6hbE1hUd80D"
      },
      "source": [
        "Desired Output:\n",
        "\n",
        "Index(['age', 'workclass', 'fnlwgt', 'education', 'education_num',\n",
        "       'marital_status', 'occupation', 'relationship', 'race', 'gender',\n",
        "       'capital_gain', 'capital_loss', 'hours_per_week', 'native_country',\n",
        "       'salary'],\n",
        "      dtype='object')"
      ]
    },
    {
      "cell_type": "code",
      "execution_count": null,
      "metadata": {
        "id": "Kl0SMnyid80E",
        "colab": {
          "base_uri": "https://localhost:8080/",
          "height": 332
        },
        "outputId": "52efeace-5106-4511-cac8-c463e4434c36"
      },
      "outputs": [
        {
          "output_type": "execute_result",
          "data": {
            "text/plain": [
              "                count unique                 top   freq\n",
              "workclass       32537      9             Private  22673\n",
              "education       32537     16             HS-grad  10494\n",
              "marital_status  32537      7  Married-civ-spouse  14970\n",
              "occupation      32537     15      Prof-specialty   4136\n",
              "relationship    27473      5             Husband  13187\n",
              "race            32537      5               White  27795\n",
              "sex             32537      2                Male  21775\n",
              "native_country  32537     42       United-States  29153\n",
              "salary          32537      2               <=50K  24698"
            ],
            "text/html": [
              "\n",
              "  <div id=\"df-867d2eca-94a6-4d80-85a0-a9ff0e60e499\">\n",
              "    <div class=\"colab-df-container\">\n",
              "      <div>\n",
              "<style scoped>\n",
              "    .dataframe tbody tr th:only-of-type {\n",
              "        vertical-align: middle;\n",
              "    }\n",
              "\n",
              "    .dataframe tbody tr th {\n",
              "        vertical-align: top;\n",
              "    }\n",
              "\n",
              "    .dataframe thead th {\n",
              "        text-align: right;\n",
              "    }\n",
              "</style>\n",
              "<table border=\"1\" class=\"dataframe\">\n",
              "  <thead>\n",
              "    <tr style=\"text-align: right;\">\n",
              "      <th></th>\n",
              "      <th>count</th>\n",
              "      <th>unique</th>\n",
              "      <th>top</th>\n",
              "      <th>freq</th>\n",
              "    </tr>\n",
              "  </thead>\n",
              "  <tbody>\n",
              "    <tr>\n",
              "      <th>workclass</th>\n",
              "      <td>32537</td>\n",
              "      <td>9</td>\n",
              "      <td>Private</td>\n",
              "      <td>22673</td>\n",
              "    </tr>\n",
              "    <tr>\n",
              "      <th>education</th>\n",
              "      <td>32537</td>\n",
              "      <td>16</td>\n",
              "      <td>HS-grad</td>\n",
              "      <td>10494</td>\n",
              "    </tr>\n",
              "    <tr>\n",
              "      <th>marital_status</th>\n",
              "      <td>32537</td>\n",
              "      <td>7</td>\n",
              "      <td>Married-civ-spouse</td>\n",
              "      <td>14970</td>\n",
              "    </tr>\n",
              "    <tr>\n",
              "      <th>occupation</th>\n",
              "      <td>32537</td>\n",
              "      <td>15</td>\n",
              "      <td>Prof-specialty</td>\n",
              "      <td>4136</td>\n",
              "    </tr>\n",
              "    <tr>\n",
              "      <th>relationship</th>\n",
              "      <td>27473</td>\n",
              "      <td>5</td>\n",
              "      <td>Husband</td>\n",
              "      <td>13187</td>\n",
              "    </tr>\n",
              "    <tr>\n",
              "      <th>race</th>\n",
              "      <td>32537</td>\n",
              "      <td>5</td>\n",
              "      <td>White</td>\n",
              "      <td>27795</td>\n",
              "    </tr>\n",
              "    <tr>\n",
              "      <th>sex</th>\n",
              "      <td>32537</td>\n",
              "      <td>2</td>\n",
              "      <td>Male</td>\n",
              "      <td>21775</td>\n",
              "    </tr>\n",
              "    <tr>\n",
              "      <th>native_country</th>\n",
              "      <td>32537</td>\n",
              "      <td>42</td>\n",
              "      <td>United-States</td>\n",
              "      <td>29153</td>\n",
              "    </tr>\n",
              "    <tr>\n",
              "      <th>salary</th>\n",
              "      <td>32537</td>\n",
              "      <td>2</td>\n",
              "      <td>&lt;=50K</td>\n",
              "      <td>24698</td>\n",
              "    </tr>\n",
              "  </tbody>\n",
              "</table>\n",
              "</div>\n",
              "      <button class=\"colab-df-convert\" onclick=\"convertToInteractive('df-867d2eca-94a6-4d80-85a0-a9ff0e60e499')\"\n",
              "              title=\"Convert this dataframe to an interactive table.\"\n",
              "              style=\"display:none;\">\n",
              "        \n",
              "  <svg xmlns=\"http://www.w3.org/2000/svg\" height=\"24px\"viewBox=\"0 0 24 24\"\n",
              "       width=\"24px\">\n",
              "    <path d=\"M0 0h24v24H0V0z\" fill=\"none\"/>\n",
              "    <path d=\"M18.56 5.44l.94 2.06.94-2.06 2.06-.94-2.06-.94-.94-2.06-.94 2.06-2.06.94zm-11 1L8.5 8.5l.94-2.06 2.06-.94-2.06-.94L8.5 2.5l-.94 2.06-2.06.94zm10 10l.94 2.06.94-2.06 2.06-.94-2.06-.94-.94-2.06-.94 2.06-2.06.94z\"/><path d=\"M17.41 7.96l-1.37-1.37c-.4-.4-.92-.59-1.43-.59-.52 0-1.04.2-1.43.59L10.3 9.45l-7.72 7.72c-.78.78-.78 2.05 0 2.83L4 21.41c.39.39.9.59 1.41.59.51 0 1.02-.2 1.41-.59l7.78-7.78 2.81-2.81c.8-.78.8-2.07 0-2.86zM5.41 20L4 18.59l7.72-7.72 1.47 1.35L5.41 20z\"/>\n",
              "  </svg>\n",
              "      </button>\n",
              "      \n",
              "  <style>\n",
              "    .colab-df-container {\n",
              "      display:flex;\n",
              "      flex-wrap:wrap;\n",
              "      gap: 12px;\n",
              "    }\n",
              "\n",
              "    .colab-df-convert {\n",
              "      background-color: #E8F0FE;\n",
              "      border: none;\n",
              "      border-radius: 50%;\n",
              "      cursor: pointer;\n",
              "      display: none;\n",
              "      fill: #1967D2;\n",
              "      height: 32px;\n",
              "      padding: 0 0 0 0;\n",
              "      width: 32px;\n",
              "    }\n",
              "\n",
              "    .colab-df-convert:hover {\n",
              "      background-color: #E2EBFA;\n",
              "      box-shadow: 0px 1px 2px rgba(60, 64, 67, 0.3), 0px 1px 3px 1px rgba(60, 64, 67, 0.15);\n",
              "      fill: #174EA6;\n",
              "    }\n",
              "\n",
              "    [theme=dark] .colab-df-convert {\n",
              "      background-color: #3B4455;\n",
              "      fill: #D2E3FC;\n",
              "    }\n",
              "\n",
              "    [theme=dark] .colab-df-convert:hover {\n",
              "      background-color: #434B5C;\n",
              "      box-shadow: 0px 1px 3px 1px rgba(0, 0, 0, 0.15);\n",
              "      filter: drop-shadow(0px 1px 2px rgba(0, 0, 0, 0.3));\n",
              "      fill: #FFFFFF;\n",
              "    }\n",
              "  </style>\n",
              "\n",
              "      <script>\n",
              "        const buttonEl =\n",
              "          document.querySelector('#df-867d2eca-94a6-4d80-85a0-a9ff0e60e499 button.colab-df-convert');\n",
              "        buttonEl.style.display =\n",
              "          google.colab.kernel.accessAllowed ? 'block' : 'none';\n",
              "\n",
              "        async function convertToInteractive(key) {\n",
              "          const element = document.querySelector('#df-867d2eca-94a6-4d80-85a0-a9ff0e60e499');\n",
              "          const dataTable =\n",
              "            await google.colab.kernel.invokeFunction('convertToInteractive',\n",
              "                                                     [key], {});\n",
              "          if (!dataTable) return;\n",
              "\n",
              "          const docLinkHtml = 'Like what you see? Visit the ' +\n",
              "            '<a target=\"_blank\" href=https://colab.research.google.com/notebooks/data_table.ipynb>data table notebook</a>'\n",
              "            + ' to learn more about interactive tables.';\n",
              "          element.innerHTML = '';\n",
              "          dataTable['output_type'] = 'display_data';\n",
              "          await google.colab.output.renderOutput(dataTable, element);\n",
              "          const docLink = document.createElement('div');\n",
              "          docLink.innerHTML = docLinkHtml;\n",
              "          element.appendChild(docLink);\n",
              "        }\n",
              "      </script>\n",
              "    </div>\n",
              "  </div>\n",
              "  "
            ]
          },
          "metadata": {},
          "execution_count": 84
        }
      ],
      "source": [
        "df.describe(include=\"object\").T\n",
        "\n"
      ]
    },
    {
      "cell_type": "markdown",
      "metadata": {
        "id": "J29wIp2id80F"
      },
      "source": [
        "Desired Output:\n",
        "\n",
        "![image.png](https://i.ibb.co/WspBGfZ/US-Citicens3.png)"
      ]
    },
    {
      "cell_type": "markdown",
      "metadata": {
        "id": "g4jh0xR2d80F"
      },
      "source": [
        "**Assign the Columns (Features) of object data type as** **``\"object_col\"``**"
      ]
    },
    {
      "cell_type": "code",
      "execution_count": null,
      "metadata": {
        "id": "Ug0bVpild80F",
        "colab": {
          "base_uri": "https://localhost:8080/"
        },
        "outputId": "283e5fdc-83e6-4c88-a90a-44ebe9bec745"
      },
      "outputs": [
        {
          "output_type": "execute_result",
          "data": {
            "text/plain": [
              "Index(['workclass', 'education', 'marital_status', 'occupation',\n",
              "       'relationship', 'race', 'sex', 'native_country', 'salary'],\n",
              "      dtype='object')"
            ]
          },
          "metadata": {},
          "execution_count": 106
        }
      ],
      "source": [
        "object_col = df.loc[:, df.dtypes == object].columns\n",
        "object_col\n",
        "\n"
      ]
    },
    {
      "cell_type": "raw",
      "metadata": {
        "id": "RBSRddkNd80G"
      },
      "source": [
        "Desired Output:\n",
        "\n",
        "Index(['workclass', 'education', 'marital_status', 'occupation',\n",
        "       'relationship', 'race', 'gender', 'native_country', 'salary'],\n",
        "      dtype='object')"
      ]
    },
    {
      "cell_type": "code",
      "execution_count": null,
      "metadata": {
        "id": "FM8sgFTQjwON",
        "colab": {
          "base_uri": "https://localhost:8080/"
        },
        "outputId": "272cc903-ec6a-4818-fff0-d70396e16cdd"
      },
      "outputs": [
        {
          "output_type": "stream",
          "name": "stdout",
          "text": [
            "workclass\n",
            "----------------\n",
            "Private             22673\n",
            "Self-emp-not-inc     2540\n",
            "Local-gov            2093\n",
            "?                    1836\n",
            "State-gov            1298\n",
            "Self-emp-inc         1116\n",
            "Federal-gov           960\n",
            "Without-pay            14\n",
            "Never-worked            7\n",
            "Name: workclass, dtype: int64\n",
            "----------------------------------------\n",
            "education\n",
            "----------------\n",
            "HS-grad         10494\n",
            "Some-college     7282\n",
            "Bachelors        5353\n",
            "Masters          1722\n",
            "Assoc-voc        1382\n",
            "11th             1175\n",
            "Assoc-acdm       1067\n",
            "10th              933\n",
            "7th-8th           645\n",
            "Prof-school       576\n",
            "9th               514\n",
            "12th              433\n",
            "Doctorate         413\n",
            "5th-6th           332\n",
            "1st-4th           166\n",
            "Preschool          50\n",
            "Name: education, dtype: int64\n",
            "----------------------------------------\n",
            "marital_status\n",
            "----------------\n",
            "Married-civ-spouse       14970\n",
            "Never-married            10667\n",
            "Divorced                  4441\n",
            "Separated                 1025\n",
            "Widowed                    993\n",
            "Married-spouse-absent      418\n",
            "Married-AF-spouse           23\n",
            "Name: marital_status, dtype: int64\n",
            "----------------------------------------\n",
            "occupation\n",
            "----------------\n",
            "Prof-specialty       4136\n",
            "Craft-repair         4094\n",
            "Exec-managerial      4065\n",
            "Adm-clerical         3768\n",
            "Sales                3650\n",
            "Other-service        3291\n",
            "Machine-op-inspct    2000\n",
            "?                    1843\n",
            "Transport-moving     1597\n",
            "Handlers-cleaners    1369\n",
            "Farming-fishing       992\n",
            "Tech-support          927\n",
            "Protective-serv       649\n",
            "Priv-house-serv       147\n",
            "Armed-Forces            9\n",
            "Name: occupation, dtype: int64\n",
            "----------------------------------------\n",
            "relationship\n",
            "----------------\n",
            "Husband           13187\n",
            "Not-in-family      8292\n",
            "NaN                5064\n",
            "Unmarried          3445\n",
            "Wife               1568\n",
            "Other-relative      981\n",
            "Name: relationship, dtype: int64\n",
            "----------------------------------------\n",
            "race\n",
            "----------------\n",
            "White                 27795\n",
            "Black                  3122\n",
            "Asian-Pac-Islander     1038\n",
            "Amer-Indian-Eskimo      311\n",
            "Other                   271\n",
            "Name: race, dtype: int64\n",
            "----------------------------------------\n",
            "sex\n",
            "----------------\n",
            "Male      21775\n",
            "Female    10762\n",
            "Name: sex, dtype: int64\n",
            "----------------------------------------\n",
            "native_country\n",
            "----------------\n",
            "United-States                 29153\n",
            "Mexico                          639\n",
            "?                               582\n",
            "Philippines                     198\n",
            "Germany                         137\n",
            "Canada                          121\n",
            "Puerto-Rico                     114\n",
            "El-Salvador                     106\n",
            "India                           100\n",
            "Cuba                             95\n",
            "England                          90\n",
            "Jamaica                          81\n",
            "South                            80\n",
            "China                            75\n",
            "Italy                            73\n",
            "Dominican-Republic               70\n",
            "Vietnam                          67\n",
            "Japan                            62\n",
            "Guatemala                        62\n",
            "Poland                           60\n",
            "Columbia                         59\n",
            "Taiwan                           51\n",
            "Haiti                            44\n",
            "Iran                             43\n",
            "Portugal                         37\n",
            "Nicaragua                        34\n",
            "Peru                             31\n",
            "France                           29\n",
            "Greece                           29\n",
            "Ecuador                          28\n",
            "Ireland                          24\n",
            "Hong                             20\n",
            "Cambodia                         19\n",
            "Trinadad&Tobago                  19\n",
            "Laos                             18\n",
            "Thailand                         18\n",
            "Yugoslavia                       16\n",
            "Outlying-US(Guam-USVI-etc)       14\n",
            "Honduras                         13\n",
            "Hungary                          13\n",
            "Scotland                         12\n",
            "Holand-Netherlands                1\n",
            "Name: native_country, dtype: int64\n",
            "----------------------------------------\n",
            "salary\n",
            "----------------\n",
            "<=50K    24698\n",
            ">50K      7839\n",
            "Name: salary, dtype: int64\n",
            "----------------------------------------\n"
          ]
        }
      ],
      "source": [
        "for col in object_col:\n",
        "    print(col)\n",
        "    print(\"--\"*8)\n",
        "    print(df[col].value_counts(dropna=False))\n",
        "    print(\"--\"*20)"
      ]
    },
    {
      "cell_type": "markdown",
      "metadata": {
        "id": "HNWARhKid80H"
      },
      "source": [
        "**Check if the Dataset has any Question Mark** **``\"?\"``**"
      ]
    },
    {
      "cell_type": "code",
      "execution_count": null,
      "metadata": {
        "id": "WaS-FvSPd80I"
      },
      "outputs": [],
      "source": [
        "# Your Code is Here\n",
        "\n"
      ]
    },
    {
      "cell_type": "raw",
      "metadata": {
        "id": "b7Swnar7d80J"
      },
      "source": [
        "Desired Output:\n",
        "\n",
        "age               False\n",
        "workclass          True\n",
        "fnlwgt            False\n",
        "education         False\n",
        "education_num     False\n",
        "marital_status    False\n",
        "occupation         True\n",
        "relationship      False\n",
        "race              False\n",
        "gender            False\n",
        "capital_gain      False\n",
        "capital_loss      False\n",
        "hours_per_week    False\n",
        "native_country     True\n",
        "salary            False\n",
        "dtype: bool"
      ]
    },
    {
      "cell_type": "markdown",
      "metadata": {
        "id": "tRENVPjsjwOO"
      },
      "source": [
        "## <p style=\"background-color:#47AC34; font-family:georgia; color:white; font-size:175%; text-align:center; border-radius:10px 10px;\">Univariate & Multivariate Analysis</p>\n",
        "\n",
        "<a id=\"4\"></a>\n",
        "<a href=\"#toc\" class=\"btn btn-primary btn-sm\" role=\"button\" aria-pressed=\"true\" \n",
        "style=\"color:white; background-color:#47AC34\" data-toggle=\"popover\">Content</a>\n",
        "\n",
        "Examine all features (first target feature(\"salary\"), then numeric ones, lastly categoric ones) separetly from different aspects according to target feature.\n",
        "\n",
        "**to do list for numeric features:**\n",
        "1. Check the boxplot to see extreme values \n",
        "2. Check the histplot/kdeplot to see distribution of feature\n",
        "3. Check the statistical values\n",
        "4. Check the boxplot and histplot/kdeplot by \"salary\" levels\n",
        "5. Check the statistical values by \"salary\" levels\n",
        "6. Write down the conclusions you draw from your analysis\n",
        "\n",
        "**to do list for categoric features:**\n",
        "1. Find the features which contains similar values, examine the similarities and analyze them together \n",
        "2. Check the count/percentage of person in each categories and visualize it with a suitable plot\n",
        "3. If need, decrease the number of categories by combining similar categories\n",
        "4. Check the count of person in each \"salary\" levels by categories and visualize it with a suitable plot\n",
        "5. Check the percentage distribution of person in each \"salary\" levels by categories and visualize it with suitable plot\n",
        "6. Check the count of person in each categories by \"salary\" levels and visualize it with a suitable plot\n",
        "7. Check the percentage distribution of person in each categories by \"salary\" levels and visualize it with suitable plot\n",
        "8. Write down the conclusions you draw from your analysis\n",
        "\n",
        "**Note :** Instruction/direction for each feature is available under the corresponding feature in detail, as well."
      ]
    },
    {
      "cell_type": "markdown",
      "metadata": {
        "id": "FWVwlGMnjwOO"
      },
      "source": [
        "## Salary (Target Feature)"
      ]
    },
    {
      "cell_type": "markdown",
      "metadata": {
        "id": "aZEah_LljwOO"
      },
      "source": [
        "**Check the count of person in each \"salary\" levels and visualize it with a countplot**"
      ]
    },
    {
      "cell_type": "code",
      "execution_count": null,
      "metadata": {
        "id": "pktZIUpGd80L"
      },
      "outputs": [],
      "source": [
        "# Your Code is Here\n",
        "\n"
      ]
    },
    {
      "cell_type": "raw",
      "metadata": {
        "id": "J93syFfvd80M"
      },
      "source": [
        "Desired Output:\n",
        "\n",
        "<=50K    24698\n",
        ">50K      7839\n",
        "Name: salary, dtype: int64"
      ]
    },
    {
      "cell_type": "code",
      "execution_count": null,
      "metadata": {
        "id": "HCZN_ra2d80M"
      },
      "outputs": [],
      "source": [
        "# Your Code is Here\n",
        "\n"
      ]
    },
    {
      "cell_type": "markdown",
      "metadata": {
        "id": "y_xXDvfAd80N"
      },
      "source": [
        "Desired Output:\n",
        "\n",
        "![image.png](https://i.ibb.co/9qwrtB1/US-Citicens4.png)"
      ]
    },
    {
      "cell_type": "markdown",
      "metadata": {
        "id": "u92U8F26jwOP"
      },
      "source": [
        "**Check the percentage of person in each \"salary\" levels and visualize it with a pieplot**"
      ]
    },
    {
      "cell_type": "code",
      "execution_count": null,
      "metadata": {
        "id": "EKudDkqYd80N"
      },
      "outputs": [],
      "source": [
        "# Your Code is Here\n",
        "\n"
      ]
    },
    {
      "cell_type": "raw",
      "metadata": {
        "id": "RuXWMomId80O"
      },
      "source": [
        "Desired Output:\n",
        "\n",
        "<=50K   0.759\n",
        ">50K    0.241\n",
        "Name: salary, dtype: float64"
      ]
    },
    {
      "cell_type": "code",
      "execution_count": null,
      "metadata": {
        "id": "VrL40_-td80P"
      },
      "outputs": [],
      "source": [
        "# Your Code is Here\n",
        "\n"
      ]
    },
    {
      "cell_type": "markdown",
      "metadata": {
        "id": "D-FAaNbod80P"
      },
      "source": [
        "Desired Output:\n",
        "\n",
        "![image.png](https://i.ibb.co/8YFvBrq/US-Citices5.png)"
      ]
    },
    {
      "cell_type": "markdown",
      "metadata": {
        "id": "P5GiZjZNjwOP"
      },
      "source": [
        "**Write down the conclusions you draw from your analysis**"
      ]
    },
    {
      "cell_type": "markdown",
      "metadata": {
        "id": "u38tpMPujwOQ"
      },
      "source": [
        "**Result :** ................."
      ]
    },
    {
      "cell_type": "markdown",
      "metadata": {
        "id": "O-WjXfO7jwOQ"
      },
      "source": [
        "## Numeric Features"
      ]
    },
    {
      "cell_type": "markdown",
      "metadata": {
        "id": "UVjAplv8jwOQ"
      },
      "source": [
        "## age"
      ]
    },
    {
      "cell_type": "markdown",
      "metadata": {
        "id": "JSlVem-ZjwOQ"
      },
      "source": [
        "**Check the boxplot to see extreme values**"
      ]
    },
    {
      "cell_type": "code",
      "execution_count": null,
      "metadata": {
        "id": "mRebl-tod80R"
      },
      "outputs": [],
      "source": [
        "# Your Code is Here\n",
        "\n"
      ]
    },
    {
      "cell_type": "markdown",
      "metadata": {
        "id": "qiKJ0h6sd80T"
      },
      "source": [
        "Desired Output:\n",
        "\n",
        "![image.png](https://i.ibb.co/JKKwy5K/US-Citizens6.png)"
      ]
    },
    {
      "cell_type": "markdown",
      "metadata": {
        "id": "IjetyvahjwOQ"
      },
      "source": [
        "**Check the histplot/kdeplot to see distribution of feature**"
      ]
    },
    {
      "cell_type": "code",
      "execution_count": null,
      "metadata": {
        "id": "jzYEyPnId80U"
      },
      "outputs": [],
      "source": [
        "# Your Code is Here\n",
        "\n"
      ]
    },
    {
      "cell_type": "markdown",
      "metadata": {
        "id": "pDQvxFEMd80V"
      },
      "source": [
        "Desired Output:\n",
        "\n",
        "![image.png](https://i.ibb.co/JcJ9cyp/US-Citizens7.png)"
      ]
    },
    {
      "cell_type": "markdown",
      "metadata": {
        "id": "QqEkjaaHjwOR"
      },
      "source": [
        "**Check the statistical values**"
      ]
    },
    {
      "cell_type": "code",
      "execution_count": null,
      "metadata": {
        "id": "ksda1O0Cd80W"
      },
      "outputs": [],
      "source": [
        "# Your Code is Here\n",
        "\n"
      ]
    },
    {
      "cell_type": "raw",
      "metadata": {
        "id": "Pdfum2Y1d80X"
      },
      "source": [
        "Desired Output:\n",
        "\n",
        "count   32537.000\n",
        "mean       38.586\n",
        "std        13.638\n",
        "min        17.000\n",
        "25%        28.000\n",
        "50%        37.000\n",
        "75%        48.000\n",
        "max        90.000\n",
        "Name: age, dtype: float64"
      ]
    },
    {
      "cell_type": "markdown",
      "metadata": {
        "id": "M998V8hVjwOR"
      },
      "source": [
        "**Check the boxplot and histplot/kdeplot by \"salary\" levels**"
      ]
    },
    {
      "cell_type": "code",
      "execution_count": null,
      "metadata": {
        "id": "_d522B32d80Y"
      },
      "outputs": [],
      "source": [
        "# Your Code is Here\n",
        "\n"
      ]
    },
    {
      "cell_type": "markdown",
      "metadata": {
        "id": "0DQVq2jOd80Z"
      },
      "source": [
        "Desired Output:\n",
        "\n",
        "![image.png](https://i.ibb.co/64tBVNT/US-Citizens8.png)"
      ]
    },
    {
      "cell_type": "code",
      "execution_count": null,
      "metadata": {
        "id": "SMng7eREd80Z"
      },
      "outputs": [],
      "source": [
        "# Your Code is Here\n",
        "\n"
      ]
    },
    {
      "cell_type": "markdown",
      "metadata": {
        "id": "xH8nDXgYd80a"
      },
      "source": [
        "Desired Output:\n",
        "\n",
        "![image.png](https://i.ibb.co/q5P0sVf/US-Citizens9.png)"
      ]
    },
    {
      "cell_type": "code",
      "execution_count": null,
      "metadata": {
        "id": "zPyUarvUd80a"
      },
      "outputs": [],
      "source": [
        "# Your Code is Here\n",
        "\n"
      ]
    },
    {
      "cell_type": "markdown",
      "metadata": {
        "id": "DBYfj6m6d80b"
      },
      "source": [
        "Desired Output:\n",
        "\n",
        "![image.png](https://i.ibb.co/7Y2HkxB/US-Citizens10.png)"
      ]
    },
    {
      "cell_type": "markdown",
      "metadata": {
        "id": "Ue0sit4hjwOS"
      },
      "source": [
        "**Check the statistical values by \"salary\" levels**"
      ]
    },
    {
      "cell_type": "code",
      "execution_count": null,
      "metadata": {
        "id": "ZMHXHrFzd80c"
      },
      "outputs": [],
      "source": [
        "# Your Code is Here\n",
        "\n"
      ]
    },
    {
      "cell_type": "markdown",
      "metadata": {
        "id": "rjP8IhiJd80c"
      },
      "source": [
        "Desired Output:\n",
        "\n",
        "![image.png](https://i.ibb.co/xYYZcZZ/US-Citizens11.png)"
      ]
    },
    {
      "cell_type": "markdown",
      "metadata": {
        "id": "vWei7u-ljwOS"
      },
      "source": [
        "**Write down the conclusions you draw from your analysis**"
      ]
    },
    {
      "cell_type": "markdown",
      "metadata": {
        "id": "SkgAmdjnjwOT"
      },
      "source": [
        "**Result :** ................"
      ]
    },
    {
      "cell_type": "markdown",
      "metadata": {
        "id": "HOIESqNjjwOT"
      },
      "source": [
        "## fnlwgt"
      ]
    },
    {
      "cell_type": "markdown",
      "metadata": {
        "id": "j1M9913CjwOT"
      },
      "source": [
        "**Check the boxplot to see extreme values**"
      ]
    },
    {
      "cell_type": "code",
      "execution_count": null,
      "metadata": {
        "id": "RUYM0iPWd80j"
      },
      "outputs": [],
      "source": [
        "# Your Code is Here\n",
        "\n"
      ]
    },
    {
      "cell_type": "markdown",
      "metadata": {
        "id": "QPZL4EcUd80k"
      },
      "source": [
        "Desired Output:\n",
        "\n",
        "![image.png](https://i.ibb.co/x2TtkzH/US-Citizens12.png)"
      ]
    },
    {
      "cell_type": "markdown",
      "metadata": {
        "id": "_fMFmKvVjwOT"
      },
      "source": [
        "**Check the histplot/kdeplot to see distribution of feature**"
      ]
    },
    {
      "cell_type": "code",
      "execution_count": null,
      "metadata": {
        "id": "PSsIcemqd80k"
      },
      "outputs": [],
      "source": [
        "# Your Code is Here\n",
        "\n"
      ]
    },
    {
      "cell_type": "markdown",
      "metadata": {
        "id": "QBVbtr92d80l"
      },
      "source": [
        "Desired Output:\n",
        "\n",
        "![image.png](https://i.ibb.co/ZmMV8nv/US-Citizens13.png)"
      ]
    },
    {
      "cell_type": "markdown",
      "metadata": {
        "id": "6RFyLaCZjwOU"
      },
      "source": [
        "**Check the statistical values**"
      ]
    },
    {
      "cell_type": "code",
      "execution_count": null,
      "metadata": {
        "id": "ULt12Wlnd80m"
      },
      "outputs": [],
      "source": [
        "# Your Code is Here\n",
        "\n"
      ]
    },
    {
      "cell_type": "raw",
      "metadata": {
        "id": "MlD_o5dNd80m"
      },
      "source": [
        "Desired Output:\n",
        "\n",
        "count     32537.000\n",
        "mean     189780.849\n",
        "std      105556.471\n",
        "min       12285.000\n",
        "25%      117827.000\n",
        "50%      178356.000\n",
        "75%      236993.000\n",
        "max     1484705.000\n",
        "Name: fnlwgt, dtype: float64"
      ]
    },
    {
      "cell_type": "markdown",
      "metadata": {
        "id": "0c0RZVyfjwOU"
      },
      "source": [
        "**Check the boxplot and histplot/kdeplot by \"salary\" levels**"
      ]
    },
    {
      "cell_type": "code",
      "execution_count": null,
      "metadata": {
        "id": "YaEQYFcpd80n"
      },
      "outputs": [],
      "source": [
        "# Your Code is Here\n",
        "\n"
      ]
    },
    {
      "cell_type": "markdown",
      "metadata": {
        "id": "mFG1cSaZd80n"
      },
      "source": [
        "Desired Output:\n",
        "\n",
        "![image.png](https://i.ibb.co/ZxJS7JW/US-Citizens14.png)"
      ]
    },
    {
      "cell_type": "code",
      "execution_count": null,
      "metadata": {
        "id": "MY67Evfpd80o"
      },
      "outputs": [],
      "source": [
        "# Your Code is Here\n",
        "\n"
      ]
    },
    {
      "cell_type": "markdown",
      "metadata": {
        "id": "_pZxuHiDd80p"
      },
      "source": [
        "Desired Output:\n",
        "\n",
        "![image.png](https://i.ibb.co/TgygLrz/US-Citizens15.png)"
      ]
    },
    {
      "cell_type": "markdown",
      "metadata": {
        "id": "7pfCMuMYjwOV"
      },
      "source": [
        "**Check the statistical values by \"salary\" levels**"
      ]
    },
    {
      "cell_type": "code",
      "execution_count": null,
      "metadata": {
        "id": "fatnWit9d80q"
      },
      "outputs": [],
      "source": [
        "# Your Code is Here\n",
        "\n"
      ]
    },
    {
      "cell_type": "markdown",
      "metadata": {
        "id": "UrS1inSHd80r"
      },
      "source": [
        "Desired Output:\n",
        "\n",
        "![image.png](https://i.ibb.co/LzWqdBf/US-Citizens16.png)"
      ]
    },
    {
      "cell_type": "markdown",
      "metadata": {
        "id": "mHHIE5i1jwOV"
      },
      "source": [
        "**Write down the conclusions you draw from your analysis**"
      ]
    },
    {
      "cell_type": "markdown",
      "metadata": {
        "id": "B1cHhb2ejwOV"
      },
      "source": [
        "**Result :** ..............."
      ]
    },
    {
      "cell_type": "markdown",
      "metadata": {
        "id": "6MCscpw1jwOV"
      },
      "source": [
        "## capital_gain"
      ]
    },
    {
      "cell_type": "markdown",
      "metadata": {
        "id": "MYcwxtzxjwOV"
      },
      "source": [
        "**Check the boxplot to see extreme values**"
      ]
    },
    {
      "cell_type": "code",
      "execution_count": null,
      "metadata": {
        "id": "3wlXuDb6d80s"
      },
      "outputs": [],
      "source": [
        "# Your Code is Here\n",
        "\n"
      ]
    },
    {
      "cell_type": "markdown",
      "metadata": {
        "id": "7nA9w_3cd80t"
      },
      "source": [
        "Desired Output:\n",
        "\n",
        "![image.png](https://i.ibb.co/6Xj1TCz/US-Citizens17.png)"
      ]
    },
    {
      "cell_type": "markdown",
      "metadata": {
        "id": "GVV5v0CzjwOW"
      },
      "source": [
        "**Check the histplot/kdeplot to see distribution of feature**"
      ]
    },
    {
      "cell_type": "code",
      "execution_count": null,
      "metadata": {
        "id": "PIYQH1gcd80u"
      },
      "outputs": [],
      "source": [
        "# Your Code is Here\n",
        "\n"
      ]
    },
    {
      "cell_type": "markdown",
      "metadata": {
        "id": "5Lajybkkd80v"
      },
      "source": [
        "Desired Output:\n",
        "\n",
        "![image.png](https://i.ibb.co/X3nW72Q/US-Citizens18.png)"
      ]
    },
    {
      "cell_type": "markdown",
      "metadata": {
        "id": "dap9OeI-jwOW"
      },
      "source": [
        "**Check the statistical values**"
      ]
    },
    {
      "cell_type": "code",
      "execution_count": null,
      "metadata": {
        "id": "NmvfGCRid80v"
      },
      "outputs": [],
      "source": [
        "# Your Code is Here\n",
        "\n"
      ]
    },
    {
      "cell_type": "raw",
      "metadata": {
        "id": "ieu54pT3d80w"
      },
      "source": [
        "Desired Output:\n",
        "\n",
        "count   32537.000\n",
        "mean     1078.444\n",
        "std      7387.957\n",
        "min         0.000\n",
        "25%         0.000\n",
        "50%         0.000\n",
        "75%         0.000\n",
        "max     99999.000\n",
        "Name: capital_gain, dtype: float64"
      ]
    },
    {
      "cell_type": "markdown",
      "metadata": {
        "id": "3SWvge41jwOW"
      },
      "source": [
        "**Check the boxplot and histplot/kdeplot by \"salary\" levels**"
      ]
    },
    {
      "cell_type": "code",
      "execution_count": null,
      "metadata": {
        "id": "fPDKfa_Zd80x"
      },
      "outputs": [],
      "source": [
        "# Your Code is Here\n",
        "\n"
      ]
    },
    {
      "cell_type": "markdown",
      "metadata": {
        "id": "_zI7hvN4d80y"
      },
      "source": [
        "Desired Output:\n",
        "\n",
        "![image.png](https://i.ibb.co/CM3cTgt/19.png)"
      ]
    },
    {
      "cell_type": "code",
      "execution_count": null,
      "metadata": {
        "id": "O8HoyoFgd80z"
      },
      "outputs": [],
      "source": [
        "# Your Code is Here\n",
        "\n"
      ]
    },
    {
      "cell_type": "markdown",
      "metadata": {
        "id": "7VQTshVrd80z"
      },
      "source": [
        "Desired Output:\n",
        "\n",
        "![image.png](https://i.ibb.co/h7DKvLY/20.png)"
      ]
    },
    {
      "cell_type": "markdown",
      "metadata": {
        "id": "4WCEcxNHjwOX"
      },
      "source": [
        "**Check the statistical values by \"salary\" levels**"
      ]
    },
    {
      "cell_type": "code",
      "execution_count": null,
      "metadata": {
        "id": "F3MPuMCyd800"
      },
      "outputs": [],
      "source": [
        "# Your Code is Here\n",
        "\n"
      ]
    },
    {
      "cell_type": "markdown",
      "metadata": {
        "id": "thup3Rx_d801"
      },
      "source": [
        "Desired Output:\n",
        "\n",
        "![image.png](https://i.ibb.co/mzYxTD4/21.png)"
      ]
    },
    {
      "cell_type": "markdown",
      "metadata": {
        "id": "uUU2P7HujwOX"
      },
      "source": [
        "**Check the statistical values by \"salary\" levels for capital_gain not equal the zero**"
      ]
    },
    {
      "cell_type": "code",
      "execution_count": null,
      "metadata": {
        "id": "J7_zPOwnd801"
      },
      "outputs": [],
      "source": [
        "# Your Code is Here\n",
        "\n"
      ]
    },
    {
      "cell_type": "markdown",
      "metadata": {
        "id": "dhJqD628d802"
      },
      "source": [
        "Desired Output:\n",
        "\n",
        "![image.png](https://i.ibb.co/r3mdBkK/22.png)"
      ]
    },
    {
      "cell_type": "markdown",
      "metadata": {
        "id": "oGTkUS7-jwOX"
      },
      "source": [
        "**Write down the conclusions you draw from your analysis**"
      ]
    },
    {
      "cell_type": "markdown",
      "metadata": {
        "id": "bkZ9CSZrjwOY"
      },
      "source": [
        "**Result :** ..........................."
      ]
    },
    {
      "cell_type": "markdown",
      "metadata": {
        "id": "9Xgur7CdjwOY"
      },
      "source": [
        "## capital_loss"
      ]
    },
    {
      "cell_type": "markdown",
      "metadata": {
        "id": "ronhkqMUjwOY"
      },
      "source": [
        "**Check the boxplot to see extreme values**"
      ]
    },
    {
      "cell_type": "code",
      "execution_count": null,
      "metadata": {
        "id": "E22mnXfhd806"
      },
      "outputs": [],
      "source": [
        "# Your Code is Here\n",
        "\n"
      ]
    },
    {
      "cell_type": "markdown",
      "metadata": {
        "id": "OSWvEzu8d807"
      },
      "source": [
        "Desired Output:\n",
        "\n",
        "![image.png](https://i.ibb.co/Db3XHKz/23.png)"
      ]
    },
    {
      "cell_type": "markdown",
      "metadata": {
        "id": "xHU4BWzbjwOY"
      },
      "source": [
        "**Check the histplot/kdeplot to see distribution of feature**"
      ]
    },
    {
      "cell_type": "code",
      "execution_count": null,
      "metadata": {
        "id": "W1rIuZycd80-"
      },
      "outputs": [],
      "source": [
        "# Your Code is Here\n",
        "\n"
      ]
    },
    {
      "cell_type": "markdown",
      "metadata": {
        "id": "q2HHfrG9d80_"
      },
      "source": [
        "Desired Output:\n",
        "\n",
        "![image.png](https://i.ibb.co/z7P15zX/24.png)"
      ]
    },
    {
      "cell_type": "markdown",
      "metadata": {
        "id": "I_cP71DijwOY"
      },
      "source": [
        "**Check the statistical values**"
      ]
    },
    {
      "cell_type": "code",
      "execution_count": null,
      "metadata": {
        "id": "00S6or_Qd81B"
      },
      "outputs": [],
      "source": [
        "# Your Code is Here\n",
        "\n"
      ]
    },
    {
      "cell_type": "raw",
      "metadata": {
        "id": "Z7wXSLXld81B"
      },
      "source": [
        "Desired Output:\n",
        "\n",
        "count   32537.000\n",
        "mean       87.368\n",
        "std       403.102\n",
        "min         0.000\n",
        "25%         0.000\n",
        "50%         0.000\n",
        "75%         0.000\n",
        "max      4356.000\n",
        "Name: capital_loss, dtype: float64"
      ]
    },
    {
      "cell_type": "markdown",
      "metadata": {
        "id": "oQh80H7ejwOZ"
      },
      "source": [
        "**Check the boxplot and histplot/kdeplot by \"salary\" levels**"
      ]
    },
    {
      "cell_type": "code",
      "execution_count": null,
      "metadata": {
        "id": "3vX2wP1_d81C"
      },
      "outputs": [],
      "source": [
        "# Your Code is Here\n",
        "\n"
      ]
    },
    {
      "cell_type": "markdown",
      "metadata": {
        "id": "Mf0gUOxOd81C"
      },
      "source": [
        "Desired Output:\n",
        "\n",
        "![image.png](https://i.ibb.co/Dr7Bv9V/25.png)"
      ]
    },
    {
      "cell_type": "code",
      "execution_count": null,
      "metadata": {
        "id": "nq4BkoGRd81D"
      },
      "outputs": [],
      "source": [
        "# Your Code is Here\n",
        "\n"
      ]
    },
    {
      "cell_type": "markdown",
      "metadata": {
        "id": "cjkIkYHGd81D"
      },
      "source": [
        "Desired Output:\n",
        "\n",
        "![image.png](https://i.ibb.co/4Vg5Zyy/26.png)"
      ]
    },
    {
      "cell_type": "markdown",
      "metadata": {
        "id": "nv0MQVuQjwOZ"
      },
      "source": [
        "**Check the statistical values by \"salary\" levels**"
      ]
    },
    {
      "cell_type": "code",
      "execution_count": null,
      "metadata": {
        "id": "JSRQe9ded81E"
      },
      "outputs": [],
      "source": [
        "# Your Code is Here\n",
        "\n"
      ]
    },
    {
      "cell_type": "markdown",
      "metadata": {
        "id": "mJfjmJcKd81F"
      },
      "source": [
        "Desired Output:\n",
        "\n",
        "![image.png](https://i.ibb.co/h9DTKNW/27.png)"
      ]
    },
    {
      "cell_type": "markdown",
      "metadata": {
        "id": "PTPaQHjujwOa"
      },
      "source": [
        "**Check the statistical values by \"salary\" levels for capital_loss not equel the zero**"
      ]
    },
    {
      "cell_type": "code",
      "execution_count": null,
      "metadata": {
        "id": "LbZ4onGtd81H"
      },
      "outputs": [],
      "source": [
        "# Your Code is Here\n",
        "\n"
      ]
    },
    {
      "cell_type": "markdown",
      "metadata": {
        "id": "JEXFZCl3d81H"
      },
      "source": [
        "Desired Output:\n",
        "\n",
        "![image.png](https://i.ibb.co/gJzQvmD/28.png)"
      ]
    },
    {
      "cell_type": "markdown",
      "metadata": {
        "id": "WsXY8G85jwOa"
      },
      "source": [
        "**Write down the conclusions you draw from your analysis**"
      ]
    },
    {
      "cell_type": "markdown",
      "metadata": {
        "id": "I56huIocjwOa"
      },
      "source": [
        "**Result :** .................."
      ]
    },
    {
      "cell_type": "markdown",
      "metadata": {
        "id": "x6Q6OxR6jwOa"
      },
      "source": [
        "## hours_per_week"
      ]
    },
    {
      "cell_type": "markdown",
      "metadata": {
        "id": "XVEKpdK8jwOa"
      },
      "source": [
        "**Check the boxplot to see extreme values**"
      ]
    },
    {
      "cell_type": "code",
      "execution_count": null,
      "metadata": {
        "id": "Mxysi0vId81J"
      },
      "outputs": [],
      "source": [
        "# Your Code is Here\n",
        "\n"
      ]
    },
    {
      "cell_type": "markdown",
      "metadata": {
        "id": "jt-feib_d81J"
      },
      "source": [
        "Desired Output:\n",
        "\n",
        "![image.png](https://i.ibb.co/TkNCRYY/29.png)"
      ]
    },
    {
      "cell_type": "markdown",
      "metadata": {
        "id": "6lclEo50jwOb"
      },
      "source": [
        "**Check the histplot/kdeplot to see distribution of feature**"
      ]
    },
    {
      "cell_type": "code",
      "execution_count": null,
      "metadata": {
        "id": "kNFpS7MOd81K"
      },
      "outputs": [],
      "source": [
        "# Your Code is Here\n",
        "\n"
      ]
    },
    {
      "cell_type": "markdown",
      "metadata": {
        "id": "1PzZnMt6d81L"
      },
      "source": [
        "Desired Output:\n",
        "\n",
        "![image.png](https://i.ibb.co/tsp5GXb/30.png)"
      ]
    },
    {
      "cell_type": "markdown",
      "metadata": {
        "id": "lXvtJXUhjwOb"
      },
      "source": [
        "**Check the statistical values**"
      ]
    },
    {
      "cell_type": "code",
      "execution_count": null,
      "metadata": {
        "id": "47ed83Lkd81M"
      },
      "outputs": [],
      "source": [
        "# Your Code is Here\n",
        "\n"
      ]
    },
    {
      "cell_type": "raw",
      "metadata": {
        "id": "XrmuY-rKd81N"
      },
      "source": [
        "Desired Output:\n",
        "\n",
        "count   32537.000\n",
        "mean       40.440\n",
        "std        12.347\n",
        "min         1.000\n",
        "25%        40.000\n",
        "50%        40.000\n",
        "75%        45.000\n",
        "max        99.000\n",
        "Name: hours_per_week, dtype: float64"
      ]
    },
    {
      "cell_type": "markdown",
      "metadata": {
        "id": "HseRL6G5jwOb"
      },
      "source": [
        "**Check the boxplot and histplot/kdeplot by \"salary\" levels**"
      ]
    },
    {
      "cell_type": "code",
      "execution_count": null,
      "metadata": {
        "id": "zhXkpuH5d81O"
      },
      "outputs": [],
      "source": [
        "# Your Code is Here\n",
        "\n"
      ]
    },
    {
      "cell_type": "markdown",
      "metadata": {
        "id": "htUNsEfud81P"
      },
      "source": [
        "Desired Output:\n",
        "\n",
        "![image.png](https://i.ibb.co/4RhSct7/31.png)"
      ]
    },
    {
      "cell_type": "code",
      "execution_count": null,
      "metadata": {
        "id": "nIsXVMYUd81P"
      },
      "outputs": [],
      "source": [
        "# Your Code is Here\n",
        "\n"
      ]
    },
    {
      "cell_type": "markdown",
      "metadata": {
        "id": "RZpBTprEd81Q"
      },
      "source": [
        "Desired Output:\n",
        "\n",
        "![image.png](https://i.ibb.co/pbbVnMG/32.png)"
      ]
    },
    {
      "cell_type": "markdown",
      "metadata": {
        "id": "ZNgKEn8pjwOc"
      },
      "source": [
        "**Check the statistical values by \"salary\" levels**"
      ]
    },
    {
      "cell_type": "code",
      "execution_count": null,
      "metadata": {
        "id": "wrUz5zjvd81R"
      },
      "outputs": [],
      "source": [
        "# Your Code is Here\n",
        "\n"
      ]
    },
    {
      "cell_type": "markdown",
      "metadata": {
        "id": "xJ-RVyuNd81S"
      },
      "source": [
        "Desired Output:\n",
        "\n",
        "![image.png](https://i.ibb.co/6NbWfzz/33.png)"
      ]
    },
    {
      "cell_type": "markdown",
      "metadata": {
        "id": "eSSyAXhmjwOc"
      },
      "source": [
        "**Write down the conclusions you draw from your analysis**"
      ]
    },
    {
      "cell_type": "markdown",
      "metadata": {
        "id": "ohMQzPJkjwOc"
      },
      "source": [
        "**Result :** ....................."
      ]
    },
    {
      "cell_type": "markdown",
      "metadata": {
        "id": "jWt2NRMNjwOd"
      },
      "source": [
        "### See the relationship between each numeric features by target feature (salary) in one plot basically"
      ]
    },
    {
      "cell_type": "code",
      "execution_count": null,
      "metadata": {
        "id": "Bi84kT8Yd81U"
      },
      "outputs": [],
      "source": [
        "# Your Code is Here\n",
        "\n"
      ]
    },
    {
      "cell_type": "markdown",
      "metadata": {
        "id": "WsvmAXoFd81U"
      },
      "source": [
        "Desired Output:\n",
        "\n",
        "![image.png](https://i.ibb.co/N7Fz4hg/34.png)"
      ]
    },
    {
      "cell_type": "markdown",
      "metadata": {
        "id": "KoqL-m8HjwOd"
      },
      "source": [
        "## Categorical Features"
      ]
    },
    {
      "cell_type": "markdown",
      "metadata": {
        "id": "r2MBtjItjwOd"
      },
      "source": [
        "## education & education_num"
      ]
    },
    {
      "cell_type": "markdown",
      "metadata": {
        "id": "rBi5WgmdjwOd"
      },
      "source": [
        "**Detect the similarities between these features by comparing unique values**"
      ]
    },
    {
      "cell_type": "code",
      "execution_count": null,
      "metadata": {
        "id": "VmDlV-L9d81W"
      },
      "outputs": [],
      "source": [
        "# Your Code is Here\n",
        "\n"
      ]
    },
    {
      "cell_type": "raw",
      "metadata": {
        "id": "3oqgHcm2d81X"
      },
      "source": [
        "Desired Output:\n",
        "\n",
        "HS-grad         10494\n",
        "Some-college     7282\n",
        "Bachelors        5353\n",
        "Masters          1722\n",
        "Assoc-voc        1382\n",
        "11th             1175\n",
        "Assoc-acdm       1067\n",
        "10th              933\n",
        "7th-8th           645\n",
        "Prof-school       576\n",
        "9th               514\n",
        "12th              433\n",
        "Doctorate         413\n",
        "5th-6th           332\n",
        "1st-4th           166\n",
        "Preschool          50\n",
        "Name: education, dtype: int64"
      ]
    },
    {
      "cell_type": "code",
      "execution_count": null,
      "metadata": {
        "id": "DI5KW6lEd81X"
      },
      "outputs": [],
      "source": [
        "# Your Code is Here\n",
        "\n"
      ]
    },
    {
      "cell_type": "raw",
      "metadata": {
        "id": "Cnenaphsd81Y"
      },
      "source": [
        "Desired Output:\n",
        "\n",
        "9.000     10208\n",
        "10.000     7089\n",
        "13.000     5245\n",
        "14.000     1686\n",
        "11.000     1343\n",
        "7.000      1146\n",
        "12.000     1044\n",
        "6.000       916\n",
        "NaN         802\n",
        "4.000       630\n",
        "15.000      559\n",
        "5.000       503\n",
        "8.000       424\n",
        "16.000      405\n",
        "3.000       329\n",
        "2.000       159\n",
        "1.000        49\n",
        "Name: education_num, dtype: int64"
      ]
    },
    {
      "cell_type": "code",
      "execution_count": null,
      "metadata": {
        "id": "rjIAiU8Cd81Y"
      },
      "outputs": [],
      "source": [
        "# Your Code is Here\n",
        "\n"
      ]
    },
    {
      "cell_type": "raw",
      "metadata": {
        "id": "9ScLG64Td81Y"
      },
      "source": [
        "Desired Output:\n",
        "\n",
        "education     education_num\n",
        "10th          6.000              916\n",
        "              NaN                 17\n",
        "11th          7.000             1146\n",
        "              NaN                 29\n",
        "12th          8.000              424\n",
        "              NaN                  9\n",
        "1st-4th       2.000              159\n",
        "              NaN                  7\n",
        "5th-6th       3.000              329\n",
        "              NaN                  3\n",
        "7th-8th       4.000              630\n",
        "              NaN                 15\n",
        "9th           5.000              503\n",
        "              NaN                 11\n",
        "Assoc-acdm    12.000            1044\n",
        "              NaN                 23\n",
        "Assoc-voc     11.000            1343\n",
        "              NaN                 39\n",
        "Bachelors     13.000            5245\n",
        "              NaN                108\n",
        "Doctorate     16.000             405\n",
        "              NaN                  8\n",
        "HS-grad       9.000            10208\n",
        "              NaN                286\n",
        "Masters       14.000            1686\n",
        "              NaN                 36\n",
        "Preschool     1.000               49\n",
        "              NaN                  1\n",
        "Prof-school   15.000             559\n",
        "              NaN                 17\n",
        "Some-college  10.000            7089\n",
        "              NaN                193\n",
        "Name: education_num, dtype: int64"
      ]
    },
    {
      "cell_type": "markdown",
      "metadata": {
        "id": "_TBE_09QjwOe"
      },
      "source": [
        "**Visualize the count of person in each categories for these features (education, education_num) separately**"
      ]
    },
    {
      "cell_type": "code",
      "execution_count": null,
      "metadata": {
        "id": "zd-E2RFxd81a"
      },
      "outputs": [],
      "source": [
        "# Your Code is Here\n",
        "\n"
      ]
    },
    {
      "cell_type": "markdown",
      "metadata": {
        "id": "4RYXu-Zsd81b"
      },
      "source": [
        "Desired Output:\n",
        "\n",
        "![image.png](https://i.ibb.co/5xc31HR/35.png)"
      ]
    },
    {
      "cell_type": "code",
      "execution_count": null,
      "metadata": {
        "id": "o-rd-ljid81c"
      },
      "outputs": [],
      "source": [
        "# Your Code is Here\n",
        "\n"
      ]
    },
    {
      "cell_type": "markdown",
      "metadata": {
        "id": "8YAjfyFYd81d"
      },
      "source": [
        "Desired Output:\n",
        "\n",
        "![image.png](https://i.ibb.co/6HWtNN6/36.png)"
      ]
    },
    {
      "cell_type": "markdown",
      "metadata": {
        "id": "60WFA-LxjwOf"
      },
      "source": [
        "**Check the count of person in each \"salary\" levels by these features (education and education_num) separately and visualize them with countplot**"
      ]
    },
    {
      "cell_type": "code",
      "execution_count": null,
      "metadata": {
        "id": "wEDGhtqgd81e"
      },
      "outputs": [],
      "source": [
        "# Your Code is Here\n",
        "\n"
      ]
    },
    {
      "cell_type": "raw",
      "metadata": {
        "id": "vQatoA1Bd81g"
      },
      "source": [
        "Desired Output:\n",
        "\n",
        "education     salary\n",
        "10th          <=50K      871\n",
        "              >50K        62\n",
        "11th          <=50K     1115\n",
        "              >50K        60\n",
        "12th          <=50K      400\n",
        "              >50K        33\n",
        "1st-4th       <=50K      160\n",
        "              >50K         6\n",
        "5th-6th       <=50K      316\n",
        "              >50K        16\n",
        "7th-8th       <=50K      605\n",
        "              >50K        40\n",
        "9th           <=50K      487\n",
        "              >50K        27\n",
        "Assoc-acdm    <=50K      802\n",
        "              >50K       265\n",
        "Assoc-voc     <=50K     1021\n",
        "              >50K       361\n",
        "Bachelors     <=50K     3132\n",
        "              >50K      2221\n",
        "Doctorate     >50K       306\n",
        "              <=50K      107\n",
        "HS-grad       <=50K     8820\n",
        "              >50K      1674\n",
        "Masters       >50K       959\n",
        "              <=50K      763\n",
        "Preschool     <=50K       50\n",
        "Prof-school   >50K       423\n",
        "              <=50K      153\n",
        "Some-college  <=50K     5896\n",
        "              >50K      1386\n",
        "Name: salary, dtype: int64"
      ]
    },
    {
      "cell_type": "code",
      "execution_count": null,
      "metadata": {
        "id": "ptRYXgkmd81h"
      },
      "outputs": [],
      "source": [
        "# Your Code is Here\n",
        "\n"
      ]
    },
    {
      "cell_type": "markdown",
      "metadata": {
        "id": "kTTTPT8nd81i"
      },
      "source": [
        "Desired Output:\n",
        "\n",
        "![image.png](https://i.ibb.co/qxZXX1y/37.png)"
      ]
    },
    {
      "cell_type": "code",
      "execution_count": null,
      "metadata": {
        "id": "3IE44ygxd81i"
      },
      "outputs": [],
      "source": [
        "# Your Code is Here\n",
        "\n"
      ]
    },
    {
      "cell_type": "raw",
      "metadata": {
        "id": "t6-vyie5d81j"
      },
      "source": [
        "Desired Output:\n",
        "\n",
        "education_num  salary\n",
        "1.000          <=50K       49\n",
        "2.000          <=50K      153\n",
        "               >50K         6\n",
        "3.000          <=50K      313\n",
        "               >50K        16\n",
        "4.000          <=50K      592\n",
        "               >50K        38\n",
        "5.000          <=50K      477\n",
        "               >50K        26\n",
        "6.000          <=50K      854\n",
        "               >50K        62\n",
        "7.000          <=50K     1088\n",
        "               >50K        58\n",
        "8.000          <=50K      391\n",
        "               >50K        33\n",
        "9.000          <=50K     8579\n",
        "               >50K      1629\n",
        "10.000         <=50K     5746\n",
        "               >50K      1343\n",
        "11.000         <=50K      994\n",
        "               >50K       349\n",
        "12.000         <=50K      787\n",
        "               >50K       257\n",
        "13.000         <=50K     3078\n",
        "               >50K      2167\n",
        "14.000         >50K       935\n",
        "               <=50K      751\n",
        "15.000         >50K       410\n",
        "               <=50K      149\n",
        "16.000         >50K       302\n",
        "               <=50K      103\n",
        "Name: salary, dtype: int64"
      ]
    },
    {
      "cell_type": "code",
      "execution_count": null,
      "metadata": {
        "id": "YTJe60Iid81k"
      },
      "outputs": [],
      "source": [
        "# Your Code is Here\n",
        "\n"
      ]
    },
    {
      "cell_type": "markdown",
      "metadata": {
        "id": "QHB-boITd81l"
      },
      "source": [
        "Desired Output:\n",
        "\n",
        "![image.png](https://i.ibb.co/2M0BYyk/38.png)"
      ]
    },
    {
      "cell_type": "markdown",
      "metadata": {
        "id": "u1tOfC0AjwOh"
      },
      "source": [
        "**Visualize the boxplot of \"education_num\" feature by \"salary\" levels**"
      ]
    },
    {
      "cell_type": "code",
      "execution_count": null,
      "metadata": {
        "id": "FHOZ3kIPd81n"
      },
      "outputs": [],
      "source": [
        "# Your Code is Here\n",
        "\n"
      ]
    },
    {
      "cell_type": "markdown",
      "metadata": {
        "id": "NvY2g4GPd81n"
      },
      "source": [
        "Desired Output:\n",
        "\n",
        "![image.png](https://i.ibb.co/mSBNzKw/39.png)"
      ]
    },
    {
      "cell_type": "markdown",
      "metadata": {
        "id": "zSe13lNmjwOh"
      },
      "source": [
        "**Decrease the number of categories in \"education\" feature as low, medium, and high level and create a new feature with this new categorical data.**"
      ]
    },
    {
      "cell_type": "code",
      "execution_count": null,
      "metadata": {
        "id": "ogvWXpzCjwOh"
      },
      "outputs": [],
      "source": [
        "def mapping_education(x):\n",
        "    if x in [\"Preschool\", \"1st-4th\", \"5th-6th\", \"7th-8th\", \"9th\", \"10th\", \"11th\", \"12th\"]:\n",
        "        return \"low_level_grade\"\n",
        "    elif x in [\"HS-grad\", \"Some-college\", \"Assoc-voc\", \"Assoc-acdm\"]:\n",
        "        return \"medium_level_grade\"\n",
        "    elif x in [\"Bachelors\", \"Masters\", \"Prof-school\", \"Doctorate\"]:\n",
        "        return \"high_level_grade\""
      ]
    },
    {
      "cell_type": "code",
      "execution_count": null,
      "metadata": {
        "id": "r7MG0-Kvd81p"
      },
      "outputs": [],
      "source": [
        "# Your Code is Here\n",
        "\n"
      ]
    },
    {
      "cell_type": "raw",
      "metadata": {
        "id": "AK-8l3Rad81p"
      },
      "source": [
        "Desired Output:\n",
        "\n",
        "medium_level_grade    20225\n",
        "high_level_grade       8064\n",
        "low_level_grade        4248\n",
        "Name: education, dtype: int64"
      ]
    },
    {
      "cell_type": "code",
      "execution_count": null,
      "metadata": {
        "id": "77jk1G0qd81q"
      },
      "outputs": [],
      "source": [
        "# By using \"mapping_education\" def function above, create a new column named \"education_summary\"\n",
        "\n",
        "# Your Code is Here\n",
        "\n"
      ]
    },
    {
      "cell_type": "markdown",
      "metadata": {
        "id": "tKtlRPugjwOi"
      },
      "source": [
        "**Visualize the count of person in each categories for these new education levels (high, medium, low)**"
      ]
    },
    {
      "cell_type": "code",
      "execution_count": null,
      "metadata": {
        "id": "JUzXcEPCd81r"
      },
      "outputs": [],
      "source": [
        "# Your Code is Here\n",
        "\n"
      ]
    },
    {
      "cell_type": "markdown",
      "metadata": {
        "id": "3IJsf06-d81r"
      },
      "source": [
        "Desired Output:\n",
        "\n",
        "![image.png](https://i.ibb.co/cx3Dzn1/40.png)"
      ]
    },
    {
      "cell_type": "markdown",
      "metadata": {
        "id": "Hs4Zjh3vjwOj"
      },
      "source": [
        "**Check the count of person in each \"salary\" levels by these new education levels(high, medium, low) and visualize it with countplot**"
      ]
    },
    {
      "cell_type": "code",
      "execution_count": null,
      "metadata": {
        "id": "Q6yxDQvSd81s"
      },
      "outputs": [],
      "source": [
        "# Your Code is Here\n",
        "\n"
      ]
    },
    {
      "cell_type": "raw",
      "metadata": {
        "id": "ovwN07Jcd81t"
      },
      "source": [
        "Desired Output:\n",
        "\n",
        "education_summary   salary\n",
        "high_level_grade    <=50K      4155\n",
        "                    >50K       3909\n",
        "low_level_grade     <=50K      4004\n",
        "                    >50K        244\n",
        "medium_level_grade  <=50K     16539\n",
        "                    >50K       3686\n",
        "Name: salary, dtype: int64"
      ]
    },
    {
      "cell_type": "code",
      "execution_count": null,
      "metadata": {
        "id": "8JgygxkYd81t"
      },
      "outputs": [],
      "source": [
        "# Your Code is Here\n",
        "\n"
      ]
    },
    {
      "cell_type": "markdown",
      "metadata": {
        "id": "MoT9aAZ6d81u"
      },
      "source": [
        "Desired Output:\n",
        "\n",
        "![image.png](https://i.ibb.co/tXk04LJ/41.png)"
      ]
    },
    {
      "cell_type": "markdown",
      "metadata": {
        "id": "67F2OAabjwOj"
      },
      "source": [
        "**Check the percentage distribution of person in each \"salary\" levels by each new education levels (high, medium, low) and visualize it with pie plot separately**"
      ]
    },
    {
      "cell_type": "code",
      "execution_count": null,
      "metadata": {
        "id": "uLnsmxcud81v"
      },
      "outputs": [],
      "source": [
        "# Your Code is Here\n",
        "\n"
      ]
    },
    {
      "cell_type": "raw",
      "metadata": {
        "id": "eJYT0Cltd81w"
      },
      "source": [
        "Desired Output:\n",
        "\n",
        "education_summary   salary\n",
        "high_level_grade    <=50K    0.515\n",
        "                    >50K     0.485\n",
        "low_level_grade     <=50K    0.943\n",
        "                    >50K     0.057\n",
        "medium_level_grade  <=50K    0.818\n",
        "                    >50K     0.182\n",
        "Name: salary, dtype: float64"
      ]
    },
    {
      "cell_type": "code",
      "execution_count": null,
      "metadata": {
        "id": "JXvcuBVZd81x"
      },
      "outputs": [],
      "source": [
        "# Your Code is Here\n",
        "\n"
      ]
    },
    {
      "cell_type": "markdown",
      "metadata": {
        "id": "tG291NRxd81y"
      },
      "source": [
        "Desired Output:\n",
        "\n",
        "![image.png](https://i.ibb.co/9W6kXc6/42.png)"
      ]
    },
    {
      "cell_type": "markdown",
      "metadata": {
        "id": "b5mSBv18jwOk"
      },
      "source": [
        "**Check the count of person in each these new education levels(high, medium, low) by \"salary\" levels and visualize it with countplot**"
      ]
    },
    {
      "cell_type": "code",
      "execution_count": null,
      "metadata": {
        "id": "xLhLhc7Qd810"
      },
      "outputs": [],
      "source": [
        "# Your Code is Here\n",
        "\n"
      ]
    },
    {
      "cell_type": "raw",
      "metadata": {
        "id": "CDSUu8nTd810"
      },
      "source": [
        "Desired Output:\n",
        "\n",
        "salary  education_summary \n",
        "<=50K   medium_level_grade    16539\n",
        "        high_level_grade       4155\n",
        "        low_level_grade        4004\n",
        ">50K    high_level_grade       3909\n",
        "        medium_level_grade     3686\n",
        "        low_level_grade         244\n",
        "Name: education_summary, dtype: int64"
      ]
    },
    {
      "cell_type": "code",
      "execution_count": null,
      "metadata": {
        "id": "mUGiJBsNd811"
      },
      "outputs": [],
      "source": [
        "# Your Code is Here\n",
        "\n"
      ]
    },
    {
      "cell_type": "markdown",
      "metadata": {
        "id": "5AhbhRnMd811"
      },
      "source": [
        "Desired Output:\n",
        "\n",
        "![image.png](https://i.ibb.co/K9xLxvF/43.png)"
      ]
    },
    {
      "cell_type": "markdown",
      "metadata": {
        "id": "eAj4WMoCjwOk"
      },
      "source": [
        "**Check the the percentage distribution of person in each these new education levels(high, medium, low) by \"salary\" levels and visualize it with pie plot separately**"
      ]
    },
    {
      "cell_type": "code",
      "execution_count": null,
      "metadata": {
        "id": "ObZr_YZ_d812"
      },
      "outputs": [],
      "source": [
        "# Your Code is Here\n",
        "\n"
      ]
    },
    {
      "cell_type": "raw",
      "metadata": {
        "id": "KAcf3ZUHd812"
      },
      "source": [
        "Desired Output:\n",
        "\n",
        "salary  education_summary \n",
        "<=50K   medium_level_grade   0.670\n",
        "        high_level_grade     0.168\n",
        "        low_level_grade      0.162\n",
        ">50K    high_level_grade     0.499\n",
        "        medium_level_grade   0.470\n",
        "        low_level_grade      0.031\n",
        "Name: education_summary, dtype: float64"
      ]
    },
    {
      "cell_type": "code",
      "execution_count": null,
      "metadata": {
        "id": "jSAK_0yxd813"
      },
      "outputs": [],
      "source": [
        "# Your Code is Here\n",
        "\n"
      ]
    },
    {
      "cell_type": "markdown",
      "metadata": {
        "id": "PT4mA-opd813"
      },
      "source": [
        "Desired Output:\n",
        "\n",
        "![image.png](https://i.ibb.co/42pnNPc/44.png)"
      ]
    },
    {
      "cell_type": "code",
      "execution_count": null,
      "metadata": {
        "id": "3UCQx6mWd814"
      },
      "outputs": [],
      "source": [
        "# Your Code is Here\n",
        "\n"
      ]
    },
    {
      "cell_type": "markdown",
      "metadata": {
        "id": "hui_VIUyd815"
      },
      "source": [
        "Desired Output:\n",
        "\n",
        "![image.png](https://i.ibb.co/jHYrhz8/45.png)"
      ]
    },
    {
      "cell_type": "code",
      "execution_count": null,
      "metadata": {
        "id": "tjBfWNsJd815"
      },
      "outputs": [],
      "source": [
        "# Your Code is Here\n",
        "\n"
      ]
    },
    {
      "cell_type": "markdown",
      "metadata": {
        "id": "MsnDMaC1d816"
      },
      "source": [
        "Desired Output:\n",
        "\n",
        "![image.png](https://i.ibb.co/5BnYV6h/46.png)"
      ]
    },
    {
      "cell_type": "markdown",
      "metadata": {
        "id": "w94EfDfXjwOq"
      },
      "source": [
        "**Write down the conclusions you draw from your analysis**"
      ]
    },
    {
      "cell_type": "markdown",
      "metadata": {
        "id": "I0rff9v4jwOr"
      },
      "source": [
        "**Result :** ......................"
      ]
    },
    {
      "cell_type": "markdown",
      "metadata": {
        "id": "vqWCeRBujwOr"
      },
      "source": [
        "## marital_status & relationship"
      ]
    },
    {
      "cell_type": "markdown",
      "metadata": {
        "id": "IBrIsEoDjwOr"
      },
      "source": [
        "**Detect the similarities between these features by comparing unique values**"
      ]
    },
    {
      "cell_type": "code",
      "execution_count": null,
      "metadata": {
        "id": "ybJZX9yid817"
      },
      "outputs": [],
      "source": [
        "# Your Code is Here\n",
        "\n"
      ]
    },
    {
      "cell_type": "raw",
      "metadata": {
        "id": "Ri3Oh6lXd818"
      },
      "source": [
        "Desired Output:\n",
        "\n",
        "Married-civ-spouse       14970\n",
        "Never-married            10667\n",
        "Divorced                  4441\n",
        "Separated                 1025\n",
        "Widowed                    993\n",
        "Married-spouse-absent      418\n",
        "Married-AF-spouse           23\n",
        "Name: marital_status, dtype: int64"
      ]
    },
    {
      "cell_type": "code",
      "execution_count": null,
      "metadata": {
        "id": "vGArqJvtd818"
      },
      "outputs": [],
      "source": [
        "# Your Code is Here\n",
        "\n"
      ]
    },
    {
      "cell_type": "raw",
      "metadata": {
        "id": "i2SJHKPrd818"
      },
      "source": [
        "Desired Output:\n",
        "\n",
        "Husband           13187\n",
        "Not-in-family      8292\n",
        "NaN                5064\n",
        "Unmarried          3445\n",
        "Wife               1568\n",
        "Other-relative      981\n",
        "Name: relationship, dtype: int64"
      ]
    },
    {
      "cell_type": "code",
      "execution_count": null,
      "metadata": {
        "id": "4apwr8hkd819"
      },
      "outputs": [],
      "source": [
        "# Fill missing values with \"Unknown\" in the column of \"relationship\"\n",
        "\n",
        "# Your Code is Here\n",
        "\n"
      ]
    },
    {
      "cell_type": "code",
      "execution_count": null,
      "metadata": {
        "id": "u2mLE5Kmd819"
      },
      "outputs": [],
      "source": [
        "# Your Code is Here\n",
        "\n"
      ]
    },
    {
      "cell_type": "raw",
      "metadata": {
        "id": "a6tSLbpZd81-"
      },
      "source": [
        "Desired Output:\n",
        "\n",
        "relationship    marital_status       \n",
        "Husband         Married-civ-spouse       13178\n",
        "                Married-AF-spouse            9\n",
        "Not-in-family   Never-married             4694\n",
        "                Divorced                  2403\n",
        "                Widowed                    547\n",
        "                Separated                  420\n",
        "                Married-spouse-absent      211\n",
        "                Married-civ-spouse          17\n",
        "Other-relative  Never-married              611\n",
        "                Married-civ-spouse         124\n",
        "                Divorced                   110\n",
        "                Separated                   55\n",
        "                Widowed                     48\n",
        "                Married-spouse-absent       32\n",
        "                Married-AF-spouse            1\n",
        "Unknown         Never-married             4481\n",
        "                Divorced                   328\n",
        "                Separated                   99\n",
        "                Married-civ-spouse          95\n",
        "                Married-spouse-absent       45\n",
        "                Widowed                     15\n",
        "                Married-AF-spouse            1\n",
        "Unmarried       Divorced                  1600\n",
        "                Never-married              881\n",
        "                Separated                  451\n",
        "                Widowed                    383\n",
        "                Married-spouse-absent      130\n",
        "Wife            Married-civ-spouse        1556\n",
        "                Married-AF-spouse           12\n",
        "Name: marital_status, dtype: int64"
      ]
    },
    {
      "cell_type": "markdown",
      "metadata": {
        "id": "yPM-OiBhjwOs"
      },
      "source": [
        "**Assessment :** ........"
      ]
    },
    {
      "cell_type": "markdown",
      "metadata": {
        "id": "K6riSLdzjwOs"
      },
      "source": [
        "**Visualize the count of person in each categories**"
      ]
    },
    {
      "cell_type": "code",
      "execution_count": null,
      "metadata": {
        "id": "GX_CAsQpd81_"
      },
      "outputs": [],
      "source": [
        "# Your Code is Here\n",
        "\n"
      ]
    },
    {
      "cell_type": "markdown",
      "metadata": {
        "id": "jNtXHZRVd81_"
      },
      "source": [
        "Desired Output:\n",
        "\n",
        "![image.png](https://i.ibb.co/1RNHVvj/47.png)"
      ]
    },
    {
      "cell_type": "markdown",
      "metadata": {
        "id": "7bcL3vvOjwOs"
      },
      "source": [
        "**Check the count of person in each \"salary\" levels by categories and visualize it with countplot**"
      ]
    },
    {
      "cell_type": "code",
      "execution_count": null,
      "metadata": {
        "id": "Tcjbh8ond82G"
      },
      "outputs": [],
      "source": [
        "# Your Code is Here\n",
        "\n"
      ]
    },
    {
      "cell_type": "raw",
      "metadata": {
        "id": "p3jgmZihd82H"
      },
      "source": [
        "Desired Output:\n",
        "\n",
        "marital_status         salary\n",
        "Divorced               <=50K      3978\n",
        "                       >50K        463\n",
        "Married-AF-spouse      <=50K        13\n",
        "                       >50K         10\n",
        "Married-civ-spouse     <=50K      8280\n",
        "                       >50K       6690\n",
        "Married-spouse-absent  <=50K       384\n",
        "                       >50K         34\n",
        "Never-married          <=50K     10176\n",
        "                       >50K        491\n",
        "Separated              <=50K       959\n",
        "                       >50K         66\n",
        "Widowed                <=50K       908\n",
        "                       >50K         85\n",
        "Name: salary, dtype: int64"
      ]
    },
    {
      "cell_type": "code",
      "execution_count": null,
      "metadata": {
        "id": "IFqu3XAqd82H"
      },
      "outputs": [],
      "source": [
        "# Your Code is Here\n",
        "\n"
      ]
    },
    {
      "cell_type": "markdown",
      "metadata": {
        "id": "X95ZO4KVd82I"
      },
      "source": [
        "Desired Output:\n",
        "\n",
        "![image.png](https://i.ibb.co/qjNhW9h/48.png)"
      ]
    },
    {
      "cell_type": "markdown",
      "metadata": {
        "id": "AaZb50BZjwOt"
      },
      "source": [
        "**Decrease the number of categories in \"marital_status\" feature as married, and unmarried and create a new feature with this new categorical data**"
      ]
    },
    {
      "cell_type": "code",
      "execution_count": null,
      "metadata": {
        "id": "J-Pqmh3ljwOt"
      },
      "outputs": [],
      "source": [
        "def mapping_marital_status(x):\n",
        "    if x in [\"Never-married\", \"Divorced\", \"Separated\", \"Widowed\"]:\n",
        "        return \"unmarried\"\n",
        "    elif x in [\"Married-civ-spouse\", \"Married-AF-spouse\", \"Married-spouse-absent\"]:\n",
        "        return \"married\""
      ]
    },
    {
      "cell_type": "code",
      "execution_count": null,
      "metadata": {
        "id": "H5COo3NJd82I"
      },
      "outputs": [],
      "source": [
        "# Your Code is Here\n",
        "\n"
      ]
    },
    {
      "cell_type": "raw",
      "metadata": {
        "id": "DpUkQHQpd82J"
      },
      "source": [
        "Desired Output:\n",
        "\n",
        "unmarried    17126\n",
        "married      15411\n",
        "Name: marital_status, dtype: int64"
      ]
    },
    {
      "cell_type": "code",
      "execution_count": null,
      "metadata": {
        "id": "ZIj4uAu_d82J"
      },
      "outputs": [],
      "source": [
        "# By using \"mapping_marital_status\" def function above, create a new column named \"marital_status_summary\"\n",
        "\n",
        "# Your Code is Here\n",
        "\n"
      ]
    },
    {
      "cell_type": "markdown",
      "metadata": {
        "id": "ia-VhumAjwOu"
      },
      "source": [
        "**Visualize the count of person in each categories for these new marital status (married, unmarried)**"
      ]
    },
    {
      "cell_type": "code",
      "execution_count": null,
      "metadata": {
        "id": "DK30ErdHd82K"
      },
      "outputs": [],
      "source": [
        "# Your Code is Here\n",
        "\n"
      ]
    },
    {
      "cell_type": "markdown",
      "metadata": {
        "id": "u-louFIid82K"
      },
      "source": [
        "Desired Output:\n",
        "\n",
        "![image.png](https://i.ibb.co/wRjj6Bx/49.png)"
      ]
    },
    {
      "cell_type": "markdown",
      "metadata": {
        "id": "ibWKNY8vjwOu"
      },
      "source": [
        "**Check the count of person in each \"salary\" levels by these new marital status (married, unmarried) and visualize it with countplot**"
      ]
    },
    {
      "cell_type": "code",
      "execution_count": null,
      "metadata": {
        "id": "AoJ1Dk1Dd82L"
      },
      "outputs": [],
      "source": [
        "# Your Code is Here\n",
        "\n"
      ]
    },
    {
      "cell_type": "raw",
      "metadata": {
        "id": "RBQbksbzd82L"
      },
      "source": [
        "Desired Output:\n",
        "\n",
        "marital_status_summary  salary\n",
        "married                 <=50K      8677\n",
        "                        >50K       6734\n",
        "unmarried               <=50K     16021\n",
        "                        >50K       1105\n",
        "Name: salary, dtype: int64"
      ]
    },
    {
      "cell_type": "code",
      "execution_count": null,
      "metadata": {
        "id": "EqZBM66Vd82M"
      },
      "outputs": [],
      "source": [
        "# Your Code is Here\n",
        "\n"
      ]
    },
    {
      "cell_type": "markdown",
      "metadata": {
        "id": "CNpH9g9_d82N"
      },
      "source": [
        "Desired Output:\n",
        "\n",
        "![image.png](https://i.ibb.co/0JtYnFb/50.png)"
      ]
    },
    {
      "cell_type": "markdown",
      "metadata": {
        "id": "jN44FLRhjwOu"
      },
      "source": [
        "**Check the percentage distribution of person in each \"salary\" levels by each new marital status (married, unmarried) and visualize it with pie plot separately**"
      ]
    },
    {
      "cell_type": "code",
      "execution_count": null,
      "metadata": {
        "id": "Kwb5onltd82O"
      },
      "outputs": [],
      "source": [
        "# Your Code is Here\n",
        "\n"
      ]
    },
    {
      "cell_type": "raw",
      "metadata": {
        "id": "DKFJSuQud82O"
      },
      "source": [
        "Desired Output:\n",
        "\n",
        "marital_status_summary  salary\n",
        "married                 <=50K    0.563\n",
        "                        >50K     0.437\n",
        "unmarried               <=50K    0.935\n",
        "                        >50K     0.065\n",
        "Name: salary, dtype: float64"
      ]
    },
    {
      "cell_type": "code",
      "execution_count": null,
      "metadata": {
        "id": "fdJ1W9Asd82O"
      },
      "outputs": [],
      "source": [
        "# Your Code is Here\n",
        "\n"
      ]
    },
    {
      "cell_type": "markdown",
      "metadata": {
        "id": "oYibsf4hd82P"
      },
      "source": [
        "Desired Output:\n",
        "\n",
        "![image.png](https://i.ibb.co/TYxT5Zz/51.png)"
      ]
    },
    {
      "cell_type": "markdown",
      "metadata": {
        "id": "fIzvS7m4jwOv"
      },
      "source": [
        "**Check the count of person in each these new marital status (married, unmarried) by \"salary\" levels and visualize it with countplot**"
      ]
    },
    {
      "cell_type": "code",
      "execution_count": null,
      "metadata": {
        "id": "2tpJ_nAyd82P"
      },
      "outputs": [],
      "source": [
        "# Your Code is Here\n",
        "\n"
      ]
    },
    {
      "cell_type": "raw",
      "metadata": {
        "id": "0o_DPPjFd82Q"
      },
      "source": [
        "Desired Output:\n",
        "\n",
        "salary  marital_status_summary\n",
        "<=50K   unmarried                 16021\n",
        "        married                    8677\n",
        ">50K    married                    6734\n",
        "        unmarried                  1105\n",
        "Name: marital_status_summary, dtype: int64"
      ]
    },
    {
      "cell_type": "code",
      "execution_count": null,
      "metadata": {
        "id": "3gUd4Yd3d82Q"
      },
      "outputs": [],
      "source": [
        "# Your Code is Here\n",
        "\n"
      ]
    },
    {
      "cell_type": "markdown",
      "metadata": {
        "id": "6EDldkh2d82Q"
      },
      "source": [
        "Desired Output:\n",
        "\n",
        "![image.png](https://i.ibb.co/YWjjsZP/52.png)"
      ]
    },
    {
      "cell_type": "markdown",
      "metadata": {
        "id": "QmCK3AwHjwOw"
      },
      "source": [
        "**Check the the percentage distribution of person in each these new marital status (married, unmarried) by \"salary\" levels and visualize it with pie plot separately**"
      ]
    },
    {
      "cell_type": "code",
      "execution_count": null,
      "metadata": {
        "id": "m0CkAGfbd82R"
      },
      "outputs": [],
      "source": [
        "# Your Code is Here\n",
        "\n"
      ]
    },
    {
      "cell_type": "raw",
      "metadata": {
        "id": "1VSNDpwod82R"
      },
      "source": [
        "Desired Output:\n",
        "\n",
        "salary  marital_status_summary\n",
        "<=50K   unmarried                0.649\n",
        "        married                  0.351\n",
        ">50K    married                  0.859\n",
        "        unmarried                0.141\n",
        "Name: marital_status_summary, dtype: float64"
      ]
    },
    {
      "cell_type": "code",
      "execution_count": null,
      "metadata": {
        "id": "YY4vkgyJd82S"
      },
      "outputs": [],
      "source": [
        "# Your Code is Here\n",
        "\n"
      ]
    },
    {
      "cell_type": "markdown",
      "metadata": {
        "id": "O-sdpnJwd82S"
      },
      "source": [
        "Desired Output:\n",
        "\n",
        "![image.png](https://i.ibb.co/Swb4rb7/v53.png)"
      ]
    },
    {
      "cell_type": "code",
      "execution_count": null,
      "metadata": {
        "id": "Vu6mleiId82S"
      },
      "outputs": [],
      "source": [
        "# Your Code is Here\n",
        "\n"
      ]
    },
    {
      "cell_type": "markdown",
      "metadata": {
        "id": "QQc2ohPWd82T"
      },
      "source": [
        "Desired Output:\n",
        "\n",
        "![image.png](https://i.ibb.co/cJxmqwG/54.png)"
      ]
    },
    {
      "cell_type": "markdown",
      "metadata": {
        "id": "btsOpWP4jwOw"
      },
      "source": [
        "**Write down the conclusions you draw from your analysis**"
      ]
    },
    {
      "cell_type": "markdown",
      "metadata": {
        "id": "AyKIsXirjwOw"
      },
      "source": [
        "**Result :** ................."
      ]
    },
    {
      "cell_type": "markdown",
      "metadata": {
        "id": "ZjfFoHZTjwOx"
      },
      "source": [
        "## workclass"
      ]
    },
    {
      "cell_type": "markdown",
      "metadata": {
        "id": "76aQfVejjwOx"
      },
      "source": [
        "**Check the count of person in each categories and visualize it with countplot**"
      ]
    },
    {
      "cell_type": "code",
      "execution_count": null,
      "metadata": {
        "id": "zWRwAFK2d82U"
      },
      "outputs": [],
      "source": [
        "# Your Code is Here\n",
        "\n"
      ]
    },
    {
      "cell_type": "raw",
      "metadata": {
        "id": "Z_1xCHawd82V"
      },
      "source": [
        "Desired Output:\n",
        "\n",
        "Private             22673\n",
        "Self-emp-not-inc     2540\n",
        "Local-gov            2093\n",
        "?                    1836\n",
        "State-gov            1298\n",
        "Self-emp-inc         1116\n",
        "Federal-gov           960\n",
        "Without-pay            14\n",
        "Never-worked            7\n",
        "Name: workclass, dtype: int64"
      ]
    },
    {
      "cell_type": "code",
      "execution_count": null,
      "metadata": {
        "id": "x05GDE2xd82V"
      },
      "outputs": [],
      "source": [
        "# Your Code is Here\n",
        "\n"
      ]
    },
    {
      "cell_type": "markdown",
      "metadata": {
        "id": "PlzcW9Qcd82W"
      },
      "source": [
        "Desired Output:\n",
        "\n",
        "![image.png](https://i.ibb.co/NmKTp84/55.png)"
      ]
    },
    {
      "cell_type": "markdown",
      "metadata": {
        "id": "G38jfGGLjwOx"
      },
      "source": [
        "**Replace the value \"?\" to the value \"Unknown\"** "
      ]
    },
    {
      "cell_type": "code",
      "execution_count": null,
      "metadata": {
        "id": "IH5PQML4d82X"
      },
      "outputs": [],
      "source": [
        "# Replace \"?\" values with \"Unkown\"\n",
        "\n",
        "# Your Code is Here\n",
        "\n"
      ]
    },
    {
      "cell_type": "markdown",
      "metadata": {
        "id": "MQ8i-iX5jwOy"
      },
      "source": [
        "**Check the count of person in each \"salary\" levels by workclass groups and visualize it with countplot**"
      ]
    },
    {
      "cell_type": "code",
      "execution_count": null,
      "metadata": {
        "id": "7Ts7e8V-d82X"
      },
      "outputs": [],
      "source": [
        "# Your Code is Here\n",
        "\n"
      ]
    },
    {
      "cell_type": "raw",
      "metadata": {
        "id": "Iqk38VtDd82Y"
      },
      "source": [
        "Desired Output:\n",
        "\n",
        "workclass         salary\n",
        "Federal-gov       <=50K       589\n",
        "                  >50K        371\n",
        "Local-gov         <=50K      1476\n",
        "                  >50K        617\n",
        "Never-worked      <=50K         7\n",
        "Private           <=50K     17712\n",
        "                  >50K       4961\n",
        "Self-emp-inc      >50K        622\n",
        "                  <=50K       494\n",
        "Self-emp-not-inc  <=50K      1816\n",
        "                  >50K        724\n",
        "State-gov         <=50K       945\n",
        "                  >50K        353\n",
        "Unknown           <=50K      1645\n",
        "                  >50K        191\n",
        "Without-pay       <=50K        14\n",
        "Name: salary, dtype: int64"
      ]
    },
    {
      "cell_type": "code",
      "execution_count": null,
      "metadata": {
        "id": "eiPeQcERd82Y"
      },
      "outputs": [],
      "source": [
        "# Your Code is Here\n",
        "\n"
      ]
    },
    {
      "cell_type": "markdown",
      "metadata": {
        "id": "hr7UvGC7d82Y"
      },
      "source": [
        "Desired Output:\n",
        "\n",
        "![image.png](https://i.ibb.co/bPnNvsn/56.png)"
      ]
    },
    {
      "cell_type": "markdown",
      "metadata": {
        "id": "6Fk8gfvtjwOz"
      },
      "source": [
        "**Check the percentage distribution of person in each \"salary\" levels by each workclass groups and visualize it with bar plot**"
      ]
    },
    {
      "cell_type": "code",
      "execution_count": null,
      "metadata": {
        "id": "4qzHnqayd82Z"
      },
      "outputs": [],
      "source": [
        "# Your Code is Here\n",
        "\n"
      ]
    },
    {
      "cell_type": "raw",
      "metadata": {
        "id": "s5r5Va4-d82Z"
      },
      "source": [
        "Desired Output:\n",
        "\n",
        "workclass         salary\n",
        "Federal-gov       <=50K    0.614\n",
        "                  >50K     0.386\n",
        "Local-gov         <=50K    0.705\n",
        "                  >50K     0.295\n",
        "Never-worked      <=50K    1.000\n",
        "Private           <=50K    0.781\n",
        "                  >50K     0.219\n",
        "Self-emp-inc      >50K     0.557\n",
        "                  <=50K    0.443\n",
        "Self-emp-not-inc  <=50K    0.715\n",
        "                  >50K     0.285\n",
        "State-gov         <=50K    0.728\n",
        "                  >50K     0.272\n",
        "Unknown           <=50K    0.896\n",
        "                  >50K     0.104\n",
        "Without-pay       <=50K    1.000\n",
        "Name: salary, dtype: float64"
      ]
    },
    {
      "cell_type": "code",
      "execution_count": null,
      "metadata": {
        "id": "rAi2dOaWd82a"
      },
      "outputs": [],
      "source": [
        "# Your Code is Here\n",
        "\n"
      ]
    },
    {
      "cell_type": "markdown",
      "metadata": {
        "id": "wfrRyPt2d82a"
      },
      "source": [
        "Desired Output:\n",
        "\n",
        "![image.png](https://i.ibb.co/8YvM14M/57.png)"
      ]
    },
    {
      "cell_type": "code",
      "execution_count": null,
      "metadata": {
        "id": "r6oTGFgLd82b"
      },
      "outputs": [],
      "source": [
        "# Your Code is Here\n",
        "\n"
      ]
    },
    {
      "cell_type": "markdown",
      "metadata": {
        "id": "IQMDJbXrd82b"
      },
      "source": [
        "Desired Output:\n",
        "\n",
        "![image.png](https://i.ibb.co/NFN5q04/58.png)"
      ]
    },
    {
      "cell_type": "markdown",
      "metadata": {
        "id": "RL8LYvpqjwO0"
      },
      "source": [
        "**Check the count of person in each workclass groups by \"salary\" levels and visualize it with countplot**"
      ]
    },
    {
      "cell_type": "code",
      "execution_count": null,
      "metadata": {
        "id": "Z3Eo4-rqd82c"
      },
      "outputs": [],
      "source": [
        "# Your Code is Here\n",
        "\n"
      ]
    },
    {
      "cell_type": "raw",
      "metadata": {
        "id": "Jn6PnFDPd82c"
      },
      "source": [
        "Desired Output:\n",
        "\n",
        "salary  workclass       \n",
        "<=50K   Private             17712\n",
        "        Self-emp-not-inc     1816\n",
        "        Unknown              1645\n",
        "        Local-gov            1476\n",
        "        State-gov             945\n",
        "        Federal-gov           589\n",
        "        Self-emp-inc          494\n",
        "        Without-pay            14\n",
        "        Never-worked            7\n",
        ">50K    Private              4961\n",
        "        Self-emp-not-inc      724\n",
        "        Self-emp-inc          622\n",
        "        Local-gov             617\n",
        "        Federal-gov           371\n",
        "        State-gov             353\n",
        "        Unknown               191\n",
        "Name: workclass, dtype: int64"
      ]
    },
    {
      "cell_type": "code",
      "execution_count": null,
      "metadata": {
        "id": "zh2eWjEId82d"
      },
      "outputs": [],
      "source": [
        "# Your Code is Here\n",
        "\n"
      ]
    },
    {
      "cell_type": "markdown",
      "metadata": {
        "id": "D2QsiKmJd82d"
      },
      "source": [
        "Desired Output:\n",
        "\n",
        "![image.png](https://i.ibb.co/98V8zkN/59.png)"
      ]
    },
    {
      "cell_type": "markdown",
      "metadata": {
        "id": "oGkqNFeyjwO1"
      },
      "source": [
        "**Check the the percentage distribution of person in each workclass groups by \"salary\" levels and visualize it with countplot**"
      ]
    },
    {
      "cell_type": "code",
      "execution_count": null,
      "metadata": {
        "id": "nPHISeTUd82e"
      },
      "outputs": [],
      "source": [
        "# Your Code is Here\n",
        "\n"
      ]
    },
    {
      "cell_type": "raw",
      "metadata": {
        "id": "A7iIAinXd82e"
      },
      "source": [
        "Desired Output:\n",
        "\n",
        "salary  workclass       \n",
        "<=50K   Private            0.717\n",
        "        Self-emp-not-inc   0.074\n",
        "        Unknown            0.067\n",
        "        Local-gov          0.060\n",
        "        State-gov          0.038\n",
        "        Federal-gov        0.024\n",
        "        Self-emp-inc       0.020\n",
        "        Without-pay        0.001\n",
        "        Never-worked       0.000\n",
        ">50K    Private            0.633\n",
        "        Self-emp-not-inc   0.092\n",
        "        Self-emp-inc       0.079\n",
        "        Local-gov          0.079\n",
        "        Federal-gov        0.047\n",
        "        State-gov          0.045\n",
        "        Unknown            0.024\n",
        "Name: workclass, dtype: float64"
      ]
    },
    {
      "cell_type": "code",
      "execution_count": null,
      "metadata": {
        "id": "U4psnqsPd82f"
      },
      "outputs": [],
      "source": [
        "# Your Code is Here\n",
        "\n"
      ]
    },
    {
      "cell_type": "markdown",
      "metadata": {
        "id": "YGV5KI0Fd82f"
      },
      "source": [
        "Desired Output:\n",
        "\n",
        "![image.png](https://i.ibb.co/QcdnXpk/60.png)"
      ]
    },
    {
      "cell_type": "code",
      "execution_count": null,
      "metadata": {
        "id": "sNGQeBGRd82g"
      },
      "outputs": [],
      "source": [
        "# Your Code is Here\n",
        "\n"
      ]
    },
    {
      "cell_type": "markdown",
      "metadata": {
        "id": "NWEbQ2lQd82h"
      },
      "source": [
        "Desired Output:\n",
        "\n",
        "![image.png](https://i.ibb.co/Kz5BDBj/61.png)"
      ]
    },
    {
      "cell_type": "markdown",
      "metadata": {
        "id": "D9bZC4XKjwO2"
      },
      "source": [
        "**Write down the conclusions you draw from your analysis**"
      ]
    },
    {
      "cell_type": "markdown",
      "metadata": {
        "id": "KmOli0qJjwO2"
      },
      "source": [
        "**Result :** .................."
      ]
    },
    {
      "cell_type": "markdown",
      "metadata": {
        "id": "KxHaqS4mjwO2"
      },
      "source": [
        "## occupation"
      ]
    },
    {
      "cell_type": "markdown",
      "metadata": {
        "id": "YYdf-ElmjwO2"
      },
      "source": [
        "**Check the count of person in each categories and visualize it with countplot**"
      ]
    },
    {
      "cell_type": "code",
      "execution_count": null,
      "metadata": {
        "id": "1ZRxENL3d82j"
      },
      "outputs": [],
      "source": [
        "# Your Code is Here\n",
        "\n"
      ]
    },
    {
      "cell_type": "raw",
      "metadata": {
        "id": "jsUulRttd82j"
      },
      "source": [
        "Desired Output:\n",
        "\n",
        "Prof-specialty       4136\n",
        "Craft-repair         4094\n",
        "Exec-managerial      4065\n",
        "Adm-clerical         3768\n",
        "Sales                3650\n",
        "Other-service        3291\n",
        "Machine-op-inspct    2000\n",
        "?                    1843\n",
        "Transport-moving     1597\n",
        "Handlers-cleaners    1369\n",
        "Farming-fishing       992\n",
        "Tech-support          927\n",
        "Protective-serv       649\n",
        "Priv-house-serv       147\n",
        "Armed-Forces            9\n",
        "Name: occupation, dtype: int64"
      ]
    },
    {
      "cell_type": "code",
      "execution_count": null,
      "metadata": {
        "id": "WP2eVRmVd82k"
      },
      "outputs": [],
      "source": [
        "# Your Code is Here\n",
        "\n"
      ]
    },
    {
      "cell_type": "markdown",
      "metadata": {
        "id": "LYtRRAjpd82k"
      },
      "source": [
        "Desired Output:\n",
        "\n",
        "![image.png](https://i.ibb.co/F3qqLjS/62.png)"
      ]
    },
    {
      "cell_type": "markdown",
      "metadata": {
        "id": "dMs4D0nWjwO3"
      },
      "source": [
        "**Replace the value \"?\" to the value \"Unknown\"**"
      ]
    },
    {
      "cell_type": "code",
      "execution_count": null,
      "metadata": {
        "id": "y9XyjiGCd82l"
      },
      "outputs": [],
      "source": [
        "# Replace \"?\" values with \"Unknown\"\n",
        "\n",
        "# Your Code is Here\n",
        "\n"
      ]
    },
    {
      "cell_type": "markdown",
      "metadata": {
        "id": "TUN8tSr3jwO3"
      },
      "source": [
        "**Check the count of person in each \"salary\" levels by occupation groups and visualize it with countplot**"
      ]
    },
    {
      "cell_type": "code",
      "execution_count": null,
      "metadata": {
        "id": "nmlvwZE-d82m"
      },
      "outputs": [],
      "source": [
        "# Your Code is Here\n",
        "\n"
      ]
    },
    {
      "cell_type": "raw",
      "metadata": {
        "id": "pFwnEVywd82m"
      },
      "source": [
        "Desired Output:\n",
        "\n",
        "occupation         salary\n",
        "Adm-clerical       <=50K     3261\n",
        "                   >50K       507\n",
        "Armed-Forces       <=50K        8\n",
        "                   >50K         1\n",
        "Craft-repair       <=50K     3165\n",
        "                   >50K       929\n",
        "Exec-managerial    <=50K     2097\n",
        "                   >50K      1968\n",
        "Farming-fishing    <=50K      877\n",
        "                   >50K       115\n",
        "Handlers-cleaners  <=50K     1283\n",
        "                   >50K        86\n",
        "Machine-op-inspct  <=50K     1751\n",
        "                   >50K       249\n",
        "Other-service      <=50K     3154\n",
        "                   >50K       137\n",
        "Priv-house-serv    <=50K      146\n",
        "                   >50K         1\n",
        "Prof-specialty     <=50K     2278\n",
        "                   >50K      1858\n",
        "Protective-serv    <=50K      438\n",
        "                   >50K       211\n",
        "Sales              <=50K     2667\n",
        "                   >50K       983\n",
        "Tech-support       <=50K      644\n",
        "                   >50K       283\n",
        "Transport-moving   <=50K     1277\n",
        "                   >50K       320\n",
        "Unknown            <=50K     1652\n",
        "                   >50K       191\n",
        "Name: salary, dtype: int64"
      ]
    },
    {
      "cell_type": "code",
      "execution_count": null,
      "metadata": {
        "id": "DfP7X3dOd82n"
      },
      "outputs": [],
      "source": [
        "# Your Code is Here\n",
        "\n"
      ]
    },
    {
      "cell_type": "markdown",
      "metadata": {
        "id": "lDfJvNCRd82o"
      },
      "source": [
        "Desired Output:\n",
        "\n",
        "![image.png](https://i.ibb.co/RhkhQCW/63.png)"
      ]
    },
    {
      "cell_type": "markdown",
      "metadata": {
        "id": "_rBEm99IjwO3"
      },
      "source": [
        "**Check the percentage distribution of person in each \"salary\" levels by each occupation groups and visualize it with bar plot**"
      ]
    },
    {
      "cell_type": "code",
      "execution_count": null,
      "metadata": {
        "id": "eayu-kLpd82p"
      },
      "outputs": [],
      "source": [
        "# Your Code is Here\n",
        "\n"
      ]
    },
    {
      "cell_type": "raw",
      "metadata": {
        "id": "Pf1jweNKd82q"
      },
      "source": [
        "Desired Output:\n",
        "\n",
        "occupation         salary\n",
        "Adm-clerical       <=50K    0.865\n",
        "                   >50K     0.135\n",
        "Armed-Forces       <=50K    0.889\n",
        "                   >50K     0.111\n",
        "Craft-repair       <=50K    0.773\n",
        "                   >50K     0.227\n",
        "Exec-managerial    <=50K    0.516\n",
        "                   >50K     0.484\n",
        "Farming-fishing    <=50K    0.884\n",
        "                   >50K     0.116\n",
        "Handlers-cleaners  <=50K    0.937\n",
        "                   >50K     0.063\n",
        "Machine-op-inspct  <=50K    0.875\n",
        "                   >50K     0.124\n",
        "Other-service      <=50K    0.958\n",
        "                   >50K     0.042\n",
        "Priv-house-serv    <=50K    0.993\n",
        "                   >50K     0.007\n",
        "Prof-specialty     <=50K    0.551\n",
        "                   >50K     0.449\n",
        "Protective-serv    <=50K    0.675\n",
        "                   >50K     0.325\n",
        "Sales              <=50K    0.731\n",
        "                   >50K     0.269\n",
        "Tech-support       <=50K    0.695\n",
        "                   >50K     0.305\n",
        "Transport-moving   <=50K    0.800\n",
        "                   >50K     0.200\n",
        "Unknown            <=50K    0.896\n",
        "                   >50K     0.104\n",
        "Name: salary, dtype: float64"
      ]
    },
    {
      "cell_type": "code",
      "execution_count": null,
      "metadata": {
        "id": "jTUBk4hYd82r"
      },
      "outputs": [],
      "source": [
        "# Your Code is Here\n",
        "\n"
      ]
    },
    {
      "cell_type": "markdown",
      "metadata": {
        "id": "9oaxttqUd82s"
      },
      "source": [
        "Desired Output:\n",
        "\n",
        "![image.png](https://i.ibb.co/mb7JS3n/64.png)"
      ]
    },
    {
      "cell_type": "code",
      "execution_count": null,
      "metadata": {
        "id": "6-5b-xUsd82s"
      },
      "outputs": [],
      "source": [
        "# Your Code is Here\n",
        "\n"
      ]
    },
    {
      "cell_type": "markdown",
      "metadata": {
        "id": "JgT78RBSd82t"
      },
      "source": [
        "Desired Output:\n",
        "\n",
        "![image.png](https://i.ibb.co/sW2b8wL/65.png)"
      ]
    },
    {
      "cell_type": "markdown",
      "metadata": {
        "id": "7t8zCRj6jwO4"
      },
      "source": [
        "**Check the count of person in each occupation groups by \"salary\" levels and visualize it with countplot**"
      ]
    },
    {
      "cell_type": "code",
      "execution_count": null,
      "metadata": {
        "id": "n33G8OWjd82w"
      },
      "outputs": [],
      "source": [
        "# Your Code is Here\n",
        "\n"
      ]
    },
    {
      "cell_type": "raw",
      "metadata": {
        "id": "njx4ZwE8d82y"
      },
      "source": [
        "Desired Output:\n",
        "\n",
        "salary  occupation       \n",
        "<=50K   Adm-clerical         3261\n",
        "        Craft-repair         3165\n",
        "        Other-service        3154\n",
        "        Sales                2667\n",
        "        Prof-specialty       2278\n",
        "        Exec-managerial      2097\n",
        "        Machine-op-inspct    1751\n",
        "        Unknown              1652\n",
        "        Handlers-cleaners    1283\n",
        "        Transport-moving     1277\n",
        "        Farming-fishing       877\n",
        "        Tech-support          644\n",
        "        Protective-serv       438\n",
        "        Priv-house-serv       146\n",
        "        Armed-Forces            8\n",
        ">50K    Exec-managerial      1968\n",
        "        Prof-specialty       1858\n",
        "        Sales                 983\n",
        "        Craft-repair          929\n",
        "        Adm-clerical          507\n",
        "        Transport-moving      320\n",
        "        Tech-support          283\n",
        "        Machine-op-inspct     249\n",
        "        Protective-serv       211\n",
        "        Unknown               191\n",
        "        Other-service         137\n",
        "        Farming-fishing       115\n",
        "        Handlers-cleaners      86\n",
        "        Armed-Forces            1\n",
        "        Priv-house-serv         1\n",
        "Name: occupation, dtype: int64"
      ]
    },
    {
      "cell_type": "code",
      "execution_count": null,
      "metadata": {
        "id": "mwNoyuBjd82z"
      },
      "outputs": [],
      "source": [
        "# Your Code is Here\n",
        "\n"
      ]
    },
    {
      "cell_type": "markdown",
      "metadata": {
        "id": "kgqVu6nRd82z"
      },
      "source": [
        "Desired Output:\n",
        "\n",
        "![image.png](https://i.ibb.co/cvHS3FH/66.png)"
      ]
    },
    {
      "cell_type": "markdown",
      "metadata": {
        "id": "4CQDBKHWjwO5"
      },
      "source": [
        "**Check the the percentage distribution of person in each occupation groups by \"salary\" levels and visualize it with bar plot**"
      ]
    },
    {
      "cell_type": "code",
      "execution_count": null,
      "metadata": {
        "id": "xvUStFEjd821"
      },
      "outputs": [],
      "source": [
        "# Your Code is Here\n",
        "\n"
      ]
    },
    {
      "cell_type": "raw",
      "metadata": {
        "id": "vq3KlZS2d822"
      },
      "source": [
        "Desired Output:\n",
        "\n",
        "salary  occupation       \n",
        "<=50K   Adm-clerical        0.132\n",
        "        Craft-repair        0.128\n",
        "        Other-service       0.128\n",
        "        Sales               0.108\n",
        "        Prof-specialty      0.092\n",
        "        Exec-managerial     0.085\n",
        "        Machine-op-inspct   0.071\n",
        "        Unknown             0.067\n",
        "        Handlers-cleaners   0.052\n",
        "        Transport-moving    0.052\n",
        "        Farming-fishing     0.036\n",
        "        Tech-support        0.026\n",
        "        Protective-serv     0.018\n",
        "        Priv-house-serv     0.006\n",
        "        Armed-Forces        0.000\n",
        ">50K    Exec-managerial     0.251\n",
        "        Prof-specialty      0.237\n",
        "        Sales               0.125\n",
        "        Craft-repair        0.119\n",
        "        Adm-clerical        0.065\n",
        "        Transport-moving    0.041\n",
        "        Tech-support        0.036\n",
        "        Machine-op-inspct   0.032\n",
        "        Protective-serv     0.027\n",
        "        Unknown             0.024\n",
        "        Other-service       0.017\n",
        "        Farming-fishing     0.015\n",
        "        Handlers-cleaners   0.011\n",
        "        Armed-Forces        0.000\n",
        "        Priv-house-serv     0.000\n",
        "Name: occupation, dtype: float64"
      ]
    },
    {
      "cell_type": "code",
      "execution_count": null,
      "metadata": {
        "id": "i6d4OExNd822"
      },
      "outputs": [],
      "source": [
        "# Your Code is Here\n",
        "\n"
      ]
    },
    {
      "cell_type": "markdown",
      "metadata": {
        "id": "NMZOMIuBd823"
      },
      "source": [
        "Desired Output:\n",
        "\n",
        "![image.png](https://i.ibb.co/7tK0PqX/67.png)"
      ]
    },
    {
      "cell_type": "code",
      "execution_count": null,
      "metadata": {
        "id": "e5gAbXaFd823"
      },
      "outputs": [],
      "source": [
        "# Your Code is Here\n",
        "\n"
      ]
    },
    {
      "cell_type": "markdown",
      "metadata": {
        "id": "reABWJWmd824"
      },
      "source": [
        "Desired Output:\n",
        "\n",
        "![image.png](https://i.ibb.co/7brj34F/68.png)"
      ]
    },
    {
      "cell_type": "markdown",
      "metadata": {
        "id": "gQcGUBTxjwO5"
      },
      "source": [
        "**Write down the conclusions you draw from your analysis**"
      ]
    },
    {
      "cell_type": "markdown",
      "metadata": {
        "id": "UOnnd1YXjwO5"
      },
      "source": [
        "**Result :** ................"
      ]
    },
    {
      "cell_type": "markdown",
      "metadata": {
        "id": "eoAUdH20jwO6"
      },
      "source": [
        "## race"
      ]
    },
    {
      "cell_type": "markdown",
      "metadata": {
        "id": "Minu-UhrjwO6"
      },
      "source": [
        "**Check the count of person in each categories and visualize it with countplot**"
      ]
    },
    {
      "cell_type": "code",
      "execution_count": null,
      "metadata": {
        "id": "wn5WN2kNd826"
      },
      "outputs": [],
      "source": [
        "# Your Code is Here\n",
        "\n"
      ]
    },
    {
      "cell_type": "raw",
      "metadata": {
        "id": "96hf_K67d827"
      },
      "source": [
        "Desired Output:\n",
        "\n",
        "White                 27795\n",
        "Black                  3122\n",
        "Asian-Pac-Islander     1038\n",
        "Amer-Indian-Eskimo      311\n",
        "Other                   271\n",
        "Name: race, dtype: int64"
      ]
    },
    {
      "cell_type": "code",
      "execution_count": null,
      "metadata": {
        "id": "-wCPNfpgd827"
      },
      "outputs": [],
      "source": [
        "# Your Code is Here\n",
        "\n"
      ]
    },
    {
      "cell_type": "markdown",
      "metadata": {
        "id": "aVt0L-jbd828"
      },
      "source": [
        "Desired Output:\n",
        "\n",
        "![image.png](https://i.ibb.co/LdKct3G/69.png)"
      ]
    },
    {
      "cell_type": "markdown",
      "metadata": {
        "id": "TTfS9EJLjwO6"
      },
      "source": [
        "**Check the count of person in each \"salary\" levels by races and visualize it with countplot**"
      ]
    },
    {
      "cell_type": "code",
      "execution_count": null,
      "metadata": {
        "id": "KC_phoo5d82-"
      },
      "outputs": [],
      "source": [
        "# Your Code is Here\n",
        "\n"
      ]
    },
    {
      "cell_type": "raw",
      "metadata": {
        "id": "Fnpq5Gtwd82_"
      },
      "source": [
        "Desired Output:\n",
        "\n",
        "race                salary\n",
        "Amer-Indian-Eskimo  <=50K       275\n",
        "                    >50K         36\n",
        "Asian-Pac-Islander  <=50K       762\n",
        "                    >50K        276\n",
        "Black               <=50K      2735\n",
        "                    >50K        387\n",
        "Other               <=50K       246\n",
        "                    >50K         25\n",
        "White               <=50K     20680\n",
        "                    >50K       7115\n",
        "Name: salary, dtype: int64"
      ]
    },
    {
      "cell_type": "code",
      "execution_count": null,
      "metadata": {
        "id": "aZZJLMoMd82_"
      },
      "outputs": [],
      "source": [
        "# Your Code is Here\n",
        "\n"
      ]
    },
    {
      "cell_type": "markdown",
      "metadata": {
        "id": "1gTlf05ld83A"
      },
      "source": [
        "Desired Output:\n",
        "\n",
        "![image.png](https://i.ibb.co/Qb4n8Y5/70.png)"
      ]
    },
    {
      "cell_type": "markdown",
      "metadata": {
        "id": "gwh3_WZ3jwO7"
      },
      "source": [
        "**Check the percentage distribution of person in each \"salary\" levels by each races and visualize it with pie plot**"
      ]
    },
    {
      "cell_type": "code",
      "execution_count": null,
      "metadata": {
        "id": "hRUOPJ0jd83B"
      },
      "outputs": [],
      "source": [
        "# Your Code is Here\n",
        "\n"
      ]
    },
    {
      "cell_type": "raw",
      "metadata": {
        "id": "r0a0ps_2d83C"
      },
      "source": [
        "Desired Output:\n",
        "\n",
        "race                salary\n",
        "Amer-Indian-Eskimo  <=50K    0.884\n",
        "                    >50K     0.116\n",
        "Asian-Pac-Islander  <=50K    0.734\n",
        "                    >50K     0.266\n",
        "Black               <=50K    0.876\n",
        "                    >50K     0.124\n",
        "Other               <=50K    0.908\n",
        "                    >50K     0.092\n",
        "White               <=50K    0.744\n",
        "                    >50K     0.256\n",
        "Name: salary, dtype: float64"
      ]
    },
    {
      "cell_type": "code",
      "execution_count": null,
      "metadata": {
        "id": "TbT1--Khd83D"
      },
      "outputs": [],
      "source": [
        "# Your Code is Here\n",
        "\n"
      ]
    },
    {
      "cell_type": "markdown",
      "metadata": {
        "id": "KoCiTSC3d83D"
      },
      "source": [
        "Desired Output:\n",
        "\n",
        "![image.png](https://i.ibb.co/xsJWXp4/71.png)"
      ]
    },
    {
      "cell_type": "markdown",
      "metadata": {
        "id": "xl_7einXjwO7"
      },
      "source": [
        "**Check the count of person in each races by \"salary\" levels and visualize it with countplot**"
      ]
    },
    {
      "cell_type": "code",
      "execution_count": null,
      "metadata": {
        "id": "OYMmsjYid83G"
      },
      "outputs": [],
      "source": [
        "# Your Code is Here\n",
        "\n"
      ]
    },
    {
      "cell_type": "raw",
      "metadata": {
        "id": "QOUOK-Eld83G"
      },
      "source": [
        "Desired Output:\n",
        "\n",
        "salary  race              \n",
        "<=50K   White                 20680\n",
        "        Black                  2735\n",
        "        Asian-Pac-Islander      762\n",
        "        Amer-Indian-Eskimo      275\n",
        "        Other                   246\n",
        ">50K    White                  7115\n",
        "        Black                   387\n",
        "        Asian-Pac-Islander      276\n",
        "        Amer-Indian-Eskimo       36\n",
        "        Other                    25\n",
        "Name: race, dtype: int64"
      ]
    },
    {
      "cell_type": "code",
      "execution_count": null,
      "metadata": {
        "id": "MVDRbYRpd83H"
      },
      "outputs": [],
      "source": [
        "# Your Code is Here\n",
        "\n"
      ]
    },
    {
      "cell_type": "markdown",
      "metadata": {
        "id": "DKEGRDWbd83I"
      },
      "source": [
        "Desired Output:\n",
        "\n",
        "![image.png](https://i.ibb.co/RBpPR38/72.png)"
      ]
    },
    {
      "cell_type": "markdown",
      "metadata": {
        "id": "y6WnktoJjwO8"
      },
      "source": [
        "**Check the the percentage distribution of person in each races by \"salary\" levels and visualize it with bar plot**"
      ]
    },
    {
      "cell_type": "code",
      "execution_count": null,
      "metadata": {
        "id": "6MdTg4S2d83K"
      },
      "outputs": [],
      "source": [
        "# Your Code is Here\n",
        "\n"
      ]
    },
    {
      "cell_type": "raw",
      "metadata": {
        "id": "31913CiDd83L"
      },
      "source": [
        "Desired Output:\n",
        "\n",
        "salary  race              \n",
        "<=50K   White                0.837\n",
        "        Black                0.111\n",
        "        Asian-Pac-Islander   0.031\n",
        "        Amer-Indian-Eskimo   0.011\n",
        "        Other                0.010\n",
        ">50K    White                0.908\n",
        "        Black                0.049\n",
        "        Asian-Pac-Islander   0.035\n",
        "        Amer-Indian-Eskimo   0.005\n",
        "        Other                0.003\n",
        "Name: race, dtype: float64"
      ]
    },
    {
      "cell_type": "code",
      "execution_count": null,
      "metadata": {
        "id": "zkpo1US4d83L"
      },
      "outputs": [],
      "source": [
        "# Your Code is Here\n",
        "\n"
      ]
    },
    {
      "cell_type": "markdown",
      "metadata": {
        "id": "5zIdUIZDd83L"
      },
      "source": [
        "Desired Output:\n",
        "\n",
        "![image.png](https://i.ibb.co/Xy9sYCY/73.png)"
      ]
    },
    {
      "cell_type": "code",
      "execution_count": null,
      "metadata": {
        "id": "5ioCxVsBd83M"
      },
      "outputs": [],
      "source": [
        "# Your Code is Here\n",
        "\n"
      ]
    },
    {
      "cell_type": "markdown",
      "metadata": {
        "id": "GDJsSkdvd83M"
      },
      "source": [
        "Desired Output:\n",
        "\n",
        "![image.png](https://i.ibb.co/X8kf9NZ/74.png)"
      ]
    },
    {
      "cell_type": "markdown",
      "metadata": {
        "id": "ektBJBtxjwO8"
      },
      "source": [
        "**Write down the conclusions you draw from your analysis**"
      ]
    },
    {
      "cell_type": "markdown",
      "metadata": {
        "id": "XvzagJjcjwO8"
      },
      "source": [
        "**Result :** ................"
      ]
    },
    {
      "cell_type": "markdown",
      "metadata": {
        "id": "-atLCuBJjwO8"
      },
      "source": [
        "## gender"
      ]
    },
    {
      "cell_type": "markdown",
      "metadata": {
        "id": "UPBcWPwxjwO9"
      },
      "source": [
        "**Check the count of person in each gender and visualize it with countplot**"
      ]
    },
    {
      "cell_type": "code",
      "execution_count": null,
      "metadata": {
        "id": "3o1fpzQsd83N"
      },
      "outputs": [],
      "source": [
        "# Your Code is Here\n",
        "\n"
      ]
    },
    {
      "cell_type": "raw",
      "metadata": {
        "id": "hHYmofmFd83O"
      },
      "source": [
        "Desired Output:\n",
        "\n",
        "Male      21775\n",
        "Female    10762\n",
        "Name: gender, dtype: int64"
      ]
    },
    {
      "cell_type": "code",
      "execution_count": null,
      "metadata": {
        "id": "RWiFYvKOd83O"
      },
      "outputs": [],
      "source": [
        "# Your Code is Here\n",
        "\n"
      ]
    },
    {
      "cell_type": "markdown",
      "metadata": {
        "id": "Gnc9pqsud83O"
      },
      "source": [
        "Desired Output:\n",
        "\n",
        "![image.png](https://i.ibb.co/GVTRbrb/75.png)"
      ]
    },
    {
      "cell_type": "markdown",
      "metadata": {
        "id": "pdUFVxrZjwO9"
      },
      "source": [
        "**Check the count of person in each \"salary\" levels by gender and visualize it with countplot**"
      ]
    },
    {
      "cell_type": "code",
      "execution_count": null,
      "metadata": {
        "id": "oBFgyxs2d83P"
      },
      "outputs": [],
      "source": [
        "# Your Code is Here\n",
        "\n"
      ]
    },
    {
      "cell_type": "raw",
      "metadata": {
        "id": "BOvkfCsnd83P"
      },
      "source": [
        "Desired Output:\n",
        "\n",
        "gender  salary\n",
        "Female  <=50K      9583\n",
        "        >50K       1179\n",
        "Male    <=50K     15115\n",
        "        >50K       6660\n",
        "Name: salary, dtype: int64"
      ]
    },
    {
      "cell_type": "code",
      "execution_count": null,
      "metadata": {
        "id": "xdNOnSkUd83Q"
      },
      "outputs": [],
      "source": [
        "# Your Code is Here\n",
        "\n"
      ]
    },
    {
      "cell_type": "markdown",
      "metadata": {
        "id": "L4vPeuxdd83Q"
      },
      "source": [
        "Desired Output:\n",
        "\n",
        "![image.png](https://i.ibb.co/Nr8HRPk/76.png)"
      ]
    },
    {
      "cell_type": "markdown",
      "metadata": {
        "id": "HwUybulnjwO9"
      },
      "source": [
        "**Check the percentage distribution of person in each \"salary\" levels by each gender and visualize it with pie plot**"
      ]
    },
    {
      "cell_type": "code",
      "execution_count": null,
      "metadata": {
        "id": "U7eKPr2yd83Q"
      },
      "outputs": [],
      "source": [
        "# Your Code is Here\n",
        "\n"
      ]
    },
    {
      "cell_type": "raw",
      "metadata": {
        "id": "TXjVd0Nod83R"
      },
      "source": [
        "Desired Output:\n",
        "\n",
        "gender  salary\n",
        "Female  <=50K    0.890\n",
        "        >50K     0.110\n",
        "Male    <=50K    0.694\n",
        "        >50K     0.306\n",
        "Name: salary, dtype: float64"
      ]
    },
    {
      "cell_type": "code",
      "execution_count": null,
      "metadata": {
        "id": "MabADcl7d83R"
      },
      "outputs": [],
      "source": [
        "# Your Code is Here\n",
        "\n"
      ]
    },
    {
      "cell_type": "markdown",
      "metadata": {
        "id": "7CcAT9_5d83S"
      },
      "source": [
        "Desired Output:\n",
        "\n",
        "![image.png](https://i.ibb.co/nrHj2jk/77.png)"
      ]
    },
    {
      "cell_type": "markdown",
      "metadata": {
        "id": "fJouHbA4jwO-"
      },
      "source": [
        "**Check the count of person in each gender by \"salary\" levels and visualize it with countplot**"
      ]
    },
    {
      "cell_type": "code",
      "execution_count": null,
      "metadata": {
        "id": "r59Y3jLNd83T"
      },
      "outputs": [],
      "source": [
        "# Your Code is Here\n",
        "\n"
      ]
    },
    {
      "cell_type": "raw",
      "metadata": {
        "id": "Q3O-iLP-d83T"
      },
      "source": [
        "Desired Output:\n",
        "\n",
        "salary  gender\n",
        "<=50K   Male      15115\n",
        "        Female     9583\n",
        ">50K    Male       6660\n",
        "        Female     1179\n",
        "Name: gender, dtype: int64"
      ]
    },
    {
      "cell_type": "code",
      "execution_count": null,
      "metadata": {
        "id": "S0aY-stkd83T"
      },
      "outputs": [],
      "source": [
        "# Your Code is Here\n",
        "\n"
      ]
    },
    {
      "cell_type": "markdown",
      "metadata": {
        "id": "jY9nDEaNd83U"
      },
      "source": [
        "Desired Output:\n",
        "\n",
        "![image.png](https://i.ibb.co/9sfsw11/78.png)"
      ]
    },
    {
      "cell_type": "markdown",
      "metadata": {
        "id": "SOs01uF6jwO-"
      },
      "source": [
        "**Check the the percentage distribution of person in each gender by \"salary\" levels and visualize it with pie plot**"
      ]
    },
    {
      "cell_type": "code",
      "execution_count": null,
      "metadata": {
        "id": "xkB6QZThd83V"
      },
      "outputs": [],
      "source": [
        "# Your Code is Here\n",
        "\n"
      ]
    },
    {
      "cell_type": "raw",
      "metadata": {
        "id": "JBzllVfid83V"
      },
      "source": [
        "Desired Output:\n",
        "\n",
        "salary  gender\n",
        "<=50K   Male     0.612\n",
        "        Female   0.388\n",
        ">50K    Male     0.850\n",
        "        Female   0.150\n",
        "Name: gender, dtype: float64"
      ]
    },
    {
      "cell_type": "code",
      "execution_count": null,
      "metadata": {
        "id": "474yCoq0d83V"
      },
      "outputs": [],
      "source": [
        "# Your Code is Here\n",
        "\n"
      ]
    },
    {
      "cell_type": "markdown",
      "metadata": {
        "id": "9UgwaAHvd83W"
      },
      "source": [
        "Desired Output:\n",
        "\n",
        "![image.png](https://i.ibb.co/0DzhNgG/79.png)"
      ]
    },
    {
      "cell_type": "markdown",
      "metadata": {
        "id": "gZgesr4WjwO_"
      },
      "source": [
        "**Write down the conclusions you draw from your analysis**"
      ]
    },
    {
      "cell_type": "markdown",
      "metadata": {
        "id": "QphA4kCgjwO_"
      },
      "source": [
        "**Result :** .............."
      ]
    },
    {
      "cell_type": "markdown",
      "metadata": {
        "id": "Q1AO-wkrjwO_"
      },
      "source": [
        "## native_country"
      ]
    },
    {
      "cell_type": "markdown",
      "metadata": {
        "id": "7RBYpgOtjwO_"
      },
      "source": [
        "**Check the count of person in each categories and visualize it with countplot**"
      ]
    },
    {
      "cell_type": "code",
      "execution_count": null,
      "metadata": {
        "id": "8glp1xild83Y"
      },
      "outputs": [],
      "source": [
        "# Your Code is Here\n",
        "\n"
      ]
    },
    {
      "cell_type": "raw",
      "metadata": {
        "id": "KiKqte36d83Y"
      },
      "source": [
        "Desired Output:\n",
        "\n",
        "United-States                 29153\n",
        "Mexico                          639\n",
        "?                               582\n",
        "Philippines                     198\n",
        "Germany                         137\n",
        "Canada                          121\n",
        "Puerto-Rico                     114\n",
        "El-Salvador                     106\n",
        "India                           100\n",
        "Cuba                             95\n",
        "England                          90\n",
        "Jamaica                          81\n",
        "South                            80\n",
        "China                            75\n",
        "Italy                            73\n",
        "Dominican-Republic               70\n",
        "Vietnam                          67\n",
        "Japan                            62\n",
        "Guatemala                        62\n",
        "Poland                           60\n",
        "Columbia                         59\n",
        "Taiwan                           51\n",
        "Haiti                            44\n",
        "Iran                             43\n",
        "Portugal                         37\n",
        "Nicaragua                        34\n",
        "Peru                             31\n",
        "France                           29\n",
        "Greece                           29\n",
        "Ecuador                          28\n",
        "Ireland                          24\n",
        "Hong                             20\n",
        "Cambodia                         19\n",
        "Trinadad&Tobago                  19\n",
        "Laos                             18\n",
        "Thailand                         18\n",
        "Yugoslavia                       16\n",
        "Outlying-US(Guam-USVI-etc)       14\n",
        "Honduras                         13\n",
        "Hungary                          13\n",
        "Scotland                         12\n",
        "Holand-Netherlands                1\n",
        "Name: native_country, dtype: int64"
      ]
    },
    {
      "cell_type": "code",
      "execution_count": null,
      "metadata": {
        "id": "BEVHY-KWd83Z"
      },
      "outputs": [],
      "source": [
        "# Your Code is Here\n",
        "\n"
      ]
    },
    {
      "cell_type": "markdown",
      "metadata": {
        "id": "kCEldaSsd83a"
      },
      "source": [
        "Desired Output:\n",
        "\n",
        "![image.png](https://i.ibb.co/x3TNT7B/80.png)"
      ]
    },
    {
      "cell_type": "markdown",
      "metadata": {
        "id": "IzZNpvJPjwPA"
      },
      "source": [
        "**Replace the value \"?\" to the value \"Unknown\"** "
      ]
    },
    {
      "cell_type": "code",
      "execution_count": null,
      "metadata": {
        "id": "veH54JFnd83b"
      },
      "outputs": [],
      "source": [
        "# Replace \"?\" values with \"Unknown\"\n",
        "\n",
        "# Your Code is Here\n",
        "\n"
      ]
    },
    {
      "cell_type": "markdown",
      "metadata": {
        "id": "jhFDZnJ_jwPA"
      },
      "source": [
        "**Decrease the number of categories in \"native_country\" feature as US, and Others and create a new feature with this new categorical data**"
      ]
    },
    {
      "cell_type": "code",
      "execution_count": null,
      "metadata": {
        "id": "4L1ZWfZYjwPA"
      },
      "outputs": [],
      "source": [
        "def mapping_native_country(x):\n",
        "    if x == \"United-States\":\n",
        "        return \"US\"\n",
        "    else:\n",
        "        return \"Others\""
      ]
    },
    {
      "cell_type": "code",
      "execution_count": null,
      "metadata": {
        "id": "2vGj8q5nd83e"
      },
      "outputs": [],
      "source": [
        "# Your Code is Here\n",
        "\n"
      ]
    },
    {
      "cell_type": "raw",
      "metadata": {
        "id": "W4gMqRoEd83e"
      },
      "source": [
        "Desired Output:\n",
        "\n",
        "US        29153\n",
        "Others     3384\n",
        "Name: native_country, dtype: int64"
      ]
    },
    {
      "cell_type": "code",
      "execution_count": null,
      "metadata": {
        "id": "JjvhoQK1d83f"
      },
      "outputs": [],
      "source": [
        "# By using \"mapping_native_country\" def function above, create a new column named \"native_country_summary\"\n",
        "\n",
        "# Your Code is Here\n",
        "\n"
      ]
    },
    {
      "cell_type": "raw",
      "metadata": {
        "id": "pwJ3G-aDd83f"
      },
      "source": [
        "Desired Output:\n",
        "\n",
        "0            US\n",
        "1            US\n",
        "2            US\n",
        "3            US\n",
        "4        Others\n",
        "          ...  \n",
        "32556        US\n",
        "32557        US\n",
        "32558        US\n",
        "32559        US\n",
        "32560        US\n",
        "Name: native_country_summary, Length: 32537, dtype: object"
      ]
    },
    {
      "cell_type": "markdown",
      "metadata": {
        "id": "uoX86TB6jwPA"
      },
      "source": [
        "**Visualize the count of person in each new categories (US, Others)**"
      ]
    },
    {
      "cell_type": "code",
      "execution_count": null,
      "metadata": {
        "id": "IFfuY34ed83g"
      },
      "outputs": [],
      "source": [
        "# Your Code is Here\n",
        "\n"
      ]
    },
    {
      "cell_type": "markdown",
      "metadata": {
        "id": "ZX6C4o8Fd83g"
      },
      "source": [
        "Desired Output:\n",
        "\n",
        "![image.png](https://i.ibb.co/wwDhVGd/81.png)"
      ]
    },
    {
      "cell_type": "markdown",
      "metadata": {
        "id": "x-wiC7UAjwPB"
      },
      "source": [
        "**Check the count of person in each \"salary\" levels by these new native countries (US, Others) and visualize it with countplot**"
      ]
    },
    {
      "cell_type": "code",
      "execution_count": null,
      "metadata": {
        "id": "queuS05Kd83h"
      },
      "outputs": [],
      "source": [
        "# Your Code is Here\n",
        "\n"
      ]
    },
    {
      "cell_type": "raw",
      "metadata": {
        "id": "r6WmaakBd83h"
      },
      "source": [
        "Desired Output:\n",
        "\n",
        "native_country_summary  salary\n",
        "Others                  <=50K      2714\n",
        "                        >50K        670\n",
        "US                      <=50K     21984\n",
        "                        >50K       7169\n",
        "Name: salary, dtype: int64"
      ]
    },
    {
      "cell_type": "code",
      "execution_count": null,
      "metadata": {
        "id": "7WXxZh3Ed83h"
      },
      "outputs": [],
      "source": [
        "# Your Code is Here\n",
        "\n"
      ]
    },
    {
      "cell_type": "markdown",
      "metadata": {
        "id": "bLCDtH3hd83i"
      },
      "source": [
        "Desired Output:\n",
        "\n",
        "![image.png](https://i.ibb.co/SVnKp4k/82.png)"
      ]
    },
    {
      "cell_type": "markdown",
      "metadata": {
        "id": "w_LThintjwPB"
      },
      "source": [
        "**Check the percentage distribution of person in each \"salary\" levels by each new native countries (US, Others) and visualize it with pie plot separately**"
      ]
    },
    {
      "cell_type": "code",
      "execution_count": null,
      "metadata": {
        "id": "hgYiNuIrd83i"
      },
      "outputs": [],
      "source": [
        "# Your Code is Here\n",
        "\n"
      ]
    },
    {
      "cell_type": "raw",
      "metadata": {
        "id": "d64HfoYPd83j"
      },
      "source": [
        "Desired Output:\n",
        "\n",
        "native_country_summary  salary\n",
        "Others                  <=50K    0.802\n",
        "                        >50K     0.198\n",
        "US                      <=50K    0.754\n",
        "                        >50K     0.246\n",
        "Name: salary, dtype: float64"
      ]
    },
    {
      "cell_type": "code",
      "execution_count": null,
      "metadata": {
        "id": "p88d-Jhnd83j"
      },
      "outputs": [],
      "source": [
        "# Your Code is Here\n",
        "\n"
      ]
    },
    {
      "cell_type": "markdown",
      "metadata": {
        "id": "YMrQdY97d83k"
      },
      "source": [
        "Desired Output:\n",
        "\n",
        "![image.png](https://i.ibb.co/4NQ5b1b/83.png)"
      ]
    },
    {
      "cell_type": "markdown",
      "metadata": {
        "id": "PpmDSPKAjwPC"
      },
      "source": [
        "**Check the count of person in each these new native countries (US, Others) by \"salary\" levels and visualize it with countplot**"
      ]
    },
    {
      "cell_type": "code",
      "execution_count": null,
      "metadata": {
        "id": "TrBS-RECd83k"
      },
      "outputs": [],
      "source": [
        "# Your Code is Here\n",
        "\n"
      ]
    },
    {
      "cell_type": "raw",
      "metadata": {
        "id": "_fJfRQ6Nd83l"
      },
      "source": [
        "Desired Output:\n",
        "\n",
        "salary  native_country_summary\n",
        "<=50K   US                        21984\n",
        "        Others                     2714\n",
        ">50K    US                         7169\n",
        "        Others                      670\n",
        "Name: native_country_summary, dtype: int64"
      ]
    },
    {
      "cell_type": "code",
      "execution_count": null,
      "metadata": {
        "id": "IAGNnSePd83l"
      },
      "outputs": [],
      "source": [
        "# Your Code is Here\n",
        "\n"
      ]
    },
    {
      "cell_type": "markdown",
      "metadata": {
        "id": "Yy9UCkTEd83m"
      },
      "source": [
        "Desired Output:\n",
        "\n",
        "![image.png](https://i.ibb.co/c1gQfcg/84.png)"
      ]
    },
    {
      "cell_type": "markdown",
      "metadata": {
        "id": "z8Qi7EFPjwPD"
      },
      "source": [
        "**Check the the percentage distribution of person in each these new native countries (US, Others) by \"salary\" levels and visualize it with pie plot separately**"
      ]
    },
    {
      "cell_type": "code",
      "execution_count": null,
      "metadata": {
        "id": "9euGELEKd83n"
      },
      "outputs": [],
      "source": [
        "# Your Code is Here\n",
        "\n"
      ]
    },
    {
      "cell_type": "raw",
      "metadata": {
        "id": "AnOb8Qv_d83o"
      },
      "source": [
        "Desired Output:\n",
        "\n",
        "salary  native_country_summary\n",
        "<=50K   US                       0.890\n",
        "        Others                   0.110\n",
        ">50K    US                       0.915\n",
        "        Others                   0.085\n",
        "Name: native_country_summary, dtype: float64"
      ]
    },
    {
      "cell_type": "code",
      "execution_count": null,
      "metadata": {
        "id": "vYsCMjk1d83o"
      },
      "outputs": [],
      "source": [
        "# Your Code is Here\n",
        "\n"
      ]
    },
    {
      "cell_type": "markdown",
      "metadata": {
        "id": "DgUbOSyad83p"
      },
      "source": [
        "Desired Output:\n",
        "\n",
        "![image.png](https://i.ibb.co/QHc8m0x/85.png)"
      ]
    },
    {
      "cell_type": "markdown",
      "metadata": {
        "id": "Y9pmpvNZjwPD"
      },
      "source": [
        "**Write down the conclusions you draw from your analysis**"
      ]
    },
    {
      "cell_type": "markdown",
      "metadata": {
        "id": "N1L4tySAjwPE"
      },
      "source": [
        "**Result :** ................."
      ]
    },
    {
      "cell_type": "markdown",
      "metadata": {
        "id": "aQo2OjRBjwPE"
      },
      "source": [
        "## <p style=\"background-color:#47AC34; font-family:newtimeroman; color:#FFF9ED; font-size:175%; text-align:center; border-radius:10px 10px;\">Other Specific Analysis Questions</p>\n",
        "\n",
        "<a id=\"5\"></a>\n",
        "<a href=\"#toc\" class=\"btn btn-primary btn-sm\" role=\"button\" aria-pressed=\"true\" \n",
        "style=\"color:white; background-color:#47AC34\" data-toggle=\"popover\">Content</a>"
      ]
    },
    {
      "cell_type": "markdown",
      "metadata": {
        "id": "4Nzi2KokjwPE"
      },
      "source": [
        "### 1. What is the average age of males and females by income level?"
      ]
    },
    {
      "cell_type": "code",
      "execution_count": null,
      "metadata": {
        "id": "6G_S3z0Jd83r"
      },
      "outputs": [],
      "source": [
        "# Your Code is Here\n",
        "\n"
      ]
    },
    {
      "cell_type": "raw",
      "metadata": {
        "id": "UEwU2sc2d83s"
      },
      "source": [
        "Desired Output:\n",
        "\n",
        "salary  gender\n",
        "<=50K   Female   36.217\n",
        "        Male     37.149\n",
        ">50K    Female   42.126\n",
        "        Male     44.627\n",
        "Name: age, dtype: float64"
      ]
    },
    {
      "cell_type": "code",
      "execution_count": null,
      "metadata": {
        "id": "JUMlVp2_d83s"
      },
      "outputs": [],
      "source": [
        "# Your Code is Here\n",
        "\n"
      ]
    },
    {
      "cell_type": "markdown",
      "metadata": {
        "id": "yK130Ub2d83t"
      },
      "source": [
        "Desired Output:\n",
        "\n",
        "![image.png](https://i.ibb.co/BBDy081/86.png)"
      ]
    },
    {
      "cell_type": "code",
      "execution_count": null,
      "metadata": {
        "id": "1E0Kk0Gxd83t"
      },
      "outputs": [],
      "source": [
        "# Your Code is Here\n",
        "\n"
      ]
    },
    {
      "cell_type": "markdown",
      "metadata": {
        "id": "ydZBnreEd83t"
      },
      "source": [
        "Desired Output:\n",
        "\n",
        "![image.png](https://i.ibb.co/4PD1208/87.png)"
      ]
    },
    {
      "cell_type": "code",
      "execution_count": null,
      "metadata": {
        "id": "IDc3EgTUd83u"
      },
      "outputs": [],
      "source": [
        "# Your Code is Here\n",
        "\n"
      ]
    },
    {
      "cell_type": "markdown",
      "metadata": {
        "id": "scKtcUhsd83u"
      },
      "source": [
        "Desired Output:\n",
        "\n",
        "![image.png](https://i.ibb.co/2n0yGt7/88.png)"
      ]
    },
    {
      "cell_type": "markdown",
      "metadata": {
        "id": "Atr3vfcKjwPF"
      },
      "source": [
        "### 2. What is the workclass percentages of Americans in high-level income group?"
      ]
    },
    {
      "cell_type": "code",
      "execution_count": null,
      "metadata": {
        "id": "-aWFRjWSd83v"
      },
      "outputs": [],
      "source": [
        "# Your Code is Here\n",
        "\n"
      ]
    },
    {
      "cell_type": "raw",
      "metadata": {
        "id": "rMTKesbHd83v"
      },
      "source": [
        "Desired Output:\n",
        "\n",
        "Private            63.314\n",
        "Self-emp-not-inc    9.192\n",
        "Local-gov           8.021\n",
        "Self-emp-inc        7.784\n",
        "Federal-gov         4.687\n",
        "State-gov           4.547\n",
        "Unknown             2.455\n",
        "Name: workclass, dtype: float64"
      ]
    },
    {
      "cell_type": "code",
      "execution_count": null,
      "metadata": {
        "id": "o8kxjAsld83w"
      },
      "outputs": [],
      "source": [
        "# Your Code is Here\n",
        "\n"
      ]
    },
    {
      "cell_type": "markdown",
      "metadata": {
        "id": "8r_OFOGCd83x"
      },
      "source": [
        "Desired Output:\n",
        "\n",
        "![image.png](https://i.ibb.co/gMHzLgH/89.png)"
      ]
    },
    {
      "cell_type": "markdown",
      "metadata": {
        "id": "7CvSp9f7jwPF"
      },
      "source": [
        "### 3. What is the occupation percentages of Americans who work as \"Private\" workclass in high-level income group?"
      ]
    },
    {
      "cell_type": "code",
      "execution_count": null,
      "metadata": {
        "id": "XYyyf8Efd83z"
      },
      "outputs": [],
      "source": [
        "# Your Code is Here\n",
        "\n"
      ]
    },
    {
      "cell_type": "raw",
      "metadata": {
        "id": "FYzK2Psfd83z"
      },
      "source": [
        "Desired Output:\n",
        "\n",
        "Exec-managerial     26.438\n",
        "Prof-specialty      19.476\n",
        "Craft-repair        14.695\n",
        "Sales               14.475\n",
        "Adm-clerical         6.389\n",
        "Transport-moving     5.442\n",
        "Tech-support         4.428\n",
        "Machine-op-inspct    4.428\n",
        "Other-service        1.674\n",
        "Handlers-cleaners    1.344\n",
        "Farming-fishing      0.595\n",
        "Protective-serv      0.595\n",
        "Priv-house-serv      0.022\n",
        "Name: occupation, dtype: float64"
      ]
    },
    {
      "cell_type": "code",
      "execution_count": null,
      "metadata": {
        "id": "8__PVGlld830"
      },
      "outputs": [],
      "source": [
        "# Your Code is Here\n",
        "\n"
      ]
    },
    {
      "cell_type": "markdown",
      "metadata": {
        "id": "4i32L2tNd831"
      },
      "source": [
        "Desired Output:\n",
        "\n",
        "![image.png](https://i.ibb.co/s3Kd7VS/90.png)"
      ]
    },
    {
      "cell_type": "markdown",
      "metadata": {
        "id": "F7sK9___jwPG"
      },
      "source": [
        "### 4. What is the education level percentages of Asian-Pac-Islander race group in high-level income group?"
      ]
    },
    {
      "cell_type": "code",
      "execution_count": null,
      "metadata": {
        "id": "k7un__mfd832"
      },
      "outputs": [],
      "source": [
        "# Your Code is Here\n",
        "\n"
      ]
    },
    {
      "cell_type": "raw",
      "metadata": {
        "id": "aaR76wvsd833"
      },
      "source": [
        "Desired Output:\n",
        "\n",
        "Bachelors      35.145\n",
        "Masters        15.580\n",
        "HS-grad        12.319\n",
        "Some-college   11.957\n",
        "Prof-school     9.783\n",
        "Doctorate       6.522\n",
        "Assoc-voc       3.261\n",
        "Assoc-acdm      2.899\n",
        "5th-6th         1.087\n",
        "9th             0.362\n",
        "11th            0.362\n",
        "10th            0.362\n",
        "12th            0.362\n",
        "Name: education, dtype: float64"
      ]
    },
    {
      "cell_type": "code",
      "execution_count": null,
      "metadata": {
        "id": "M0KFns5ud834"
      },
      "outputs": [],
      "source": [
        "# Your Code is Here\n",
        "\n"
      ]
    },
    {
      "cell_type": "markdown",
      "metadata": {
        "id": "9bBweQl5d835"
      },
      "source": [
        "Desired Output:\n",
        "\n",
        "![image.png](https://i.ibb.co/rZnSFBX/91.png)"
      ]
    },
    {
      "cell_type": "markdown",
      "metadata": {
        "id": "7qqMjUE9jwPG"
      },
      "source": [
        "### 5. What is the occupation percentages of Asian-Pac-Islander race group who has a Bachelors degree in high-level income group?"
      ]
    },
    {
      "cell_type": "code",
      "execution_count": null,
      "metadata": {
        "id": "d0Vv9O98d837"
      },
      "outputs": [],
      "source": [
        "# Your Code is Here\n",
        "\n"
      ]
    },
    {
      "cell_type": "raw",
      "metadata": {
        "id": "t2mBe0Svd837"
      },
      "source": [
        "Desired Output:\n",
        "\n",
        "Exec-managerial     27.835\n",
        "Prof-specialty      25.773\n",
        "Adm-clerical        12.371\n",
        "Sales                9.278\n",
        "Other-service        9.278\n",
        "Craft-repair         7.216\n",
        "Tech-support         3.093\n",
        "Protective-serv      2.062\n",
        "Transport-moving     1.031\n",
        "Machine-op-inspct    1.031\n",
        "Farming-fishing      1.031\n",
        "Name: occupation, dtype: float64"
      ]
    },
    {
      "cell_type": "code",
      "execution_count": null,
      "metadata": {
        "id": "nz-QbN7nd837"
      },
      "outputs": [],
      "source": [
        "# Your Code is Here\n",
        "\n"
      ]
    },
    {
      "cell_type": "markdown",
      "metadata": {
        "id": "JxDDZDlid838"
      },
      "source": [
        "Desired Output:\n",
        "\n",
        "![image.png](https://i.ibb.co/zZVsbJf/92.png)"
      ]
    },
    {
      "cell_type": "markdown",
      "metadata": {
        "id": "R5sVvHBYjwPH"
      },
      "source": [
        "### 6. What is the mean of working hours per week by gender for education level, workclass and marital status? Try to plot all required in one figure."
      ]
    },
    {
      "cell_type": "code",
      "execution_count": null,
      "metadata": {
        "id": "SZidmas2d838"
      },
      "outputs": [],
      "source": [
        "# Your Code is Here\n",
        "\n"
      ]
    },
    {
      "cell_type": "markdown",
      "metadata": {
        "id": "BUO3eOtBd839"
      },
      "source": [
        "Desired Output:\n",
        "\n",
        "![image.png](https://i.ibb.co/G5KY8nf/93.png)"
      ]
    },
    {
      "cell_type": "markdown",
      "metadata": {
        "id": "tct5KTULjwPH"
      },
      "source": [
        "## <p style=\"background-color:#47AC34; font-family:newtimeroman; color:#FFF9ED; font-size:175%; text-align:center; border-radius:10px 10px;\">Dropping Similar & Unneccessary Features</p>\n",
        "\n",
        "<a id=\"6\"></a>\n",
        "<a href=\"#toc\" class=\"btn btn-primary btn-sm\" role=\"button\" aria-pressed=\"true\" \n",
        "style=\"color:white; background-color:#47AC34\" data-toggle=\"popover\">Content</a>"
      ]
    },
    {
      "cell_type": "code",
      "execution_count": null,
      "metadata": {
        "id": "g3kCh-lMd83-"
      },
      "outputs": [],
      "source": [
        "# Your Code is Here\n",
        "\n"
      ]
    },
    {
      "cell_type": "raw",
      "metadata": {
        "id": "T5qHPsLWd83-"
      },
      "source": [
        "Desired Output:\n",
        "\n",
        "<class 'pandas.core.frame.DataFrame'>\n",
        "Int64Index: 32537 entries, 0 to 32560\n",
        "Data columns (total 18 columns):\n",
        " #   Column                  Non-Null Count  Dtype  \n",
        "---  ------                  --------------  -----  \n",
        " 0   age                     32537 non-null  int64  \n",
        " 1   workclass               32537 non-null  object \n",
        " 2   fnlwgt                  32537 non-null  int64  \n",
        " 3   education               32537 non-null  object \n",
        " 4   education_num           31735 non-null  float64\n",
        " 5   marital_status          32537 non-null  object \n",
        " 6   occupation              32537 non-null  object \n",
        " 7   relationship            32537 non-null  object \n",
        " 8   race                    32537 non-null  object \n",
        " 9   gender                  32537 non-null  object \n",
        " 10  capital_gain            32537 non-null  int64  \n",
        " 11  capital_loss            32537 non-null  int64  \n",
        " 12  hours_per_week          32537 non-null  int64  \n",
        " 13  native_country          32537 non-null  object \n",
        " 14  salary                  32537 non-null  object \n",
        " 15  education_summary       32537 non-null  object \n",
        " 16  marital_status_summary  32537 non-null  object \n",
        " 17  native_country_summary  32537 non-null  object \n",
        "dtypes: float64(1), int64(5), object(12)\n",
        "memory usage: 5.7+ MB"
      ]
    },
    {
      "cell_type": "code",
      "execution_count": null,
      "metadata": {
        "id": "skqRUo5yd83_"
      },
      "outputs": [],
      "source": [
        "# Drop the columns of \"education\", \"education_num\", \"relationship\", \"marital_status\", \"native_country\" permanently\n",
        "\n",
        "# Your Code is Here\n",
        "\n"
      ]
    },
    {
      "cell_type": "markdown",
      "metadata": {
        "id": "-_TS1bdWjwPH"
      },
      "source": [
        "## <p style=\"background-color:#47AC34; font-family:newtimeroman; color:#FFF9ED; font-size:175%; text-align:center; border-radius:10px 10px;\">Handling with Missing Value</p>\n",
        "\n",
        "<a id=\"7\"></a>\n",
        "<a href=\"#toc\" class=\"btn btn-primary btn-sm\" role=\"button\" aria-pressed=\"true\" \n",
        "style=\"color:white; background-color:#47AC34\" data-toggle=\"popover\">Content</a>"
      ]
    },
    {
      "cell_type": "markdown",
      "metadata": {
        "id": "-9W89YamjwPI"
      },
      "source": [
        "**Check the missing values for all features basically**"
      ]
    },
    {
      "cell_type": "code",
      "execution_count": null,
      "metadata": {
        "id": "dl24Bu8Kd84B"
      },
      "outputs": [],
      "source": [
        "# Your Code is Here\n",
        "\n"
      ]
    },
    {
      "cell_type": "raw",
      "metadata": {
        "id": "h6pOw17Yd84C"
      },
      "source": [
        "Desired Output:\n",
        "\n",
        "age                       0\n",
        "workclass                 0\n",
        "fnlwgt                    0\n",
        "occupation                0\n",
        "race                      0\n",
        "gender                    0\n",
        "capital_gain              0\n",
        "capital_loss              0\n",
        "hours_per_week            0\n",
        "salary                    0\n",
        "education_summary         0\n",
        "marital_status_summary    0\n",
        "native_country_summary    0\n",
        "dtype: int64"
      ]
    },
    {
      "cell_type": "markdown",
      "metadata": {
        "id": "gQmPPblQjwPI"
      },
      "source": [
        "**1. It seems that there is no missing value. But we know that \"workclass\", and \"occupation\" features have missing values as the \"Unknown\" string values. Examine these features in more detail.**\n",
        "\n",
        "**2. Decide if drop these \"Unknown\" string values or not**"
      ]
    },
    {
      "cell_type": "code",
      "execution_count": null,
      "metadata": {
        "id": "sNCBrpZLd84D"
      },
      "outputs": [],
      "source": [
        "# Your Code is Here\n",
        "\n"
      ]
    },
    {
      "cell_type": "raw",
      "metadata": {
        "id": "4L00bg9Pd84D"
      },
      "source": [
        "Desired Output:\n",
        "\n",
        "Private             22673\n",
        "Self-emp-not-inc     2540\n",
        "Local-gov            2093\n",
        "Unknown              1836\n",
        "State-gov            1298\n",
        "Self-emp-inc         1116\n",
        "Federal-gov           960\n",
        "Without-pay            14\n",
        "Never-worked            7\n",
        "Name: workclass, dtype: int64"
      ]
    },
    {
      "cell_type": "code",
      "execution_count": null,
      "metadata": {
        "id": "ko4VHEmVd84E"
      },
      "outputs": [],
      "source": [
        "# Your Code is Here\n",
        "\n"
      ]
    },
    {
      "cell_type": "raw",
      "metadata": {
        "id": "TmZiSl06d84F"
      },
      "source": [
        "Desired Output:\n",
        "\n",
        "Prof-specialty       4136\n",
        "Craft-repair         4094\n",
        "Exec-managerial      4065\n",
        "Adm-clerical         3768\n",
        "Sales                3650\n",
        "Other-service        3291\n",
        "Machine-op-inspct    2000\n",
        "Unknown              1843\n",
        "Transport-moving     1597\n",
        "Handlers-cleaners    1369\n",
        "Farming-fishing       992\n",
        "Tech-support          927\n",
        "Protective-serv       649\n",
        "Priv-house-serv       147\n",
        "Armed-Forces            9\n",
        "Name: occupation, dtype: int64"
      ]
    },
    {
      "cell_type": "code",
      "execution_count": null,
      "metadata": {
        "id": "UYc31qhWd84G"
      },
      "outputs": [],
      "source": [
        "# Your Code is Here\n",
        "\n"
      ]
    },
    {
      "cell_type": "raw",
      "metadata": {
        "id": "BOtVfDZdd84G"
      },
      "source": [
        "Desired Output:\n",
        "\n",
        "Unknown         1836\n",
        "Never-worked       7\n",
        "Name: workclass, dtype: int64"
      ]
    },
    {
      "cell_type": "code",
      "execution_count": null,
      "metadata": {
        "id": "FDZJpQBId84H"
      },
      "outputs": [],
      "source": [
        "# Replace \"Unknown\" values with NaN using numpy library\n",
        "\n",
        "# Your Code is Here\n",
        "\n"
      ]
    },
    {
      "cell_type": "code",
      "execution_count": null,
      "metadata": {
        "id": "9QHnErMcd84H"
      },
      "outputs": [],
      "source": [
        "# Your Code is Here\n",
        "\n"
      ]
    },
    {
      "cell_type": "raw",
      "metadata": {
        "id": "hKAZ2WV1d84I"
      },
      "source": [
        "Desired Output:\n",
        "\n",
        "age                          0\n",
        "workclass                 1836\n",
        "fnlwgt                       0\n",
        "occupation                1843\n",
        "race                         0\n",
        "gender                       0\n",
        "capital_gain                 0\n",
        "capital_loss                 0\n",
        "hours_per_week               0\n",
        "salary                       0\n",
        "education_summary            0\n",
        "marital_status_summary       0\n",
        "native_country_summary       0\n",
        "dtype: int64"
      ]
    },
    {
      "cell_type": "code",
      "execution_count": null,
      "metadata": {
        "id": "er7M7CYSjwPJ"
      },
      "outputs": [],
      "source": [
        "# Drop missing values in df permanently\n",
        "\n",
        "# Your Code is Here\n",
        "\n"
      ]
    },
    {
      "cell_type": "code",
      "execution_count": null,
      "metadata": {
        "id": "JApCsvTQd84K"
      },
      "outputs": [],
      "source": [
        "# Your Code is Here\n",
        "\n"
      ]
    },
    {
      "cell_type": "raw",
      "metadata": {
        "id": "VBHX_khMd84K"
      },
      "source": [
        "Desired Output:\n",
        "\n",
        "age                       0\n",
        "workclass                 0\n",
        "fnlwgt                    0\n",
        "occupation                0\n",
        "race                      0\n",
        "gender                    0\n",
        "capital_gain              0\n",
        "capital_loss              0\n",
        "hours_per_week            0\n",
        "salary                    0\n",
        "education_summary         0\n",
        "marital_status_summary    0\n",
        "native_country_summary    0\n",
        "dtype: int64"
      ]
    },
    {
      "cell_type": "code",
      "execution_count": null,
      "metadata": {
        "id": "mt7Vgdi9d84L"
      },
      "outputs": [],
      "source": [
        "# Your Code is Here\n",
        "\n"
      ]
    },
    {
      "cell_type": "raw",
      "metadata": {
        "id": "n_b0zfgKd84M"
      },
      "source": [
        "Desired Output:\n",
        "\n",
        "<class 'pandas.core.frame.DataFrame'>\n",
        "Int64Index: 30694 entries, 0 to 32560\n",
        "Data columns (total 13 columns):\n",
        " #   Column                  Non-Null Count  Dtype \n",
        "---  ------                  --------------  ----- \n",
        " 0   age                     30694 non-null  int64 \n",
        " 1   workclass               30694 non-null  object\n",
        " 2   fnlwgt                  30694 non-null  int64 \n",
        " 3   occupation              30694 non-null  object\n",
        " 4   race                    30694 non-null  object\n",
        " 5   gender                  30694 non-null  object\n",
        " 6   capital_gain            30694 non-null  int64 \n",
        " 7   capital_loss            30694 non-null  int64 \n",
        " 8   hours_per_week          30694 non-null  int64 \n",
        " 9   salary                  30694 non-null  object\n",
        " 10  education_summary       30694 non-null  object\n",
        " 11  marital_status_summary  30694 non-null  object\n",
        " 12  native_country_summary  30694 non-null  object\n",
        "dtypes: int64(5), object(8)\n",
        "memory usage: 3.3+ MB"
      ]
    },
    {
      "cell_type": "markdown",
      "metadata": {
        "id": "OqhEXvvtjwPJ"
      },
      "source": [
        "## <p style=\"background-color:#47AC34; font-family:newtimeroman; color:#FFF9ED; font-size:175%; text-align:center; border-radius:10px 10px;\">Handling with Outliers</p>\n",
        "\n",
        "<a id=\"8\"></a>\n",
        "<a href=\"#toc\" class=\"btn btn-primary btn-sm\" role=\"button\" aria-pressed=\"true\" \n",
        "style=\"color:white; background-color:#47AC34\" data-toggle=\"popover\">Content</a>"
      ]
    },
    {
      "cell_type": "markdown",
      "metadata": {
        "id": "A96k9zQ-jwPJ"
      },
      "source": [
        "### Boxplot and Histplot for all numeric features\n",
        "\n",
        "**Plot boxplots for each numeric features at the same figure as subplots**"
      ]
    },
    {
      "cell_type": "code",
      "execution_count": null,
      "metadata": {
        "id": "jtUx_FC2d84N"
      },
      "outputs": [],
      "source": [
        "# Your Code is Here\n",
        "\n"
      ]
    },
    {
      "cell_type": "markdown",
      "metadata": {
        "id": "GfwD-OMld84O"
      },
      "source": [
        "Desired Output:\n",
        "\n",
        "![image.png](https://i.ibb.co/DKMSBDk/94.png)"
      ]
    },
    {
      "cell_type": "code",
      "execution_count": null,
      "metadata": {
        "id": "mKBydaxVd84P"
      },
      "outputs": [],
      "source": [
        "# Your Code is Here\n",
        "\n"
      ]
    },
    {
      "cell_type": "markdown",
      "metadata": {
        "id": "pIAK_dMid84P"
      },
      "source": [
        "Desired Output:\n",
        "\n",
        "![image.png](https://i.ibb.co/JKtcs9S/95.png)"
      ]
    },
    {
      "cell_type": "markdown",
      "metadata": {
        "id": "RhL1GSZWjwPK"
      },
      "source": [
        "**Plot both boxplots and histograms for each numeric features at the same figure as subplots**"
      ]
    },
    {
      "cell_type": "code",
      "execution_count": null,
      "metadata": {
        "id": "7ReSrluZd84Q"
      },
      "outputs": [],
      "source": [
        "# Your Code is Here\n",
        "\n"
      ]
    },
    {
      "cell_type": "markdown",
      "metadata": {
        "id": "ktV8ZsgAd84Q"
      },
      "source": [
        "Desired Output:\n",
        "\n",
        "![image.png](https://i.ibb.co/fMpP3yR/96.png)"
      ]
    },
    {
      "cell_type": "markdown",
      "metadata": {
        "id": "O6diQd9mjwPK"
      },
      "source": [
        "**Check the statistical values for all numeric features**"
      ]
    },
    {
      "cell_type": "code",
      "execution_count": null,
      "metadata": {
        "id": "KX-5Ei1Od84R"
      },
      "outputs": [],
      "source": [
        "# Your Code is Here\n",
        "\n"
      ]
    },
    {
      "cell_type": "markdown",
      "metadata": {
        "id": "m_EgvWpEd84R"
      },
      "source": [
        "Desired Output:\n",
        "\n",
        "![image.png](https://i.ibb.co/t3MJHDr/97.png)"
      ]
    },
    {
      "cell_type": "markdown",
      "metadata": {
        "id": "7-GYNYVzjwPK"
      },
      "source": [
        "**1. After analyzing all features, we have decided that we can't evaluate extreme values in \"fnlwgt, capital_gain, capital_loss\" features in the scope of outliers.**\n",
        "\n",
        "**2. So let's examine \"age and hours_per_week\" features and detect extreme values which could be outliers by using IQR Rule.**"
      ]
    },
    {
      "cell_type": "markdown",
      "metadata": {
        "id": "9s-OW2OwjwPR"
      },
      "source": [
        "### age"
      ]
    },
    {
      "cell_type": "code",
      "execution_count": null,
      "metadata": {
        "id": "p1ixBS9Cd84T"
      },
      "outputs": [],
      "source": [
        "# Your Code is Here\n",
        "\n"
      ]
    },
    {
      "cell_type": "markdown",
      "metadata": {
        "id": "I62iYiXWd84T"
      },
      "source": [
        "Desired Output:\n",
        "\n",
        "![image.png](https://i.ibb.co/SnzH5Nz/98.png)"
      ]
    },
    {
      "cell_type": "code",
      "execution_count": null,
      "metadata": {
        "id": "VF4A4Whcd84T"
      },
      "outputs": [],
      "source": [
        "# Find IQR defining quantile 0.25 for low level and 0.75 for high level \n",
        "\n",
        "# Your Code is Here\n",
        "\n"
      ]
    },
    {
      "cell_type": "raw",
      "metadata": {
        "id": "44zz3C-5d84U"
      },
      "source": [
        "Desired Output:\n",
        "\n",
        "(28.0, 47.0, 19.0)"
      ]
    },
    {
      "cell_type": "code",
      "execution_count": null,
      "metadata": {
        "id": "b-tchO9bd84U"
      },
      "outputs": [],
      "source": [
        "# Find lower and upper limit using IQR\n",
        "\n",
        "# Your Code is Here\n",
        "\n"
      ]
    },
    {
      "cell_type": "raw",
      "metadata": {
        "id": "aSgDSZ6Ld84U"
      },
      "source": [
        "Desired Output:\n",
        "\n",
        "(-0.5, 75.5)"
      ]
    },
    {
      "cell_type": "code",
      "execution_count": null,
      "metadata": {
        "id": "ZBG9HE6nd84V"
      },
      "outputs": [],
      "source": [
        "# Your Code is Here\n",
        "\n"
      ]
    },
    {
      "cell_type": "raw",
      "metadata": {
        "id": "0sMY4pKHd84V"
      },
      "source": [
        "Desired Output:\n",
        "\n",
        "90    35\n",
        "76    30\n",
        "77    20\n",
        "80    16\n",
        "79    15\n",
        "81    14\n",
        "78    14\n",
        "84     8\n",
        "82     7\n",
        "83     5\n",
        "88     3\n",
        "85     3\n",
        "86     1\n",
        "Name: age, dtype: int64"
      ]
    },
    {
      "cell_type": "code",
      "execution_count": null,
      "metadata": {
        "id": "Jne-S_n7d84W"
      },
      "outputs": [],
      "source": [
        "# Define the observations whose age is greater than upper limit and sort these observations by age in descending order\n",
        "\n",
        "# Your Code is Here\n",
        "\n"
      ]
    },
    {
      "cell_type": "markdown",
      "metadata": {
        "id": "jUXJQIa1d84W"
      },
      "source": [
        "Desired Output:\n",
        "\n",
        "![image.png](https://i.ibb.co/x2wDgzQ/99.png)"
      ]
    },
    {
      "cell_type": "markdown",
      "metadata": {
        "id": "vlBdLCMhjwPT"
      },
      "source": [
        "### hours_per_week"
      ]
    },
    {
      "cell_type": "code",
      "execution_count": null,
      "metadata": {
        "id": "hXQUOHXFd84X"
      },
      "outputs": [],
      "source": [
        "# Your Code is Here\n",
        "\n"
      ]
    },
    {
      "cell_type": "markdown",
      "metadata": {
        "id": "DobcrqItd84X"
      },
      "source": [
        "Desired Output:\n",
        "\n",
        "![image.png](https://i.ibb.co/xq53X6w/100.png)"
      ]
    },
    {
      "cell_type": "code",
      "execution_count": null,
      "metadata": {
        "id": "4ShPgEdhd84Z"
      },
      "outputs": [],
      "source": [
        "# Find IQR defining quantile 0.25 for low level and 0.75 for high level \n",
        "\n",
        "# Your Code is Here\n",
        "\n"
      ]
    },
    {
      "cell_type": "raw",
      "metadata": {
        "id": "AYUXkXf6d84a"
      },
      "source": [
        "Desired Output:\n",
        "\n",
        "(40.0, 45.0, 5.0)"
      ]
    },
    {
      "cell_type": "code",
      "execution_count": null,
      "metadata": {
        "id": "DTfMrPQyd84a"
      },
      "outputs": [],
      "source": [
        "# Find the lower and upper limit using IQR\n",
        "\n",
        "# Your Code is Here\n",
        "\n"
      ]
    },
    {
      "cell_type": "raw",
      "metadata": {
        "id": "il6tgm1rd84b"
      },
      "source": [
        "Desired Output:\n",
        "\n",
        "(32.5, 52.5)"
      ]
    },
    {
      "cell_type": "code",
      "execution_count": null,
      "metadata": {
        "id": "Bd6RO6P3d84c"
      },
      "outputs": [],
      "source": [
        "# Your Code is Here\n",
        "\n"
      ]
    },
    {
      "cell_type": "raw",
      "metadata": {
        "id": "W89dfmnGd84c"
      },
      "source": [
        "Desired Output:\n",
        "\n",
        "99      80\n",
        "98      11\n",
        "97       2\n",
        "96       5\n",
        "95       2\n",
        "94       1\n",
        "92       1\n",
        "91       3\n",
        "90      28\n",
        "89       2\n",
        "88       2\n",
        "87       1\n",
        "86       2\n",
        "85      13\n",
        "84      41\n",
        "82       1\n",
        "81       3\n",
        "80     124\n",
        "78       8\n",
        "77       6\n",
        "76       3\n",
        "75      63\n",
        "74       1\n",
        "73       2\n",
        "72      68\n",
        "70     284\n",
        "68      12\n",
        "67       4\n",
        "66      17\n",
        "65     242\n",
        "64      14\n",
        "63      10\n",
        "62      18\n",
        "61       2\n",
        "60    1441\n",
        "59       5\n",
        "58      27\n",
        "57      17\n",
        "56      91\n",
        "55     683\n",
        "54      39\n",
        "53      23\n",
        "Name: hours_per_week, dtype: int64"
      ]
    },
    {
      "cell_type": "code",
      "execution_count": null,
      "metadata": {
        "id": "Wd6rWZ5vd84d"
      },
      "outputs": [],
      "source": [
        "# Define the observations where  hours per week are greater than upper limit and \n",
        "# sort these observations by hours per week in descending order\n",
        "\n",
        "# Your Code is Here\n",
        "\n"
      ]
    },
    {
      "cell_type": "markdown",
      "metadata": {
        "id": "Aub2t3_ed84d"
      },
      "source": [
        "Desired Output:\n",
        "\n",
        "![image.png](https://i.ibb.co/zGCnbjz/101.png)"
      ]
    },
    {
      "cell_type": "code",
      "execution_count": null,
      "metadata": {
        "id": "IJ3_4v-Vd84e"
      },
      "outputs": [],
      "source": [
        "# Your Code is Here\n",
        "\n"
      ]
    },
    {
      "cell_type": "raw",
      "metadata": {
        "id": "TEAde8VYd84e"
      },
      "source": [
        "Desired Output:\n",
        "\n",
        "1        8\n",
        "2       15\n",
        "3       24\n",
        "4       28\n",
        "5       39\n",
        "6       40\n",
        "7       20\n",
        "8      103\n",
        "9       17\n",
        "10     223\n",
        "11       9\n",
        "12     143\n",
        "13      19\n",
        "14      28\n",
        "15     350\n",
        "16     182\n",
        "17      27\n",
        "18      64\n",
        "19      14\n",
        "20    1066\n",
        "21      23\n",
        "22      39\n",
        "23      20\n",
        "24     220\n",
        "25     582\n",
        "26      30\n",
        "27      28\n",
        "28      74\n",
        "29       6\n",
        "30    1009\n",
        "31       5\n",
        "32     239\n",
        "Name: hours_per_week, dtype: int64"
      ]
    },
    {
      "cell_type": "code",
      "execution_count": null,
      "metadata": {
        "id": "kq63C5qxd84f"
      },
      "outputs": [],
      "source": [
        "# Your Code is Here\n",
        "\n"
      ]
    },
    {
      "cell_type": "markdown",
      "metadata": {
        "id": "2CXvg_TLd84f"
      },
      "source": [
        "Desired Output:\n",
        "\n",
        "![image.png](https://i.ibb.co/swYNtdM/102.png)"
      ]
    },
    {
      "cell_type": "code",
      "execution_count": null,
      "metadata": {
        "id": "1NOy5Oznd84f"
      },
      "outputs": [],
      "source": [
        "# Your Code is Here\n",
        "\n"
      ]
    },
    {
      "cell_type": "markdown",
      "metadata": {
        "id": "Z3abr6sfd84g"
      },
      "source": [
        "Desired Output:\n",
        "\n",
        "![image.png](https://i.ibb.co/S7RWpxD/103.png)"
      ]
    },
    {
      "cell_type": "markdown",
      "metadata": {
        "id": "0CJdRoYMjwPV"
      },
      "source": [
        "**Result :** As we see, there are number of extreme values in both \"age and hours_per_week\" features. But how can we know if these extreme values are outliers or not? At this point, **domain knowledge** comes to the fore.\n",
        "\n",
        "**Domain Knowledge for this dataset:**\n",
        "1. In this dataset, all values are created according to the statements of individuals. So It can be some \"data entries errors\".\n",
        "2. In addition, we have aimed to create an ML model with some restrictions as getting better performance from the ML model.\n",
        "3. In this respect, our sample space ranges for some features are as follows.\n",
        "    - **age : 17 to 80**\n",
        "    - **hours_per_week : 7 to 70**\n",
        "    - **if somebody's age is more than 60, he/she can't work more than 60 hours in a week**"
      ]
    },
    {
      "cell_type": "markdown",
      "metadata": {
        "id": "HE-2lkvajwPV"
      },
      "source": [
        "### Dropping rows according to the domain knownledge "
      ]
    },
    {
      "cell_type": "code",
      "execution_count": null,
      "metadata": {
        "id": "JLMT6u88d84h"
      },
      "outputs": [],
      "source": [
        "# Create a condition according to your domain knowledge on age stated above and \n",
        "# sort the observations meeting this condition by age in ascending order\n",
        "\n",
        "# Your Code is Here\n",
        "\n"
      ]
    },
    {
      "cell_type": "markdown",
      "metadata": {
        "id": "MU83ZRYbd84h"
      },
      "source": [
        "Desired Output:\n",
        "\n",
        "![image.png](https://i.ibb.co/pJC50ZV/104.png)"
      ]
    },
    {
      "cell_type": "code",
      "execution_count": null,
      "metadata": {
        "id": "STsnJtnyd84i"
      },
      "outputs": [],
      "source": [
        "# Find the shape of the dataframe created by the condition defined above for age \n",
        "\n",
        "# Your Code is Here\n",
        "\n"
      ]
    },
    {
      "cell_type": "raw",
      "metadata": {
        "id": "ViowDnbnd84j"
      },
      "source": [
        "Desired Output:\n",
        "\n",
        "(76, 13)"
      ]
    },
    {
      "cell_type": "code",
      "execution_count": null,
      "metadata": {
        "id": "zhezUaf8d84j"
      },
      "outputs": [],
      "source": [
        "# Assign the indices of the rows defined in accordance with condition above for age\n",
        "\n",
        "# Your Code is Here\n",
        "\n"
      ]
    },
    {
      "cell_type": "raw",
      "metadata": {
        "id": "pqBurVd9d84k"
      },
      "source": [
        "Desired Output:\n",
        "\n",
        "Int64Index([  222, 18832, 10545, 11512, 11996, 12975, 14159, 15892, 18277,\n",
        "            18413, 18725, 19212,  8973, 19489, 19747, 20610, 22220, 24043,\n",
        "            28463, 31030, 32277, 32367, 10210, 15356,  5370,  4070,  1040,\n",
        "             6232,  1935,  2303,  5272,  6624,  2891,  5406,  8806,  1168,\n",
        "            22895, 21835, 24027, 20463,  8381, 32459, 26731, 27795,  9471,\n",
        "             6214, 14711, 11238,  7720, 15662,  7481, 24395, 23459, 19172,\n",
        "            16302, 14756,  8431, 20421, 22481, 31855, 13696, 24280,  4834,\n",
        "            29594, 28948, 12830,   918, 13295, 24560,  3537, 13928, 19045,\n",
        "             6748,  2906, 21501, 19495],\n",
        "           dtype='int64')"
      ]
    },
    {
      "cell_type": "code",
      "execution_count": null,
      "metadata": {
        "id": "pT9Jx2TFd84k"
      },
      "outputs": [],
      "source": [
        "# Drop these indices defined above for age\n",
        "\n",
        "# Your Code is Here\n",
        "\n"
      ]
    },
    {
      "cell_type": "code",
      "execution_count": null,
      "metadata": {
        "id": "RiXNzk5gd84l"
      },
      "outputs": [],
      "source": [
        "# Create a condition according to your domain knowledge on hours per week stated above and \n",
        "# sort the observations meeting this condition by hours per week in descending order\n",
        "\n",
        "# Your Code is Here\n",
        "\n"
      ]
    },
    {
      "cell_type": "markdown",
      "metadata": {
        "id": "nEgyfvk4d84l"
      },
      "source": [
        "Desired Output:\n",
        "\n",
        "![image.png](https://i.ibb.co/rMp7C58/105.png)"
      ]
    },
    {
      "cell_type": "code",
      "execution_count": null,
      "metadata": {
        "id": "5ojN6zUPd84l"
      },
      "outputs": [],
      "source": [
        "# Find the shape of the dataframe created by the condition defined above for hours per week \n",
        "\n",
        "# Your Code is Here\n",
        "\n",
        "\n"
      ]
    },
    {
      "cell_type": "raw",
      "metadata": {
        "id": "OCr5sfjld84m"
      },
      "source": [
        "Desired Output:\n",
        "\n",
        "(621, 13)"
      ]
    },
    {
      "cell_type": "code",
      "execution_count": null,
      "metadata": {
        "id": "Op6p93_6d84m"
      },
      "outputs": [],
      "source": [
        "# Assign the indices of the rows defined in accordance with condition above for hours per week\n",
        "\n",
        "# Your Code is Here\n",
        "\n"
      ]
    },
    {
      "cell_type": "raw",
      "metadata": {
        "id": "upFDPEevd84n"
      },
      "source": [
        "Desired Output:\n",
        "\n",
        "Int64Index([22216,  5432, 19053, 19141, 19399, 19529, 19731, 19997, 20036,\n",
        "            21056,\n",
        "            ...\n",
        "             6180, 29867,  1036, 11451, 22960, 20909, 25078, 19750,   189,\n",
        "            24284],\n",
        "           dtype='int64', length=621)"
      ]
    },
    {
      "cell_type": "code",
      "execution_count": null,
      "metadata": {
        "id": "vu-jRK-Td84o"
      },
      "outputs": [],
      "source": [
        "# Drop these indices defined above for hours per week\n",
        "\n",
        "# Your Code is Here\n",
        "\n"
      ]
    },
    {
      "cell_type": "code",
      "execution_count": null,
      "metadata": {
        "id": "kqcmUG4Md84o"
      },
      "outputs": [],
      "source": [
        "# Create a condition according to your domain knowledge on both age and hours per week stated above \n",
        "\n",
        "# Your Code is Here\n",
        "\n"
      ]
    },
    {
      "cell_type": "markdown",
      "metadata": {
        "id": "qjYh7agGd84p"
      },
      "source": [
        "Desired Output:\n",
        "\n",
        "![image.png](https://i.ibb.co/Ch8XSdW/106.png)"
      ]
    },
    {
      "cell_type": "code",
      "execution_count": null,
      "metadata": {
        "id": "m7-5DN-Xd84p"
      },
      "outputs": [],
      "source": [
        "# Find the shape of the dataframe created by the condition defined above for both age and hours per week\n",
        "\n",
        "\n",
        "# Your Code is Here\n",
        "\n"
      ]
    },
    {
      "cell_type": "raw",
      "metadata": {
        "id": "gxXvBXPId84p"
      },
      "source": [
        "Desired Output:\n",
        "\n",
        "(23, 13)"
      ]
    },
    {
      "cell_type": "code",
      "execution_count": null,
      "metadata": {
        "id": "yYSX07-Td84q"
      },
      "outputs": [],
      "source": [
        "# Assign the indices of the rows defined in accordance with condition above for both age and hours per week\n",
        "\n",
        "# Your Code is Here\n",
        "\n"
      ]
    },
    {
      "cell_type": "raw",
      "metadata": {
        "id": "9pXJ7BjId84q"
      },
      "source": [
        "Desired Output:\n",
        "\n",
        "Int64Index([ 1541,  2154,  2184,  2665,  3101,  5417,  6826,  8066,  9646,\n",
        "            12624, 16634, 18367, 19584, 20125, 23399, 23585, 24903, 25910,\n",
        "            26625, 27721, 28294, 31342, 32192],\n",
        "           dtype='int64')"
      ]
    },
    {
      "cell_type": "code",
      "execution_count": null,
      "metadata": {
        "id": "jR-KXCivd84q"
      },
      "outputs": [],
      "source": [
        "# Drop these indices defined above for both age and hours per week\n",
        "\n",
        "# Your Code is Here\n",
        "\n"
      ]
    },
    {
      "cell_type": "code",
      "execution_count": null,
      "metadata": {
        "id": "IUnfC1O6d84r"
      },
      "outputs": [],
      "source": [
        "# What is new shape of dataframe now\n",
        "\n",
        "# Your Code is Here\n",
        "\n"
      ]
    },
    {
      "cell_type": "raw",
      "metadata": {
        "id": "fRFKDCatd84r"
      },
      "source": [
        "Desired Output:\n",
        "\n",
        "(29974, 13)"
      ]
    },
    {
      "cell_type": "code",
      "execution_count": null,
      "metadata": {
        "id": "DZB34Zn0d84s"
      },
      "outputs": [],
      "source": [
        "# Reset the indices and take the head of DataFrame now\n",
        "\n",
        "# Your Code is Here\n",
        "\n"
      ]
    },
    {
      "cell_type": "markdown",
      "metadata": {
        "id": "WHvTiS-jd84t"
      },
      "source": [
        "Desired Output:\n",
        "\n",
        "![image.png](https://i.ibb.co/5MXPD2b/107.png)"
      ]
    },
    {
      "cell_type": "markdown",
      "metadata": {
        "id": "CQ9PuUCZjwPa"
      },
      "source": [
        "## <p style=\"background-color:#47AC34; font-family:newtimeroman; color:#FFF9ED; font-size:175%; text-align:center; border-radius:10px 10px;\">Final Step to Make the Dataset Ready for ML Models</p>\n",
        "\n",
        "<a id=\"9\"></a>\n",
        "<a href=\"#toc\" class=\"btn btn-primary btn-sm\" role=\"button\" aria-pressed=\"true\" \n",
        "style=\"color:FFF9ED; background-color:#47AC34\" data-toggle=\"popover\">Content</a>"
      ]
    },
    {
      "cell_type": "markdown",
      "metadata": {
        "id": "slzCtnsnjwPa"
      },
      "source": [
        "### 1. Convert all features to numeric"
      ]
    },
    {
      "cell_type": "markdown",
      "metadata": {
        "id": "MvUDThmpjwPa"
      },
      "source": [
        "**Convert target feature (salary) to numeric (0 and 1) by using map function**"
      ]
    },
    {
      "cell_type": "code",
      "execution_count": null,
      "metadata": {
        "id": "MXkvbcWHd84v"
      },
      "outputs": [],
      "source": [
        "# Your Code is Here\n",
        "\n"
      ]
    },
    {
      "cell_type": "raw",
      "metadata": {
        "id": "uNiXQZdGd84v"
      },
      "source": [
        "Desired Output:\n",
        "\n",
        "0        0\n",
        "1        0\n",
        "2        0\n",
        "3        0\n",
        "4        0\n",
        "        ..\n",
        "29969    0\n",
        "29970    1\n",
        "29971    0\n",
        "29972    0\n",
        "29973    1\n",
        "Name: salary, Length: 29974, dtype: int64"
      ]
    },
    {
      "cell_type": "code",
      "execution_count": null,
      "metadata": {
        "id": "q_V2kRmhd84w"
      },
      "outputs": [],
      "source": [
        "# Your Code is Here\n",
        "\n"
      ]
    },
    {
      "cell_type": "raw",
      "metadata": {
        "id": "fSzqrEand84w"
      },
      "source": [
        "Desired Output:\n",
        "\n",
        "0    22524\n",
        "1     7450\n",
        "Name: salary, dtype: int64"
      ]
    },
    {
      "cell_type": "markdown",
      "metadata": {
        "id": "PsG-ZJftjwPb"
      },
      "source": [
        "**Convert all features to numeric by using get_dummies function**"
      ]
    },
    {
      "cell_type": "code",
      "execution_count": null,
      "metadata": {
        "id": "jqAHRrEbd84x"
      },
      "outputs": [],
      "source": [
        "# Your Code is Here\n",
        "\n"
      ]
    },
    {
      "cell_type": "markdown",
      "metadata": {
        "id": "cZsTz0NRd84y"
      },
      "source": [
        "Desired Output:\n",
        "\n",
        "![image.png](https://i.ibb.co/0F1SHRt/108.png)"
      ]
    },
    {
      "cell_type": "code",
      "execution_count": null,
      "metadata": {
        "id": "9RwcuaT2d84y"
      },
      "outputs": [],
      "source": [
        "# What's the shape of dataframe\n",
        "\n",
        "# Your Code is Here\n",
        "\n"
      ]
    },
    {
      "cell_type": "raw",
      "metadata": {
        "id": "r03l6qbqd84y"
      },
      "source": [
        "Desired Output:\n",
        "\n",
        "(29974, 13)"
      ]
    },
    {
      "cell_type": "code",
      "execution_count": null,
      "metadata": {
        "id": "Ux3bk8VEd84z"
      },
      "outputs": [],
      "source": [
        "# What's the shape of dataframe created by dummy operation\n",
        "\n",
        "# Your Code is Here\n",
        "\n"
      ]
    },
    {
      "cell_type": "raw",
      "metadata": {
        "id": "YMYgaS-ld84z"
      },
      "source": [
        "Desired Output:\n",
        "\n",
        "(29974, 34)"
      ]
    },
    {
      "cell_type": "markdown",
      "metadata": {
        "id": "YjCbYLcxjwPc"
      },
      "source": [
        "### 2. Take a look at correlation between features by utilizing power of visualizing"
      ]
    },
    {
      "cell_type": "code",
      "execution_count": null,
      "metadata": {
        "id": "2IY1a5a2d841"
      },
      "outputs": [],
      "source": [
        "# Your Code is Here\n",
        "\n"
      ]
    },
    {
      "cell_type": "markdown",
      "metadata": {
        "id": "O7hgcSn8d842"
      },
      "source": [
        "Desired Output:\n",
        "\n",
        "![image.png](https://i.ibb.co/Dgb8RYZ/109.png)"
      ]
    },
    {
      "cell_type": "code",
      "execution_count": null,
      "metadata": {
        "id": "CRPyTJbDd843"
      },
      "outputs": [],
      "source": [
        "# Your Code is Here\n",
        "\n"
      ]
    },
    {
      "cell_type": "markdown",
      "metadata": {
        "id": "bLLwUHYPd843"
      },
      "source": [
        "Desired Output:\n",
        "\n",
        "![image.png](https://i.ibb.co/5XH3X4q/110.png)"
      ]
    },
    {
      "cell_type": "code",
      "execution_count": null,
      "metadata": {
        "id": "_ShJA6OHd844"
      },
      "outputs": [],
      "source": [
        "# Your Code is Here\n",
        "\n"
      ]
    },
    {
      "cell_type": "markdown",
      "metadata": {
        "id": "5KqcQosyd845"
      },
      "source": [
        "Desired Output:\n",
        "\n",
        "![image.png](https://i.ibb.co/19RytkS/111.png)"
      ]
    },
    {
      "cell_type": "code",
      "execution_count": null,
      "metadata": {
        "id": "dFSidKIUd845"
      },
      "outputs": [],
      "source": [
        "# Your Code is Here\n",
        "\n"
      ]
    },
    {
      "cell_type": "markdown",
      "metadata": {
        "id": "gZlTrw2dd845"
      },
      "source": [
        "![image.png](https://i.ibb.co/80GcYKr/112.png)"
      ]
    },
    {
      "cell_type": "code",
      "execution_count": null,
      "metadata": {
        "id": "anvKE3jNd846"
      },
      "outputs": [],
      "source": [
        "# Your Code is Here\n",
        "\n"
      ]
    },
    {
      "cell_type": "markdown",
      "metadata": {
        "id": "Rwgi8zkKd846"
      },
      "source": [
        "Desired Output:\n",
        "\n",
        "![image.png](https://i.ibb.co/0MCPc4d/113.png)"
      ]
    },
    {
      "cell_type": "markdown",
      "metadata": {
        "id": "II2iQLeCjwPd"
      },
      "source": [
        "<a id=\"10\"></a>\n",
        "<a href=\"#toc\" class=\"btn btn-primary btn-sm\" role=\"button\" aria-pressed=\"true\" \n",
        "style=\"color:white; background-color:#47AC34\" data-toggle=\"popover\">Content</a>\n",
        "\n",
        "## <p style=\"background-color:#47AC34; font-family:arial; color:white; font-size:150%; text-align:center; border-radius:10px 10px;\">The End of the Project</p>\n",
        "\n",
        "___\n"
      ]
    },
    {
      "cell_type": "code",
      "execution_count": null,
      "metadata": {
        "id": "Gc1kUcVYd847"
      },
      "outputs": [],
      "source": []
    }
  ],
  "metadata": {
    "colab": {
      "collapsed_sections": [
        "tRENVPjsjwOO",
        "FWVwlGMnjwOO",
        "O-WjXfO7jwOQ",
        "UVjAplv8jwOQ",
        "HOIESqNjjwOT",
        "6MCscpw1jwOV",
        "9Xgur7CdjwOY",
        "x6Q6OxR6jwOa",
        "jWt2NRMNjwOd",
        "KoqL-m8HjwOd",
        "r2MBtjItjwOd",
        "vqWCeRBujwOr",
        "ZjfFoHZTjwOx",
        "KxHaqS4mjwO2",
        "eoAUdH20jwO6",
        "-atLCuBJjwO8",
        "Q1AO-wkrjwO_",
        "aQo2OjRBjwPE",
        "4Nzi2KokjwPE",
        "Atr3vfcKjwPF",
        "7CvSp9f7jwPF",
        "F7sK9___jwPG",
        "7qqMjUE9jwPG",
        "R5sVvHBYjwPH",
        "tct5KTULjwPH",
        "-_TS1bdWjwPH",
        "OqhEXvvtjwPJ",
        "A96k9zQ-jwPJ",
        "9s-OW2OwjwPR",
        "vlBdLCMhjwPT",
        "HE-2lkvajwPV",
        "CQ9PuUCZjwPa",
        "slzCtnsnjwPa",
        "YjCbYLcxjwPc",
        "II2iQLeCjwPd"
      ],
      "provenance": []
    },
    "kernelspec": {
      "display_name": "Python 3",
      "language": "python",
      "name": "python3"
    },
    "language_info": {
      "codemirror_mode": {
        "name": "ipython",
        "version": 3
      },
      "file_extension": ".py",
      "mimetype": "text/x-python",
      "name": "python",
      "nbconvert_exporter": "python",
      "pygments_lexer": "ipython3",
      "version": "3.10.5"
    },
    "toc": {
      "base_numbering": 1,
      "nav_menu": {},
      "number_sections": false,
      "sideBar": true,
      "skip_h1_title": false,
      "title_cell": "Table of Contents",
      "title_sidebar": "Contents",
      "toc_cell": false,
      "toc_position": {},
      "toc_section_display": true,
      "toc_window_display": false
    }
  },
  "nbformat": 4,
  "nbformat_minor": 0
}